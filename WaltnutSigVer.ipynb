{
  "cells": [
    {
      "cell_type": "markdown",
      "metadata": {
        "id": "J9KXNp4Pc0MS"
      },
      "source": [
        "---\n",
        "\n",
        "WALTNUTDSA - SIGNATURE AND VERIFICATION\n",
        "\n",
        "---\n",
        "\n"
      ]
    },
    {
      "cell_type": "markdown",
      "metadata": {
        "id": "ybjoi4hsfuvn"
      },
      "source": [
        "## CAMPOS FINITOS"
      ]
    },
    {
      "cell_type": "markdown",
      "metadata": {
        "id": "Kg1fuVTigPqk"
      },
      "source": [
        "Instalamos la biblioteca `pyfinite`, que maneja campos finitos y sus operaciones subyacentes. Esta será necesaria para trabajar con campos finitos al definir las matrices de Burau y la E-Multiplication asociadas al grupo de trenzas."
      ]
    },
    {
      "cell_type": "code",
      "execution_count": 1,
      "metadata": {
        "colab": {
          "base_uri": "https://localhost:8080/"
        },
        "id": "02M5Eot1dz2o",
        "outputId": "7fc88f1d-e6f1-4326-8c7e-ba6a67440ac1"
      },
      "outputs": [
        {
          "output_type": "stream",
          "name": "stdout",
          "text": [
            "Collecting pyfinite\n",
            "  Downloading pyfinite-1.9.1.tar.gz (27 kB)\n",
            "  Preparing metadata (setup.py) ... \u001b[?25l\u001b[?25hdone\n",
            "Collecting msgpack-python (from pyfinite)\n",
            "  Downloading msgpack-python-0.5.6.tar.gz (138 kB)\n",
            "\u001b[2K     \u001b[90m━━━━━━━━━━━━━━━━━━━━━━━━━━━━━━━━━━━━━━━━\u001b[0m \u001b[32m139.0/139.0 kB\u001b[0m \u001b[31m1.6 MB/s\u001b[0m eta \u001b[36m0:00:00\u001b[0m\n",
            "\u001b[?25h  Preparing metadata (setup.py) ... \u001b[?25l\u001b[?25hdone\n",
            "Building wheels for collected packages: pyfinite, msgpack-python\n",
            "  Building wheel for pyfinite (setup.py) ... \u001b[?25l\u001b[?25hdone\n",
            "  Created wheel for pyfinite: filename=pyfinite-1.9.1-py3-none-any.whl size=30390 sha256=0a7b48e8dff6168d2b043311c560a44c18c54d3de263e962225691268094d061\n",
            "  Stored in directory: /root/.cache/pip/wheels/85/1c/5a/c6deeb4558a2b70cbdc26c17041b2af9f25e1f0735da6389f5\n",
            "  Building wheel for msgpack-python (setup.py) ... \u001b[?25l\u001b[?25hdone\n",
            "  Created wheel for msgpack-python: filename=msgpack_python-0.5.6-cp310-cp310-linux_x86_64.whl size=239873 sha256=2c5768ca8ce65c582e897711b68c3f7defc0eac2ba3caf318e9cf33edc00e874\n",
            "  Stored in directory: /root/.cache/pip/wheels/36/15/c0/6abd0b35e76ca9d00823d197c98d947d45670fcfe9b7e7416a\n",
            "Successfully built pyfinite msgpack-python\n",
            "Installing collected packages: msgpack-python, pyfinite\n",
            "Successfully installed msgpack-python-0.5.6 pyfinite-1.9.1\n"
          ]
        }
      ],
      "source": [
        "!pip install pyfinite"
      ]
    },
    {
      "cell_type": "markdown",
      "metadata": {
        "id": "BrdWpq1ekq1-"
      },
      "source": [
        "Esta biblioteca ofrece la clase `FField` del módulo `pyfinite.ffield`, la cual implementa toda la estructura de campos finitos."
      ]
    },
    {
      "cell_type": "code",
      "execution_count": 2,
      "metadata": {
        "id": "gQgNv5jef0Kh"
      },
      "outputs": [],
      "source": [
        "from pyfinite import ffield\n",
        "# La siguiente línea permite ver la documentación de la clase FField, si es\n",
        "# necesario\n",
        "#help(ffield.FField)"
      ]
    },
    {
      "cell_type": "markdown",
      "metadata": {
        "id": "I2FPrCPSjr5b"
      },
      "source": [
        "Describamos el campo finito $\\mathbb{F}_{32}$ como ejemplo de uso de la clase `FField`. Recordemos que cada elemento del campo se puede representar mediante un polinomio\n",
        "en el anillo cociente $\\mathbb{F}_{2}[x] / (f)$, donde $f$ es el polinomio\n",
        "irreducible $x^5 + x^2 + 1$."
      ]
    },
    {
      "cell_type": "code",
      "execution_count": 3,
      "metadata": {
        "colab": {
          "base_uri": "https://localhost:8080/"
        },
        "id": "-1tT0FF4hcvd",
        "outputId": "3c5af24e-8674-4f42-f257-b9d07d7ff8a3"
      },
      "outputs": [
        {
          "output_type": "stream",
          "name": "stdout",
          "text": [
            "Correspondencia entre elemento n-ésimo y polinomio en el cociente:\n",
            "Elemento: 0   -->   Representación polinómica: 0\n",
            "Elemento: 1   -->   Representación polinómica: 1\n",
            "Elemento: 2   -->   Representación polinómica: x^1\n",
            "Elemento: 3   -->   Representación polinómica: x^1 + 1\n",
            "Elemento: 4   -->   Representación polinómica: x^2\n",
            "Elemento: 5   -->   Representación polinómica: x^2 + 1\n",
            "Elemento: 6   -->   Representación polinómica: x^2 + x^1\n",
            "Elemento: 7   -->   Representación polinómica: x^2 + x^1 + 1\n",
            "Elemento: 8   -->   Representación polinómica: x^3\n",
            "Elemento: 9   -->   Representación polinómica: x^3 + 1\n",
            "Elemento: 10  -->   Representación polinómica: x^3 + x^1\n",
            "Elemento: 11  -->   Representación polinómica: x^3 + x^1 + 1\n",
            "Elemento: 12  -->   Representación polinómica: x^3 + x^2\n",
            "Elemento: 13  -->   Representación polinómica: x^3 + x^2 + 1\n",
            "Elemento: 14  -->   Representación polinómica: x^3 + x^2 + x^1\n",
            "Elemento: 15  -->   Representación polinómica: x^3 + x^2 + x^1 + 1\n",
            "Elemento: 16  -->   Representación polinómica: x^4\n",
            "Elemento: 17  -->   Representación polinómica: x^4 + 1\n",
            "Elemento: 18  -->   Representación polinómica: x^4 + x^1\n",
            "Elemento: 19  -->   Representación polinómica: x^4 + x^1 + 1\n",
            "Elemento: 20  -->   Representación polinómica: x^4 + x^2\n",
            "Elemento: 21  -->   Representación polinómica: x^4 + x^2 + 1\n",
            "Elemento: 22  -->   Representación polinómica: x^4 + x^2 + x^1\n",
            "Elemento: 23  -->   Representación polinómica: x^4 + x^2 + x^1 + 1\n",
            "Elemento: 24  -->   Representación polinómica: x^4 + x^3\n",
            "Elemento: 25  -->   Representación polinómica: x^4 + x^3 + 1\n",
            "Elemento: 26  -->   Representación polinómica: x^4 + x^3 + x^1\n",
            "Elemento: 27  -->   Representación polinómica: x^4 + x^3 + x^1 + 1\n",
            "Elemento: 28  -->   Representación polinómica: x^4 + x^3 + x^2\n",
            "Elemento: 29  -->   Representación polinómica: x^4 + x^3 + x^2 + 1\n",
            "Elemento: 30  -->   Representación polinómica: x^4 + x^3 + x^2 + x^1\n",
            "Elemento: 31  -->   Representación polinómica: x^4 + x^3 + x^2 + x^1 + 1\n",
            "\n",
            "Operaciones aritméticas básicas\n",
            "Suma de los elementos 10 y 5: 1\n",
            "Resta de los elementos 2 y 27: x^4 + x^3 + 1\n",
            "Producto de los elementos 12 y 19: x^3 + x^1\n",
            "División de los elementos 20 y 10: x^1\n",
            "\n",
            "Listamos los inversos de cada elemento:\n",
            "Elemento  1: 1                          -->   Inverso  1 : 1\n",
            "Elemento  2: x^1                        -->   Inverso 18 : x^4 + x^1\n",
            "Elemento  3: x^1 + 1                    -->   Inverso 28 : x^4 + x^3 + x^2\n",
            "Elemento  4: x^2                        -->   Inverso  9 : x^3 + 1\n",
            "Elemento  5: x^2 + 1                    -->   Inverso 23 : x^4 + x^2 + x^1 + 1\n",
            "Elemento  6: x^2 + x^1                  -->   Inverso 14 : x^3 + x^2 + x^1\n",
            "Elemento  7: x^2 + x^1 + 1              -->   Inverso 12 : x^3 + x^2\n",
            "Elemento  8: x^3                        -->   Inverso 22 : x^4 + x^2 + x^1\n",
            "Elemento  9: x^3 + 1                    -->   Inverso  4 : x^2\n",
            "Elemento 10: x^3 + x^1                  -->   Inverso 25 : x^4 + x^3 + 1\n",
            "Elemento 11: x^3 + x^1 + 1              -->   Inverso 16 : x^4\n",
            "Elemento 12: x^3 + x^2                  -->   Inverso  7 : x^2 + x^1 + 1\n",
            "Elemento 13: x^3 + x^2 + 1              -->   Inverso 15 : x^3 + x^2 + x^1 + 1\n",
            "Elemento 14: x^3 + x^2 + x^1            -->   Inverso  6 : x^2 + x^1\n",
            "Elemento 15: x^3 + x^2 + x^1 + 1        -->   Inverso 13 : x^3 + x^2 + 1\n",
            "Elemento 16: x^4                        -->   Inverso 11 : x^3 + x^1 + 1\n",
            "Elemento 17: x^4 + 1                    -->   Inverso 24 : x^4 + x^3\n",
            "Elemento 18: x^4 + x^1                  -->   Inverso  2 : x^1\n",
            "Elemento 19: x^4 + x^1 + 1              -->   Inverso 29 : x^4 + x^3 + x^2 + 1\n",
            "Elemento 20: x^4 + x^2                  -->   Inverso 30 : x^4 + x^3 + x^2 + x^1\n",
            "Elemento 21: x^4 + x^2 + 1              -->   Inverso 26 : x^4 + x^3 + x^1\n",
            "Elemento 22: x^4 + x^2 + x^1            -->   Inverso  8 : x^3\n",
            "Elemento 23: x^4 + x^2 + x^1 + 1        -->   Inverso  5 : x^2 + 1\n",
            "Elemento 24: x^4 + x^3                  -->   Inverso 17 : x^4 + 1\n",
            "Elemento 25: x^4 + x^3 + 1              -->   Inverso 10 : x^3 + x^1\n",
            "Elemento 26: x^4 + x^3 + x^1            -->   Inverso 21 : x^4 + x^2 + 1\n",
            "Elemento 27: x^4 + x^3 + x^1 + 1        -->   Inverso 31 : x^4 + x^3 + x^2 + x^1 + 1\n",
            "Elemento 28: x^4 + x^3 + x^2            -->   Inverso  3 : x^1 + 1\n",
            "Elemento 29: x^4 + x^3 + x^2 + 1        -->   Inverso 19 : x^4 + x^1 + 1\n",
            "Elemento 30: x^4 + x^3 + x^2 + x^1      -->   Inverso 20 : x^4 + x^2\n",
            "Elemento 31: x^4 + x^3 + x^2 + x^1 + 1  -->   Inverso 27 : x^4 + x^3 + x^1 + 1\n"
          ]
        }
      ],
      "source": [
        "# Creamos el campo finito de 32 elementos (2^5)\n",
        "F32 = ffield.FField(5)\n",
        "\n",
        "# Veamos como se construye dicho campo, visualizando la correspondencia entre el\n",
        "# elemento n-ésimo del campo y el polinomio asociado en el anillo cociente\n",
        "# considerado\n",
        "print(\"Correspondencia entre elemento n-ésimo y polinomio en el cociente:\")\n",
        "for i in range(32):\n",
        "  print(\"Elemento: {}  -->   Representación polinómica: {}\".format(\n",
        "      str(i).ljust(2), F32.ShowPolynomial(i)))\n",
        "\n",
        "# Realizamos operaciones aritméticas básicas\n",
        "suma_10_5 = F32.Add(30,31)\n",
        "resta_2_27 = F32.Subtract(2,27)\n",
        "producto_12_19 = F32.Multiply(12,19)\n",
        "division_20_10 = F32.Divide(20,10)\n",
        "\n",
        "print(\"\\nOperaciones aritméticas básicas\")\n",
        "print(\"Suma de los elementos 10 y 5:\", F32.ShowPolynomial(suma_10_5))\n",
        "print(\"Resta de los elementos 2 y 27:\", F32.ShowPolynomial(resta_2_27))\n",
        "print(\"Producto de los elementos 12 y 19:\", F32.ShowPolynomial(producto_12_19))\n",
        "print(\"División de los elementos 20 y 10:\", F32.ShowPolynomial(division_20_10))\n",
        "\n",
        "# Listamos los inversos de cada elemento (exceptuando el 0,\n",
        "# que no es invertible)\n",
        "print(\"\\nListamos los inversos de cada elemento:\")\n",
        "for i in range(32):\n",
        "  if(i != 0):\n",
        "    inverso = F32.Inverse(i)\n",
        "    print(\"Elemento {}: {}  -->   Inverso {} : {}\".format(str(i).rjust(2),\n",
        "            F32.ShowPolynomial(i).ljust(25), str(inverso).rjust(2),\n",
        "            F32.ShowPolynomial(inverso)))"
      ]
    },
    {
      "cell_type": "markdown",
      "metadata": {
        "id": "2_enaAkFJBXs"
      },
      "source": [
        "*LA SUMA Y LA RESTA DEL CUERPO SE EXTIENDEN A ARRAYS*"
      ]
    },
    {
      "cell_type": "code",
      "execution_count": 4,
      "metadata": {
        "colab": {
          "base_uri": "https://localhost:8080/"
        },
        "id": "swSPTGst1I6C",
        "outputId": "624ff5e6-0e7c-4499-dbad-d365b895f137"
      },
      "outputs": [
        {
          "output_type": "stream",
          "name": "stdout",
          "text": [
            "Matrices  M1 y M2 a operar:\n",
            "\n",
            " [[1 2]\n",
            " [1 3]]\n",
            "\n",
            " [[15  0]\n",
            " [ 1  1]]\n",
            "\n",
            "Suma de matrices en F32:\n",
            " [[14  2]\n",
            " [ 0  2]]\n",
            "\n",
            "Vectores v1 y v2 a operar:\n",
            "V1 =  [1 2 3] V2 = [4 5 6]\n",
            "\n",
            "Resta de vectores en F32:\n",
            " [5 7 5]\n",
            "\n",
            "Los métodos 'Multiply' y 'Divide' no soportan la entrada de vectores/matrices como parámetros.\n"
          ]
        }
      ],
      "source": [
        "import numpy as np\n",
        "\n",
        "# Definimos dos matrices sobre el campo finito F32 (realmente definimos su\n",
        "# su representación mediante la matriz de sus identificadores)\n",
        "m1 = np.array([[1,2],[1,3]])\n",
        "m2 = np.array([[15,0],[1,1]])\n",
        "\n",
        "m_sum = F32.Add(m1,m2) # Sumamos ambas matrices en el campo\n",
        "print(\"Matrices  M1 y M2 a operar:\")\n",
        "print(\"\\n\", m1)\n",
        "print(\"\\n\", m2)\n",
        "print(\"\\nSuma de matrices en F32:\\n\", m_sum)\n",
        "\n",
        "# Definimos dos vectores sobre el campo finito F32 (análogamente, se definen sus\n",
        "# identificadores)\n",
        "v1 = np.array([1,2,3])\n",
        "v2 = np.array([4,5,6])\n",
        "\n",
        "v_sub = F32.Subtract(v1, v2)  # Restamos ambos vectores en el campo\n",
        "print(\"\\nVectores v1 y v2 a operar:\")\n",
        "print(\"V1 = \", v1, \"V2 =\", v2)\n",
        "print(\"\\nResta de vectores en F32:\\n\", v_sub)\n",
        "\n",
        "print(\"\\nLos métodos 'Multiply' y 'Divide' no soportan la entrada de \\\n",
        "vectores/matrices como parámetros.\")\n"
      ]
    },
    {
      "cell_type": "markdown",
      "metadata": {
        "id": "vqY6HTDtzXmN"
      },
      "source": [
        "# PERMUTACIONES"
      ]
    },
    {
      "cell_type": "markdown",
      "metadata": {
        "id": "FQjNcm8ucuxh"
      },
      "source": [
        "El grupo $\\mathbb{S}_{n}$ de permutaciones se utiliza en dos casos principales:\n",
        "\n",
        "1. Representación de Burau: Además de la matriz de Burau, la representación de Burau de una trenza $b$ incluye  la permutación $s$ asociada a la trenza, dándose $\\phi(b) = s$ para $\\phi : \\mathbb{B}_{n} ⟶ \\mathbb{S}_{n}$ la proyección natural de trenzas.\n",
        "\n",
        "2. Matriz de Burau de una trenza de longitud mayor a 1: Las matrices de Burau de trenzas arbitrarias se definen mediante el \"producto\" recursivo de las matrices asociadas a los generadores de la trenza. Este \"producto\" $B_1 * B_2$ aplica previamente la permutación del primer generador a $B_2$, definiéndose como $\\mathbb{B}_1 * \\mathbb{B}_2 = \\mathbb{B}_1 \\cdot {}^{s_1}\\!\\mathbb{B}_2$. La permutación se aplica sobre el conjunto de t-values considerados en las matrices. Para una palabra de longitud arbitraria, se compone recursivamente dicho producto.\n",
        "\n",
        "3. E-Multiplication: El mismo procedimiento explicado en el punto anterior, se utiliza para definir inductivamente la E-Multiplication con trenzas de longitud mayor a 1.\n",
        "\n",
        "Está claro que estos puntos nos inducen a almacenar la permutación asociada a una trenza. También se podría considerar la opción de tener un método para las trenzas que calcule su permutación asociada en un momento dado:\n",
        "\n",
        "1. Si añadimos la permutación asociada a la trenza como atributo del objeto, mantendríamos y actualizaríamos tal objeto operando sobre las propias permutaciones, estando la posibilidad de que el grupo de permutaciones ya esté resuelto por alguna biblioteca.\n",
        "2. Si implementamos la recuperación de la permutación a partir de la trenza, evitamos \"duplicar\" información pero corremos el riesgo de no acceder a la permutación eficientemente en las múltiples ocasiones que será necesario.\n",
        "\n",
        "Nos decantamos por la primera opción."
      ]
    },
    {
      "cell_type": "code",
      "execution_count": 5,
      "metadata": {
        "colab": {
          "base_uri": "https://localhost:8080/"
        },
        "id": "UsXq4DZ_jwrj",
        "outputId": "ec74821b-a6eb-4943-c5e6-14a75e2c7cea"
      },
      "outputs": [
        {
          "output_type": "stream",
          "name": "stdout",
          "text": [
            "Permutación 1: (2)(0 1)\n",
            "Permutación 2: (0 2)\n",
            "Permutación 3: (0 1 2)\n",
            "Permutación con varios ciclos: (1 4 2)\n",
            "Composición de las 3 permutaciones: (0 2 1)\n",
            "\n",
            "Conjunto inicial: ['rojo', 'azul', 'amarillo']\n",
            "Conjunto permutado 1: ['azul', 'rojo', 'amarillo']\n",
            "Conjunto permutado 2: ['amarillo', 'azul', 'rojo']\n",
            "Conjunto permutado 3: ['azul', 'amarillo', 'rojo']\n",
            "Conjunto permutado 123: ['amarillo', 'rojo', 'azul']\n",
            "\n",
            "El grupo de simétrico no es abeliano, y además recordemos que el orden de \n",
            "aplicación es igual que con las funciones ( perm_i * perm_j = perm_i(perm_j) ):\n",
            "Permutación 4: (0 1 2)\n",
            "Permutación 5: (1 2)\n",
            "perm4 * perm5 = (0 2)\n",
            "perm5 * perm4 = (2)(0 1)\n",
            "\n",
            "PERMUTACIONES INVERSAS:\n",
            "\n",
            "Permutación 1: (2)(0 1) -->  Inversa Permutación 1: (2)(0 1)\n",
            "\n",
            "Permutación 2: (0 2) -->  Inversa Permutación 2: (0 2)\n",
            "\n",
            "Permutación 3: (0 1 2) -->  Inversa Permutación 3: (0 2 1)\n",
            "\n",
            "Permutación 4: (0 1 2) -->  Inversa Permutación 4: (0 2 1)\n",
            "\n",
            "Permutación 5: (1 2) -->  Inversa Permutación 5: (1 2)\n"
          ]
        }
      ],
      "source": [
        "from sympy.combinatorics import Permutation\n",
        "\n",
        "# Definir permutaciones\n",
        "perm1 = Permutation([1, 0, 2]) # Definimos la posición de todos los elementos\n",
        "perm2 = Permutation([2, 1, 0])\n",
        "perm3 = Permutation(1, 2, 0)   # El ciclo define la permutación\n",
        "perm_ciclos = Permutation(1,2)(2,4)\n",
        "\n",
        "print(\"Permutación 1:\", perm1)\n",
        "print(\"Permutación 2:\", perm2)\n",
        "print(\"Permutación 3:\", perm3)\n",
        "print(\"Permutación con varios ciclos:\", perm_ciclos)\n",
        "\n",
        "# Componer permutaciones\n",
        "perm_composed = perm1 * perm2 * perm3\n",
        "print(\"Composición de las 3 permutaciones:\", perm_composed)\n",
        "\n",
        "# Aplicar la permutación a un conjunto de elementos\n",
        "conjunto = ['rojo', 'azul', 'amarillo']\n",
        "print(\"\\nConjunto inicial:\", conjunto)\n",
        "conjunto_permutado1 = [conjunto[i] for i in perm1.array_form]\n",
        "print(\"Conjunto permutado 1:\", conjunto_permutado1)\n",
        "conjunto_permutado2 = [conjunto[i] for i in perm2.array_form]\n",
        "print(\"Conjunto permutado 2:\", conjunto_permutado2)\n",
        "conjunto_permutado3 = [conjunto[i] for i in perm3.array_form]\n",
        "print(\"Conjunto permutado 3:\", conjunto_permutado3)\n",
        "conjunto_permutado123 = [conjunto[i] for i in perm_composed.array_form]\n",
        "print(\"Conjunto permutado 123:\", conjunto_permutado123)\n",
        "\n",
        "# Recordemos que el grupo simétrico Sn no es conmutativo\n",
        "perm4 = Permutation([1, 2, 0])\n",
        "perm5 = Permutation([0, 2, 1])\n",
        "print(\"\\nEl grupo de simétrico no es abeliano, y además recordemos que el\\\n",
        " orden de \\naplicación es igual que con las funciones\\\n",
        " ( perm_i * perm_j = perm_i(perm_j) ):\")\n",
        "print(\"Permutación 4:\", perm4)\n",
        "print(\"Permutación 5:\", perm5)\n",
        "\n",
        "perm45 = perm4 * perm5\n",
        "perm54 = perm5 * perm4\n",
        "print(\"perm4 * perm5 =\", perm45)\n",
        "print(\"perm5 * perm4 =\", perm54)\n",
        "\n",
        "# Inversa de una permutacion\n",
        "print(\"\\nPERMUTACIONES INVERSAS:\")\n",
        "print(\"\\nPermutación 1:\", perm1, \"-->  Inversa Permutación 1:\", perm1**(-1))\n",
        "print(\"\\nPermutación 2:\", perm2, \"-->  Inversa Permutación 2:\", perm2**(-1))\n",
        "print(\"\\nPermutación 3:\", perm3, \"-->  Inversa Permutación 3:\", perm3**(-1))\n",
        "print(\"\\nPermutación 4:\", perm4, \"-->  Inversa Permutación 4:\", perm4**(-1))\n",
        "print(\"\\nPermutación 5:\", perm5, \"-->  Inversa Permutación 5:\", perm5**(-1))"
      ]
    },
    {
      "cell_type": "markdown",
      "metadata": {
        "id": "upuu-dgzwygf"
      },
      "source": [
        "Consideramos dos opciones para aplicar una permutación sobre un conjunto:\n",
        "\n",
        "1. Desarrollo manual de la permutación:\n",
        "\n",
        "        conjunto_permutado = [conjunto_manual[i-1] for i in permutacion_arbitraria]\n",
        "\n",
        "2. Operaciones vectorizadas Numpy:\n",
        "     \n",
        "        conjunto_permutado = conjunto_np[permutacion_arbitraria.array_form]\n",
        "\n",
        "Estudiemos que opción es más eficiente con distintos tamaños de conjuntos y cantidad de permutaciones:"
      ]
    },
    {
      "cell_type": "code",
      "execution_count": 6,
      "metadata": {
        "colab": {
          "base_uri": "https://localhost:8080/"
        },
        "id": "JX-_hHCRnwrW",
        "outputId": "caf2bd42-2001-42f0-a8f3-94e85c3028f1"
      },
      "outputs": [
        {
          "output_type": "stream",
          "name": "stdout",
          "text": [
            "Pruebas para conjuntos pequeños y pocas permutaciones\n",
            "Tiempo con lista de comprensión: 3.808200000321449e-05\n",
            "Tiempo con Numpy vectorizado: 6.712499998684507e-05\n",
            "\n",
            "Pruebas para conjuntos pequeños y muchas permutaciones\n",
            "Tiempo con lista de comprensión: 0.33832689499999447\n",
            "Tiempo con Numpy vectorizado: 0.5154845980000005\n",
            "\n",
            "Pruebas para conjuntos grandes y pocas permutaciones\n",
            "Tiempo con lista de comprensión: 0.03345727600000714\n",
            "Tiempo con Numpy vectorizado: 0.00676784899999916\n",
            "\n",
            "Pruebas para conjuntos grandes y muchas permutaciones\n",
            "Tiempo con lista de comprensión: 6.842312864000007\n",
            "Tiempo con Numpy vectorizado: 2.836436744000025\n"
          ]
        }
      ],
      "source": [
        "import timeit\n",
        "import numpy as np\n",
        "\n",
        "conjunto_largo_manual = list(range(10))\n",
        "conjunto_largo_np = np.array(conjunto_largo_manual)\n",
        "\n",
        "permutacion_arbitraria = Permutation(np.random.permutation(10))\n",
        "\n",
        "# Medimos el tiempo de ejecución de la opción de desarrollo manual de la lista\n",
        "tiempo_lista = timeit.timeit(\n",
        "    \"conjunto_permutado = [conjunto_largo_manual[i-1] for i in permutacion_arbitraria]\",\n",
        "    globals = globals(),\n",
        "    number = 1  # Número de veces que se ejecuta la operación\n",
        ")\n",
        "\n",
        "# Medimos el tiempo de ejecución de la opción con operaciones vectorizadas de Numpy\n",
        "tiempo_numpy = timeit.timeit(\n",
        "    \"conjunto_permutado = conjunto_largo_np[permutacion_arbitraria.array_form]\",\n",
        "    globals = globals(),\n",
        "    number = 1  # Número de veces que se ejecuta la operación\n",
        ")\n",
        "\n",
        "print(\"Pruebas para conjuntos pequeños y pocas permutaciones\")\n",
        "print(\"Tiempo con lista de comprensión:\", tiempo_lista)\n",
        "print(\"Tiempo con Numpy vectorizado:\", tiempo_numpy)\n",
        "\n",
        "conjunto_largo_manual = list(range(10))\n",
        "conjunto_largo_np = np.array(conjunto_largo_manual)\n",
        "\n",
        "permutacion_arbitraria = Permutation(np.random.permutation(10))\n",
        "\n",
        "# Medimos el tiempo de ejecución de la opción de desarrollo manual de la lista\n",
        "tiempo_lista = timeit.timeit(\n",
        "    \"conjunto_permutado = [conjunto_largo_manual[i-1] for i in permutacion_arbitraria]\",\n",
        "    globals = globals(),\n",
        "    number = 100000  # Número de veces que se ejecuta la operación\n",
        ")\n",
        "\n",
        "# Medimos el tiempo de ejecución de la opción con operaciones vectorizadas de Numpy\n",
        "tiempo_numpy = timeit.timeit(\n",
        "    \"conjunto_permutado = conjunto_largo_np[permutacion_arbitraria.array_form]\",\n",
        "    globals = globals(),\n",
        "    number = 100000  # Número de veces que se ejecuta la operación\n",
        ")\n",
        "\n",
        "print(\"\\nPruebas para conjuntos pequeños y muchas permutaciones\")\n",
        "print(\"Tiempo con lista de comprensión:\", tiempo_lista)\n",
        "print(\"Tiempo con Numpy vectorizado:\", tiempo_numpy)\n",
        "\n",
        "conjunto_largo_manual = list(range(100000))\n",
        "conjunto_largo_np = np.array(conjunto_largo_manual)\n",
        "\n",
        "permutacion_arbitraria = Permutation(np.random.permutation(100000))\n",
        "\n",
        "# Medimos el tiempo de ejecución de la opción de desarrollo manual de la lista\n",
        "tiempo_lista = timeit.timeit(\n",
        "    \"conjunto_permutado = [conjunto_largo_manual[i-1] for i in permutacion_arbitraria]\",\n",
        "    globals = globals(),\n",
        "    number = 1  # Número de veces que se ejecuta la operación\n",
        ")\n",
        "\n",
        "# Medimos el tiempo de ejecución de la opción con operaciones vectorizadas de Numpy\n",
        "tiempo_numpy = timeit.timeit(\n",
        "    \"conjunto_permutado = conjunto_largo_np[permutacion_arbitraria.array_form]\",\n",
        "    globals = globals(),\n",
        "    number = 1  # Número de veces que se ejecuta la operación\n",
        ")\n",
        "\n",
        "print(\"\\nPruebas para conjuntos grandes y pocas permutaciones\")\n",
        "print(\"Tiempo con lista de comprensión:\", tiempo_lista)\n",
        "print(\"Tiempo con Numpy vectorizado:\", tiempo_numpy)\n",
        "\n",
        "conjunto_largo_manual = list(range(100000))\n",
        "conjunto_largo_np = np.array(conjunto_largo_manual)\n",
        "\n",
        "permutacion_arbitraria = Permutation(np.random.permutation(100000))\n",
        "\n",
        "# Medimos el tiempo de ejecución de la opción de desarrollo manual de la lista\n",
        "tiempo_lista = timeit.timeit(\n",
        "    \"conjunto_permutado = [conjunto_largo_manual[i-1] for i in permutacion_arbitraria]\",\n",
        "    globals = globals(),\n",
        "    number = 100  # Número de veces que se ejecuta la operación\n",
        ")\n",
        "\n",
        "# Medimos el tiempo de ejecución de la opción con operaciones vectorizadas de Numpy\n",
        "tiempo_numpy = timeit.timeit(\n",
        "    \"conjunto_permutado = conjunto_largo_np[permutacion_arbitraria.array_form]\",\n",
        "    globals = globals(),\n",
        "    number = 100  # Número de veces que se ejecuta la operación\n",
        ")\n",
        "\n",
        "print(\"\\nPruebas para conjuntos grandes y muchas permutaciones\")\n",
        "print(\"Tiempo con lista de comprensión:\", tiempo_lista)\n",
        "print(\"Tiempo con Numpy vectorizado:\", tiempo_numpy)"
      ]
    },
    {
      "cell_type": "markdown",
      "metadata": {
        "id": "gXrh1IR6wvce"
      },
      "source": [
        "Las operaciones vectorizadas Numpy han demostrado ser más eficientes que el desarrollo manual en todos los casos, excepto en conjuntos pequeños y pocas permutaciones, donde la diferencia es mínima. Sin embargo, el caso más representativo es el de conjuntos pequeños y muchas permutaciones, donde Numpy es casi el doble rápido. Considerando además que el código de esta opción es mucho más amigable y replicable, podemos concluir que la mejor opción para aplicar permutacion a conjuntos es trabajar con `Numpy`."
      ]
    },
    {
      "cell_type": "code",
      "execution_count": 7,
      "metadata": {
        "colab": {
          "base_uri": "https://localhost:8080/"
        },
        "id": "pfvdDQoX5ieL",
        "outputId": "ee2fa7c1-2b49-46af-a048-7a6324f0e1b2"
      },
      "outputs": [
        {
          "output_type": "stream",
          "name": "stdout",
          "text": [
            "Permutacion: (10)(1 3 5 7)\n",
            "Aplicamos permutación: [ 0  3  2  5  4  7  6  1  8  9 10]\n",
            "Permutamos posiciones: [0, 3, 2, 5, 4, 7, 6, 1, 8, 9, 10]\n"
          ]
        }
      ],
      "source": [
        "# Función para aplicar la permutación a un conjunto\n",
        "def AplicarPermConj(permutacion, conjunto):\n",
        "\n",
        "  return conjunto[permutacion.array_form]\n",
        "\n",
        "# Función para aplicar la permutación a un posición\n",
        "def AplicarPermPos(permutacion, posicion):\n",
        "\n",
        "  return permutacion.apply(posicion)\n",
        "\n",
        "# Ejemplos de aplicación\n",
        "perm = Permutation(10)(1,3,5,7)\n",
        "conjunto = np.array([0,1,2,3,4,5,6,7,8,9,10])\n",
        "print(\"Permutacion:\", perm)\n",
        "\n",
        "# Permutamos lista\n",
        "print(\"Aplicamos permutación:\", AplicarPermConj(perm, conjunto))\n",
        "\n",
        "# Permutamos posiciones\n",
        "perm_pos = []\n",
        "for i in range(len(conjunto)):\n",
        "  perm_pos.append(AplicarPermPos(perm, i))\n",
        "print(\"Permutamos posiciones:\", perm_pos)"
      ]
    },
    {
      "cell_type": "markdown",
      "metadata": {
        "id": "tQ420OrotbO7"
      },
      "source": [
        "# POLINOMIOS DE LAURENT"
      ]
    },
    {
      "cell_type": "markdown",
      "metadata": {
        "id": "m4zERgvNXjFd"
      },
      "source": [
        "Instalamos la biblioteca `SymPy`, la cual permite la manipulación de expresiones algebraicas. Como alternativa, consideramos `SciPy`, una biblioteca adecuada para integrar algoritmos matemáticos de alta velocidad en Python, y no descartamos su inclusión en el trabajo más adelante."
      ]
    },
    {
      "cell_type": "code",
      "execution_count": 8,
      "metadata": {
        "colab": {
          "base_uri": "https://localhost:8080/"
        },
        "id": "2Q2zlcDeTv-y",
        "outputId": "e9b962cb-7ef7-4680-bdb5-73e0b4c491d3"
      },
      "outputs": [
        {
          "output_type": "stream",
          "name": "stdout",
          "text": [
            "Requirement already satisfied: sympy in /usr/local/lib/python3.10/dist-packages (1.13.0)\n",
            "Requirement already satisfied: mpmath<1.4,>=1.1.0 in /usr/local/lib/python3.10/dist-packages (from sympy) (1.3.0)\n"
          ]
        }
      ],
      "source": [
        "!pip install sympy\n",
        "\n",
        "from sympy import *\n",
        "#help(Symbol) # Documentación de 'Symbol'"
      ]
    },
    {
      "cell_type": "markdown",
      "metadata": {
        "id": "X2JeMm1pegZg"
      },
      "source": [
        "Sympy permite definir variables mediante el método `symbols` e integrarlas en expresiones para posteriores evaluaciones. Además, son válidos los exponentes negativos de las variables definidas. Esto nos permitirá trabajar con Polinomios de Laurent."
      ]
    },
    {
      "cell_type": "code",
      "execution_count": 9,
      "metadata": {
        "colab": {
          "base_uri": "https://localhost:8080/"
        },
        "id": "XWrf6S_pZJQb",
        "outputId": "eca58568-559d-41dc-bf54-7e52f3d683a0"
      },
      "outputs": [
        {
          "output_type": "stream",
          "name": "stdout",
          "text": [
            "Variables: x y z\n",
            "\n",
            "Polinomios de Laurent:\n",
            "f1 = x**2 - 0.25\n",
            "f2 = 3 + 1/y\n",
            "f3 = z**4 - 1\n",
            "f = f1 + f2 + f3 = x**2 + z**4 + 1.75 + 1/y\n",
            "\n",
            "Polinomios factorizados:\n",
            "f1 = 1.0*(1.0*x - 0.5)*(1.0*x + 0.5)\n",
            "f2 = (3*y + 1)/y\n",
            "f3 = (z - 1)*(z + 1)*(z**2 + 1)\n",
            "\n",
            "Polinomios expandidos:\n",
            "f1 = 1.0*x**2 - 0.25\n",
            "f2 = 3 + 1/y\n",
            "f3 = z**4 - 1\n",
            "\n",
            "Evaluaciones de polinomios:\n",
            "f1(1) = 0.750000000000000\n",
            "f2(2) = 7/2\n",
            "f3(3) = 80\n",
            "f(1,2) = z**4 + 3.25\n"
          ]
        }
      ],
      "source": [
        "# Definimos variables\n",
        "x, y, z = symbols('x y z')\n",
        "print(\"Variables:\", x, y, z)\n",
        "\n",
        "# Definimos polinimios de Laurent\n",
        "f1 = x**2 - 1/4\n",
        "f2 = y**-1 + 3\n",
        "f3 = z**4 - 1\n",
        "f = f1 + f2 + f3\n",
        "print(\"\\nPolinomios de Laurent:\")\n",
        "print(\"f1 =\", f1)\n",
        "print(\"f2 =\", f2)\n",
        "print(\"f3 =\", f3)\n",
        "print(\"f = f1 + f2 + f3 =\", f)\n",
        "\n",
        "# Factorizamos los polinomios (por defecto factoriza en Z)\n",
        "print(\"\\nPolinomios factorizados:\")\n",
        "f1_fact = factor(f1)\n",
        "print(\"f1 =\", f1_fact)\n",
        "f2_fact = factor(f2)\n",
        "print(\"f2 =\", f2_fact)\n",
        "f3_fact = factor(f3)\n",
        "print(\"f3 =\", f3_fact)\n",
        "\n",
        "# Expandimos (acción inversa a la factorización)\n",
        "print(\"\\nPolinomios expandidos:\")\n",
        "f1_exp = expand(f1_fact)\n",
        "print(\"f1 =\", f1_exp)\n",
        "f2_exp = expand(f2_fact)\n",
        "print(\"f2 =\", f2_exp)\n",
        "f3_exp = expand(f3_fact)\n",
        "print(\"f3 =\", f3_exp)\n",
        "\n",
        "# Evaluaciones de las variables en los polinomios definidos\n",
        "f1_eval = f1.subs(x,1)\n",
        "f2_eval = f2.subs(y,2)\n",
        "f3_eval = f3.subs(z,3)\n",
        "f_eval = f.subs({x:1, y:2})   # Se pueden dejar variables sin evaluar\n",
        "print(\"\\nEvaluaciones de polinomios:\")\n",
        "print(\"f1(1) =\", f1_eval)\n",
        "print(\"f2(2) =\", f2_eval)\n",
        "print(\"f3(3) =\", f3_eval)\n",
        "print(\"f(1,2) =\", f_eval)"
      ]
    },
    {
      "cell_type": "code",
      "execution_count": 10,
      "metadata": {
        "colab": {
          "base_uri": "https://localhost:8080/"
        },
        "id": "TbT8ttkkjWL6",
        "outputId": "a6084d4a-3887-40de-daa0-43ae0fe3fcaa"
      },
      "outputs": [
        {
          "output_type": "stream",
          "name": "stdout",
          "text": [
            "Matrix variable:\n",
            " Matrix([[x, y], [2*x, x - y]])\n",
            "\n",
            "Matrix evaluada:\n",
            " Matrix([[2, 3], [4, -1]])\n",
            "\n",
            "Matriz Numpy variable:\n",
            " [[x 0 0 0 0]\n",
            " [0 y 0 0 0]\n",
            " [0 0 x 0 0]\n",
            " [0 0 0 y 0]\n",
            " [0 0 0 0 x]]\n",
            "\n",
            "Matriz Numpy evaluada\n",
            " [[2 0 0 0 0]\n",
            " [0 3 0 0 0]\n",
            " [0 0 2 0 0]\n",
            " [0 0 0 3 0]\n",
            " [0 0 0 0 2]]\n"
          ]
        }
      ],
      "source": [
        "# Variables y evaluaciones\n",
        "x, y = symbols('x y')\n",
        "var = np.array([x,y])\n",
        "eval = np.array([2,3])\n",
        "\n",
        "# Matriz variable no Numpy\n",
        "matriz = Matrix([[x,y], [2*x, x-y]])\n",
        "print(\"Matrix variable:\\n\",matriz)\n",
        "matriz_eval = matriz.subs({var[i]: eval[i] for i in range(len(var))})\n",
        "print(\"\\nMatrix evaluada:\\n\", matriz_eval)\n",
        "\n",
        "# Matriz variables Numpy\n",
        "diag = np.array([x,y,x,y,x])\n",
        "matriz_diag = np.diag(diag)\n",
        "print(\"\\nMatriz Numpy variable:\\n\", matriz_diag)\n",
        "matriz_diag_eval = Matrix(matriz_diag).subs({var[i]: eval[i]\n",
        "                                             for i in range(len(var))})\n",
        "print(\"\\nMatriz Numpy evaluada\\n\",np.array(matriz_diag_eval))\n",
        "\n",
        "# Cambiamos el campo sobre el que trabajamos a F32\n",
        "#f_CFinito = F32.ShowPolynomial(f)\n",
        "#f123 = F32.Add(10,x)\n",
        "\n",
        "# ESTOS INTENTOS DE INTERGAR PYFINITE EN SYMPY FALLAN"
      ]
    },
    {
      "cell_type": "markdown",
      "metadata": {
        "id": "dpWpjKgErVQY"
      },
      "source": [
        "Como se observa (ejecutando las últimas líneas comentadas), el último intento que fue integrar la clase `FField` (utilizada para gener campos finitos) en los polinimios de Laurent implementados con `Sympy`, con el objetivo de definir polinomios de Laurent en $\\mathbb{F}_{32}$, necesario para implementar WalnutDSA. Sin embargo, estas biblioteca no son incorporables directamente.\n",
        "\n",
        "Por esta razón, hemos decidido trabajar con matrices `Sympy` para implementar las matrices de Burau, y convertirlas a matrices con coeficientes en el campo finito, cuando sea necesario operar con ellas."
      ]
    },
    {
      "cell_type": "markdown",
      "metadata": {
        "id": "DJETBj9HzbgC"
      },
      "source": [
        "# TRENZAS"
      ]
    },
    {
      "cell_type": "markdown",
      "metadata": {
        "id": "Bv_pnyfQMnSn"
      },
      "source": [
        "Comencemos definiendo la clase `Braid`. Las instancias de esta clase almacenarán el grado del grupo n-ésimo trenzado al que pertenecen (este dato identifica completamente al grupo) y la palabra que representa la trenza, formada por generadores del grupo en cuestión. Por ahora, no hacemos referencia a las restricciones naturales para los generadores de los grupos de Artin que modelan los grupos trenzados:\n",
        "\n",
        "$$ σ_{i}σ_{i+1}σ_{i} = σ_{i+1}σ_{i}σ_{i+1} $$\n",
        "$$ σ_{i}σ_{j} = σ_{j}σ_{i}, \\ |i-j| > 1  $$\n",
        "\n",
        "Esto no nos impedirá implementar la operación del grupo $\\mathbb{B}_{n}$, la concatenación (no reducida), desde ya.\n"
      ]
    },
    {
      "cell_type": "code",
      "execution_count": 11,
      "metadata": {
        "colab": {
          "base_uri": "https://localhost:8080/"
        },
        "id": "8Up8gTEHzddE",
        "outputId": "c7663585-8a04-42e8-8494-53f7d488e97f"
      },
      "outputs": [
        {
          "output_type": "stream",
          "name": "stdout",
          "text": [
            "Trenza 1: [-8 1 2 3] Grado: 9\n",
            "Trenza 2: [1 -2 -6] Grado: 7\n",
            "\n",
            "Trenza concantenada: [-8 1 2 3 1 -2 -6] Grado: 9\n",
            "\n",
            "Trenza sin invertir: [2, -3, 2, 1]\n",
            "Trenza invertida: [-1, -2, 3, -2]\n",
            "\n",
            "PERMUTACIONES ASOCIADAS\n",
            "\n",
            "Permutacion de la trenza 1:\n",
            "(0 1 2 3)(7 8)\n",
            "Permutacion de la trenza 2:\n",
            "(0 1 2)(5 6)\n",
            "Permutacion de la trenza concantenada:\n",
            "(0 2 3 1)(5 6)(7 8)\n"
          ]
        }
      ],
      "source": [
        "# Clase que representará a las trenzas\n",
        "class Braid:\n",
        "\n",
        "  # Constructor\n",
        "  def __init__(self, grado = 1, elementos = []):\n",
        "    if (elementos == []):\n",
        "      self.grado = grado          # Grado del grupo al que pertenecen\n",
        "      self.elementos = elementos  # Palabra que representa a la trenza\n",
        "      self.perm = Permutation(0)  # Permutación identidad\n",
        "\n",
        "    # En cualquier momento una trenza que fue definida para el grupo i-ésimo\n",
        "    # podrá utilizarse como trenza del grupo j-ésimo, para i < j,\n",
        "    # actualizándose el grupo (atributo grado) al que pertenece. Este\n",
        "    # comportamiento se da en su propia definición, como ocurre justo aquí\n",
        "    else:\n",
        "      self.grado = grado if grado > max(abs(x) for x in elementos) + 1\\\n",
        "                        else max(abs(x) for x in elementos) + 1\n",
        "      self.elementos = elementos\n",
        "      self.perm = ProyectarSn(elementos, grado)  # proyección de la trenza sobre Sn\n",
        "\n",
        "  # Visualizamos las trenzas con el formato [g1, g2, g3]\n",
        "  def showBraid(self):\n",
        "    indices = [str(self.elementos[i]) for i in range(len(self.elementos))]\n",
        "    palabra  = \"[\" + \" \".join(indices) + \"]\"\n",
        "    return palabra\n",
        "\n",
        "  # Concatenamos 2 trenzas (operación del grupo trenzado)\n",
        "  def concatenateBraid(self, trenza):\n",
        "\n",
        "    resultado = Braid()\n",
        "\n",
        "    # Permitimos multiplicar 2 trenzas pertenecientes a grupos de distinto\n",
        "    # orden, simplemente incluimos el resultado en el grupo de orden mayor\n",
        "    # (los generadores del grupo menor pertenecen al grupo mayor)\n",
        "    resultado.grado = self.grado if self.grado > trenza.grado else trenza.grado\n",
        "\n",
        "    # Concatenamos generadores de ambas trenzas\n",
        "    resultado.elementos = self.elementos + trenza.elementos\n",
        "\n",
        "    # Multiplicamos sus permutaciones asociadas\n",
        "    resultado.perm = self.perm * trenza.perm\n",
        "\n",
        "    return resultado\n",
        "\n",
        "  # Calculamos la trenza inversa\n",
        "  def inverseBraid(self):\n",
        "\n",
        "    #elementos_invertidos = [-elem for elem in reversed(self.elementos)]\n",
        "    elementos_invertidos = InverseWord(self.elementos)\n",
        "    trenza_inversa = Braid(self.grado, elementos_invertidos)\n",
        "\n",
        "    return trenza_inversa\n",
        "\n",
        "  # Reducimos la trenza (se eliminan gen*gen^(-1))\n",
        "  def ReduccionLibre(self):\n",
        "\n",
        "    i = 0\n",
        "    while i < len(self.elementos) - 1:\n",
        "      # Si dos consecutivos son opuestos\n",
        "      if self.elementos[i] == -self.elementos[i + 1]:\n",
        "          del self.elementos[i:i+2]   # Se eliminan gen*gen^(-1)\n",
        "          i -= 1                      # Han podido generarse nuevos gen*gen^(-1)\n",
        "      else:\n",
        "          i += 1\n",
        "\n",
        "  # Calcula una representación (palabra) de la trenza fundamental del grupo\n",
        "  # trenzando n-ésimo (n pasado por parámetro) tomando el generador i-esimo\n",
        "  # como primer cruce\n",
        "  @classmethod\n",
        "  def TrenzaFundamental(cls, n, i=1):\n",
        "    trenzaFundamental = []\n",
        "    aux1 = []\n",
        "    aux2 = []\n",
        "\n",
        "    # Primera parte --> (ri)(ri+1 ri)...(rn-1 ... ri)\n",
        "    for it in range(i, n):\n",
        "      aux1 = [it] + aux1\n",
        "      trenzaFundamental = trenzaFundamental + aux1\n",
        "      aux2 = aux1\n",
        "\n",
        "    # Segunda parte --> (ri-1 ... rn-1)...(r1 ... rn-1)\n",
        "    aux1 = list(range(i-1, n))\n",
        "    for it in range(i-1):\n",
        "      trenzaFundamental = trenzaFundamental + aux1\n",
        "      aux2 = [i - (it + 2)] # Elemento que añadimos para la siguiente subpalabra\n",
        "      aux1 = aux2 + aux1\n",
        "\n",
        "    return trenzaFundamental\n",
        "\n",
        "# Método auxiliar (fuera de la clase Braid) para la calcular la palabra\n",
        "# representante de la trenza (representanda por 'palabra') inversa\n",
        "def InverseWord(palabra):\n",
        "\n",
        "    # Invertimos orden de la palabra y calculamos el opuesto de cada elemento\n",
        "    elementos_invertidos = [-elem for elem in reversed(palabra)]\n",
        "    return elementos_invertidos\n",
        "\n",
        "\n",
        "# Método auxiliar para proyectar una trenza sobre Sn\n",
        "def ProyectarSn(palabra, grado):\n",
        "\n",
        "  proyeccion = Permutation(0)\n",
        "  # Necesaria para no perder las colas de elementos invariantes tras aplicarla\n",
        "  perm_identity = Permutation(range(grado))\n",
        "\n",
        "  # Recorremos los generadores que forman la palabra\n",
        "  for i in reversed(palabra):\n",
        "    # Permutación que describe los cruces ri y ri^-1\n",
        "    perm_aux = Permutation(abs(i)-1, abs(i))\n",
        "    proyeccion = proyeccion * perm_aux\n",
        "\n",
        "  proyeccion = proyeccion * perm_identity\n",
        "\n",
        "  return proyeccion\n",
        "\n",
        "# Método auxiliar para aplicar la reducción libre a una palabra\n",
        "def ReduccionLibre(palabra):\n",
        "\n",
        "  i = 0\n",
        "  while i < len(palabra) - 1:\n",
        "    if palabra[i] == -palabra[i + 1]: # Si dos consecutivos son opuestos\n",
        "        del palabra[i:i+2]            # Se eliminan gen*gen^(-1)\n",
        "        i = i - 2 if i >= 2 else 0    # Han podido generarse nuevos gen*gen^(-1)\n",
        "    else:\n",
        "        i += 1\n",
        "  return palabra\n",
        "\n",
        "# Ejemplos de construcción, concatenación y visualización\n",
        "trenza = Braid(5, [-8, 1,2,3])\n",
        "print(\"Trenza 1:\", trenza.showBraid(), \"Grado:\", trenza.grado)\n",
        "\n",
        "trenza2 = Braid(elementos = [1,-2, -6])\n",
        "print(\"Trenza 2:\", trenza2.showBraid(), \"Grado:\", trenza2.grado)\n",
        "\n",
        "trenza_concatenada = trenza.concatenateBraid(trenza2)\n",
        "print(\"\\nTrenza concantenada:\", trenza_concatenada.showBraid(), \"Grado:\",\n",
        "      trenza_concatenada.grado)\n",
        "\n",
        "trenza_sin_inversion = Braid(5, [2, -3, 2, 1])\n",
        "print(\"\\nTrenza sin invertir:\", trenza_sin_inversion.elementos)\n",
        "trenza_inversa = trenza_sin_inversion.inverseBraid()\n",
        "print(\"Trenza invertida:\", trenza_inversa.elementos)\n",
        "\n",
        "print(\"\\nPERMUTACIONES ASOCIADAS\")\n",
        "print(\"\\nPermutacion de la trenza 1:\")\n",
        "print(trenza.perm)\n",
        "print(\"Permutacion de la trenza 2:\")\n",
        "print(trenza2.perm)\n",
        "print(\"Permutacion de la trenza concantenada:\")\n",
        "print(trenza_concatenada.perm)"
      ]
    },
    {
      "cell_type": "markdown",
      "metadata": {
        "id": "8QScCM9IdbDj"
      },
      "source": [
        "El método de clase `TrenzaFundamental(n,i)` nos permite obtener una representación (palabra) de la trenza fundamental de grado n, utilizando la propuesta del artículo \"Malhburg\". Este método pivota sobre un generador fijado, que nosotros pasamos como parámetro i:\n",
        "$$Δ_{n} = (\\sigma_{i})(\\sigma_{i+1}\\sigma_{i})***(\\sigma_{n-1}\\sigma_{i})\n",
        "(\\sigma_{i-1}\\sigma_{i}...\\sigma_{n-1})***(\\sigma_{1}\\sigma_{n-1})$$\n",
        "\n",
        "Aclaramos que esta no es la única representación de la trenza fundamental; incluso el teorema utilizado presenta otra representación que pivota sobre el mismo generador. Simplemente la hemos escogido por su simplicidad y se utilizará de aquí en adelante.\n",
        "\n",
        "IMPORTANTE: NO TENEMOS CLARO SI PARA LOS CASOS EXTREMOS (i=1 ó i=n) LA TRENZA FUNDAMENTAL IMPLEMENTADA ES LA CORRECTA!!!\n",
        "\n",
        "          "
      ]
    },
    {
      "cell_type": "code",
      "execution_count": 12,
      "metadata": {
        "colab": {
          "base_uri": "https://localhost:8080/"
        },
        "id": "FX3eAEa80eaH",
        "outputId": "addd928d-3a1b-4c41-b85b-5763be402502"
      },
      "outputs": [
        {
          "output_type": "stream",
          "name": "stdout",
          "text": [
            "\n",
            "Trenza fundamental de grado 4 (\"pivotando\" desde el generador 1):\n",
            "[1 2 1 3 2 1]\n",
            "\n",
            "Trenza fundamental de grado 4 (\"pivotando\" desde el generador 2):\n",
            "[2 3 2 1 2 3]\n",
            "\n",
            "Trenza fundamental de grado 4 (\"pivotando\" desde el generador 3):\n",
            "[3 2 3 1 2 3]\n",
            "\n",
            "Trenza fundamental de grado 10 (\"pivotando\" desde el generador 5):\n",
            "[5 6 5 7 6 5 8 7 6 5 9 8 7 6 5 4 5 6 7 8 9 3 4 5 6 7 8 9 2 3 4 5 6 7 8 9 1 2 3 4 5 6 7 8 9]\n",
            "\n",
            "Trenza fundamental de grado 10 (\"pivotando\" desde el generador 8):\n",
            "[8 9 8 7 8 9 6 7 8 9 5 6 7 8 9 4 5 6 7 8 9 3 4 5 6 7 8 9 2 3 4 5 6 7 8 9 1 2 3 4 5 6 7 8 9]\n",
            "\n",
            "Trenza fundamental de grado 10 (\"pivotando\" desde el generador 1):\n",
            "[1 2 1 3 2 1 4 3 2 1 5 4 3 2 1 6 5 4 3 2 1 7 6 5 4 3 2 1 8 7 6 5 4 3 2 1 9 8 7 6 5 4 3 2 1]\n",
            "\n",
            "Trenza fundamental de grado 10 (\"pivotando\" desde el generador 9):\n",
            "[9 8 9 7 8 9 6 7 8 9 5 6 7 8 9 4 5 6 7 8 9 3 4 5 6 7 8 9 2 3 4 5 6 7 8 9 1 2 3 4 5 6 7 8 9]\n"
          ]
        }
      ],
      "source": [
        "# Trenzas fundamentales de grado 4\n",
        "trenzaFundamental_4_1 = Braid(10, Braid.TrenzaFundamental(4, 1))\n",
        "print(\"\\nTrenza fundamental de grado 4 (\\\"pivotando\\\" desde el generador 1):\")\n",
        "print(trenzaFundamental_4_1.showBraid())\n",
        "\n",
        "trenzaFundamental_4_2 = Braid(10, Braid.TrenzaFundamental(4, 2))\n",
        "print(\"\\nTrenza fundamental de grado 4 (\\\"pivotando\\\" desde el generador 2):\")\n",
        "print(trenzaFundamental_4_2.showBraid())\n",
        "\n",
        "trenzaFundamental_4_3 = Braid(10, Braid.TrenzaFundamental(4, 3))\n",
        "print(\"\\nTrenza fundamental de grado 4 (\\\"pivotando\\\" desde el generador 3):\")\n",
        "print(trenzaFundamental_4_3.showBraid())\n",
        "\n",
        "# Trenzas fundamentales de grado 10\n",
        "trenzaFundamental_10_5 = Braid(10, Braid.TrenzaFundamental(10, 5))\n",
        "print(\"\\nTrenza fundamental de grado 10 (\\\"pivotando\\\" desde el generador 5):\")\n",
        "print(trenzaFundamental_10_5.showBraid())\n",
        "\n",
        "trenzaFundamental_10_8 = Braid(10, Braid.TrenzaFundamental(10, 8))\n",
        "print(\"\\nTrenza fundamental de grado 10 (\\\"pivotando\\\" desde el generador 8):\")\n",
        "print(trenzaFundamental_10_8.showBraid())\n",
        "\n",
        "trenzaFundamental_10_1 = Braid(10, Braid.TrenzaFundamental(10, 1))\n",
        "print(\"\\nTrenza fundamental de grado 10 (\\\"pivotando\\\" desde el generador 1):\")\n",
        "print(trenzaFundamental_10_1.showBraid())\n",
        "\n",
        "trenzaFundamental_10_9 = Braid(10, Braid.TrenzaFundamental(10, 9))\n",
        "print(\"\\nTrenza fundamental de grado 10 (\\\"pivotando\\\" desde el generador 9):\")\n",
        "print(trenzaFundamental_10_9.showBraid())"
      ]
    },
    {
      "cell_type": "markdown",
      "metadata": {
        "id": "124CTBW6UMYS"
      },
      "source": [
        "# T_VALUES"
      ]
    },
    {
      "cell_type": "markdown",
      "metadata": {
        "id": "x2SIBR9qUSdw"
      },
      "source": [
        "Manejar los t-values correctamente es indispensable para nuestro primer objetivo: implementar la matriz de Burau asociada a una trenza arbitraria. Para el grupo $\\mathbb{B}_n$, se consideran $n$ t-values, denotados por $t_i$, pertenecientes al campo $\\mathbb{F}_{32}$. Estos valores aparecen en la definición de las matrices de Burau, siendo elementos de las matrices simples asociadas a un único generador y permitiendo la generalización a trenzas completas, aplicándose en ellos acciones de permutación durante el producto de las matrices simples.\n",
        "\n",
        "Por lo tanto, una vez definidos como variables los t-values asociados un grupo trenzado, el siguiente paso es manejar dichas acciones de permutación."
      ]
    },
    {
      "cell_type": "code",
      "execution_count": 13,
      "metadata": {
        "colab": {
          "base_uri": "https://localhost:8080/"
        },
        "id": "NbXt2ff4c-qJ",
        "outputId": "0d7640bb-d72c-4a43-cb6d-ce7b3d529bd6"
      },
      "outputs": [
        {
          "output_type": "stream",
          "name": "stdout",
          "text": [
            "T_values a permutar: [t1 t2 t3]\n",
            "Permutación: (0 1 2)\n",
            "T_values permutados: [t2 t3 t1]\n"
          ]
        }
      ],
      "source": [
        "# Definimos los t_values a permutar\n",
        "t1, t2, t3 = symbols('t1 t2 t3')\n",
        "t_values = np.array([t1, t2, t3])\n",
        "print(\"T_values a permutar:\", t_values)\n",
        "\n",
        "# Definimos una permutación\n",
        "permutacion = Permutation(0,1,2)\n",
        "print(\"Permutación:\", permutacion)\n",
        "\n",
        "# Aplicamos la permutación a los t_values\n",
        "t_values_permutados = AplicarPermConj(permutacion, t_values)\n",
        "\n",
        "print(\"T_values permutados:\", t_values_permutados)\n"
      ]
    },
    {
      "cell_type": "markdown",
      "metadata": {
        "id": "xojh_tLI7rMi"
      },
      "source": [
        "Como vemos, las variables de `Sympy` se integran perfectamente con la clase `Permutation`. Por lo tanto, al considerar el grupo $\\mathbb{B}_n$, solo tendremos que definir previamente los t_values como variables `Sympy` ($t_1, t_2, ..., t_n$) y aplicarles las permutaciones correspondientes antes de construir la matriz de Burau en cuestión.\n",
        "\n",
        "Necesitaremos evaluar estos t-values tras permutarlos en unos valores predefinidos en la E-Multiplicación. Utilizamos la evaluación que ofrece `Sympy`."
      ]
    },
    {
      "cell_type": "code",
      "execution_count": 14,
      "metadata": {
        "colab": {
          "base_uri": "https://localhost:8080/"
        },
        "id": "c5gGhzkWgcrt",
        "outputId": "4b790c5b-639c-448d-d63e-7eb88496ec4a"
      },
      "outputs": [
        {
          "output_type": "stream",
          "name": "stdout",
          "text": [
            "Matriz con los t_values sin evaluar:\n",
            " [[t1 0 0 0 0]\n",
            " [0 t2 0 0 0]\n",
            " [0 0 t3 0 0]\n",
            " [0 0 0 t4 0]\n",
            " [0 0 0 0 t5]]\n",
            "\n",
            "Matriz con los t_values evaluados:\n",
            " [[2 0 0 0 0]\n",
            " [0 5 0 0 0]\n",
            " [0 0 1 0 0]\n",
            " [0 0 0 1 0]\n",
            " [0 0 0 0 17]]\n"
          ]
        }
      ],
      "source": [
        "# Definimos el campo finito de 32 elementos\n",
        "F32 = ffield.FField(5)\n",
        "\n",
        "# Definimos los t_values a evaluar\n",
        "t1, t2, t3, t4,t5 = symbols('t1 t2 t3 t4 t5')\n",
        "t_values = np.array([t1, t2, t3, t4, t5])\n",
        "\n",
        "# t_values (evaluaciones) que definen la E-Multiplicación\n",
        "E_t_values = [2, 5, 1, 1, 17]\n",
        "\n",
        "# Creamos una matriz diagonal formado por los t_values\n",
        "M_Diagonal_no_eval = np.diag(t_values)\n",
        "print(\"Matriz con los t_values sin evaluar:\\n\", M_Diagonal_no_eval)\n",
        "\n",
        "# Evaluamos t_values en la matriz\n",
        "M_Diagonal_eval = np.array(Matrix(M_Diagonal_no_eval).subs({t_values[i] : E_t_values[i]\n",
        "                          for i in range(len(t_values))}))\n",
        "print(\"\\nMatriz con los t_values evaluados:\\n\", M_Diagonal_eval)\n"
      ]
    },
    {
      "cell_type": "markdown",
      "metadata": {
        "id": "lGVPOnHGt1KI"
      },
      "source": [
        "# MATRICES DE BURAU"
      ]
    },
    {
      "cell_type": "markdown",
      "metadata": {
        "id": "szC_ZzfUuhYa"
      },
      "source": [
        "El grupo de trenzas puede ser representado por un conjunto de matrices conocidas como la \"Representación Coloreada de Burau\". Existiendo una matriz de Burau (junto con la permutación proyectada) para cada palabra que represente a una trenza, de manera que:\n",
        "\n",
        "$$Π_{CB} : \\mathbb{B}_{N} ⟶ GL(N, \\mathbb{F}_{q}[t_1, t_1^{-1}, ..., t_N, t_N^{-1}]) \\times \\mathbb{S}_N$$\n",
        "$$ \\beta ⟶ \\Pi_{CB} (\\beta) = (CB(\\beta), \\sigma_{\\beta}) $$\n",
        "\n",
        "Conociendo $CB(b_i^{\\pm1})$ para cualquier generador $b_i$, se extiende la representación a una trenza arbitraria  $\\beta = b_{i_1}^{e_1}b_{i_2}^{e_2}...b_{i_k}^{e_k}$ de la siguiente forma:\n",
        "\n",
        "$$ (CB(\\beta), \\sigma_{\\beta}) = ( CB(b_{i_1}^{e_1}) ⋅ {}^{\\sigma_{i_1}}\\!CB(b_{i_2}^{e_2}) ... {}^{\\sigma_{i_1}\\sigma_{i_2} ... \\sigma_{i_{k-1}}}\\!CB(b_{i_k}^{e_k}) , σ_{i_1} ... \\sigma_{i_k})$$\n",
        "\n",
        "Para implementar la matriz de Burau asociada a una trenza arbitraria en $\\mathbb{B}_{n}$, procederemos de manera incremental, creando la matriz de Burau asociada a:\n",
        "1. Un generador positivo\n",
        "2. Un generador negativo (inverso de un generador)\n",
        "3. Un generador arbitrario\n",
        "4. Una trenza arbitaria sin aplicar acciones de permutación (no es una representación correcta)\n",
        "5. Una trenza arbitraria"
      ]
    },
    {
      "cell_type": "markdown",
      "metadata": {
        "id": "EC0Sh9BFvcrZ"
      },
      "source": [
        "**MATRIZ DE BURAU ASOCIADA A UN GENERADOR POSITIVO ($\\sigma_1, \\sigma_2, ..., \\sigma_{n-1}$)**"
      ]
    },
    {
      "cell_type": "code",
      "execution_count": 15,
      "metadata": {
        "colab": {
          "base_uri": "https://localhost:8080/",
          "height": 255
        },
        "id": "-i99dihOuPAF",
        "outputId": "eb1692a8-9ebf-491f-e70c-63ef20edabf9"
      },
      "outputs": [
        {
          "output_type": "stream",
          "name": "stdout",
          "text": [
            "Matriz de Burau asociada al generador 9 para el grupo de grado 10:\n",
            "\n"
          ]
        },
        {
          "output_type": "execute_result",
          "data": {
            "text/plain": [
              "Matrix([\n",
              "[1, 0, 0, 0, 0, 0, 0,  0,   0, 0],\n",
              "[0, 1, 0, 0, 0, 0, 0,  0,   0, 0],\n",
              "[0, 0, 1, 0, 0, 0, 0,  0,   0, 0],\n",
              "[0, 0, 0, 1, 0, 0, 0,  0,   0, 0],\n",
              "[0, 0, 0, 0, 1, 0, 0,  0,   0, 0],\n",
              "[0, 0, 0, 0, 0, 1, 0,  0,   0, 0],\n",
              "[0, 0, 0, 0, 0, 0, 1,  0,   0, 0],\n",
              "[0, 0, 0, 0, 0, 0, 0,  1,   0, 0],\n",
              "[0, 0, 0, 0, 0, 0, 0, t9, -t9, 1],\n",
              "[0, 0, 0, 0, 0, 0, 0,  0,   0, 1]])"
            ],
            "text/latex": "$\\displaystyle \\left[\\begin{matrix}1 & 0 & 0 & 0 & 0 & 0 & 0 & 0 & 0 & 0\\\\0 & 1 & 0 & 0 & 0 & 0 & 0 & 0 & 0 & 0\\\\0 & 0 & 1 & 0 & 0 & 0 & 0 & 0 & 0 & 0\\\\0 & 0 & 0 & 1 & 0 & 0 & 0 & 0 & 0 & 0\\\\0 & 0 & 0 & 0 & 1 & 0 & 0 & 0 & 0 & 0\\\\0 & 0 & 0 & 0 & 0 & 1 & 0 & 0 & 0 & 0\\\\0 & 0 & 0 & 0 & 0 & 0 & 1 & 0 & 0 & 0\\\\0 & 0 & 0 & 0 & 0 & 0 & 0 & 1 & 0 & 0\\\\0 & 0 & 0 & 0 & 0 & 0 & 0 & t_{9} & - t_{9} & 1\\\\0 & 0 & 0 & 0 & 0 & 0 & 0 & 0 & 0 & 1\\end{matrix}\\right]$"
          },
          "metadata": {},
          "execution_count": 15
        }
      ],
      "source": [
        "# Definimos los n t_values del grupo Bn\n",
        "t1, t2, t3, t4, t5, t6, t7,t8,t9,t10 = symbols('t1 t2 t3 t4 t5 t6 t7 t8 t9 t10')\n",
        "t_values = np.array([t1, t2, t3, t4, t5, t6, t7, t8, t9, t10])\n",
        "\n",
        "# Necesaria para no perder las colas invariantes de t_values tras permutar\n",
        "perm_identity = Permutation(range(len(t_values)))\n",
        "\n",
        "def MatrizBurauGenPos(generador, grado, t_values):\n",
        "\n",
        "  # Identidad grado x grado\n",
        "  Burau = eye(grado)\n",
        "\n",
        "  # T_value a utilizar\n",
        "  tv = t_values[generador-1]\n",
        "\n",
        "  # Asignamos la matriz 3 x 3 característica de las matrices de Burau\n",
        "  # en la posicion que define el generador pasado por parámetro\n",
        "  if (generador == 1):\n",
        "    Burau[0,0] = -tv\n",
        "    Burau[0,1] = 1\n",
        "\n",
        "  else:\n",
        "    Burau[generador-1, generador-2] = tv\n",
        "    Burau[generador-1, generador-1] = -tv\n",
        "    Burau[generador-1, generador] = 1\n",
        "\n",
        "  return Burau\n",
        "\n",
        "print(\"Matriz de Burau asociada al generador 9 para el grupo de grado 10:\\n\")\n",
        "MatrizBurauGenPos(9,10, t_values)"
      ]
    },
    {
      "cell_type": "markdown",
      "metadata": {
        "id": "VIXTlC1Tv1ll"
      },
      "source": [
        "**MATRIZ DE BURAU ASOCIADA A UN GENERADOR NEGATIVO ($\\sigma_1^{-1}, \\sigma_2^{-1}, ..., \\sigma_{n-1}^{-1}$)**"
      ]
    },
    {
      "cell_type": "code",
      "execution_count": 16,
      "metadata": {
        "colab": {
          "base_uri": "https://localhost:8080/",
          "height": 257
        },
        "id": "nBfD2HecGerT",
        "outputId": "3038bc0f-32f9-4413-bd4f-06dcea7a3a40"
      },
      "outputs": [
        {
          "output_type": "stream",
          "name": "stdout",
          "text": [
            "Matriz de Burau asociada al inverso del generador 9 para el grupo de grado 10:\n",
            "\n"
          ]
        },
        {
          "output_type": "execute_result",
          "data": {
            "text/plain": [
              "Matrix([\n",
              "[1, 0, 0, 0, 0, 0, 0, 0,      0,     0],\n",
              "[0, 1, 0, 0, 0, 0, 0, 0,      0,     0],\n",
              "[0, 0, 1, 0, 0, 0, 0, 0,      0,     0],\n",
              "[0, 0, 0, 1, 0, 0, 0, 0,      0,     0],\n",
              "[0, 0, 0, 0, 1, 0, 0, 0,      0,     0],\n",
              "[0, 0, 0, 0, 0, 1, 0, 0,      0,     0],\n",
              "[0, 0, 0, 0, 0, 0, 1, 0,      0,     0],\n",
              "[0, 0, 0, 0, 0, 0, 0, 1,      0,     0],\n",
              "[0, 0, 0, 0, 0, 0, 0, 1, -1/t10, 1/t10],\n",
              "[0, 0, 0, 0, 0, 0, 0, 0,      0,     1]])"
            ],
            "text/latex": "$\\displaystyle \\left[\\begin{matrix}1 & 0 & 0 & 0 & 0 & 0 & 0 & 0 & 0 & 0\\\\0 & 1 & 0 & 0 & 0 & 0 & 0 & 0 & 0 & 0\\\\0 & 0 & 1 & 0 & 0 & 0 & 0 & 0 & 0 & 0\\\\0 & 0 & 0 & 1 & 0 & 0 & 0 & 0 & 0 & 0\\\\0 & 0 & 0 & 0 & 1 & 0 & 0 & 0 & 0 & 0\\\\0 & 0 & 0 & 0 & 0 & 1 & 0 & 0 & 0 & 0\\\\0 & 0 & 0 & 0 & 0 & 0 & 1 & 0 & 0 & 0\\\\0 & 0 & 0 & 0 & 0 & 0 & 0 & 1 & 0 & 0\\\\0 & 0 & 0 & 0 & 0 & 0 & 0 & 1 & - \\frac{1}{t_{10}} & \\frac{1}{t_{10}}\\\\0 & 0 & 0 & 0 & 0 & 0 & 0 & 0 & 0 & 1\\end{matrix}\\right]$"
          },
          "metadata": {},
          "execution_count": 16
        }
      ],
      "source": [
        "def MatrizBurauGenNeg(generador, grado, t_values):\n",
        "\n",
        "  # Identidad grado x grado\n",
        "  Burau = eye(grado)\n",
        "\n",
        "  # T_value a utilizar\n",
        "  tv = t_values[generador]\n",
        "\n",
        "  # Asignamos la matriz 3 x 3 característica de las matrices de Burau\n",
        "  # en la posicion que define el generador pasado por parámetro\n",
        "  if (generador == 1):\n",
        "    Burau[0,0] = -tv**-1\n",
        "    Burau[0,1] = tv**-1\n",
        "\n",
        "  else:\n",
        "    Burau[generador-1, generador-2] = 1\n",
        "    Burau[generador-1, generador-1] = -tv**-1\n",
        "    Burau[generador-1, generador] = tv**-1\n",
        "\n",
        "  return Burau\n",
        "\n",
        "print(\"Matriz de Burau asociada al inverso del generador 9 para el grupo de\\\n",
        " grado 10:\\n\")\n",
        "MatrizBurauGenNeg(9,10, t_values)"
      ]
    },
    {
      "cell_type": "markdown",
      "metadata": {
        "id": "q77G7n4iv15N"
      },
      "source": [
        "**MATRIZ DE BURAU ASOCIADA A UN GENERADOR ARBITRARIO ($\\sigma_1, \\sigma_1^{-1}, ..., \\sigma_{n-1},  \\sigma_{n-1}^{-1}$)**"
      ]
    },
    {
      "cell_type": "code",
      "execution_count": 17,
      "metadata": {
        "colab": {
          "base_uri": "https://localhost:8080/"
        },
        "id": "dhB09lx3IVx5",
        "outputId": "c965e42d-e198-49b4-cae1-fe2c057fc111"
      },
      "outputs": [
        {
          "output_type": "stream",
          "name": "stdout",
          "text": [
            "Matriz de Burau asociada al generador 9 para el grupo de grado 10:\n",
            "\n",
            "⎡1  0  0  0  0  0  0  0    0   0⎤\n",
            "⎢                               ⎥\n",
            "⎢0  1  0  0  0  0  0  0    0   0⎥\n",
            "⎢                               ⎥\n",
            "⎢0  0  1  0  0  0  0  0    0   0⎥\n",
            "⎢                               ⎥\n",
            "⎢0  0  0  1  0  0  0  0    0   0⎥\n",
            "⎢                               ⎥\n",
            "⎢0  0  0  0  1  0  0  0    0   0⎥\n",
            "⎢                               ⎥\n",
            "⎢0  0  0  0  0  1  0  0    0   0⎥\n",
            "⎢                               ⎥\n",
            "⎢0  0  0  0  0  0  1  0    0   0⎥\n",
            "⎢                               ⎥\n",
            "⎢0  0  0  0  0  0  0  1    0   0⎥\n",
            "⎢                               ⎥\n",
            "⎢0  0  0  0  0  0  0  t₉  -t₉  1⎥\n",
            "⎢                               ⎥\n",
            "⎣0  0  0  0  0  0  0  0    0   1⎦\n",
            "\n",
            "Matriz de Burau asociada al inverso del generador 9 para el grupo de grado 10:\n",
            "\n",
            "⎡1  0  0  0  0  0  0  0   0    0 ⎤\n",
            "⎢                                ⎥\n",
            "⎢0  1  0  0  0  0  0  0   0    0 ⎥\n",
            "⎢                                ⎥\n",
            "⎢0  0  1  0  0  0  0  0   0    0 ⎥\n",
            "⎢                                ⎥\n",
            "⎢0  0  0  1  0  0  0  0   0    0 ⎥\n",
            "⎢                                ⎥\n",
            "⎢0  0  0  0  1  0  0  0   0    0 ⎥\n",
            "⎢                                ⎥\n",
            "⎢0  0  0  0  0  1  0  0   0    0 ⎥\n",
            "⎢                                ⎥\n",
            "⎢0  0  0  0  0  0  1  0   0    0 ⎥\n",
            "⎢                                ⎥\n",
            "⎢0  0  0  0  0  0  0  1   0    0 ⎥\n",
            "⎢                                ⎥\n",
            "⎢                        -1    1 ⎥\n",
            "⎢0  0  0  0  0  0  0  1  ───  ───⎥\n",
            "⎢                        t₁₀  t₁₀⎥\n",
            "⎢                                ⎥\n",
            "⎣0  0  0  0  0  0  0  0   0    1 ⎦\n"
          ]
        }
      ],
      "source": [
        "def MatrizBurauGen(generador, grado, t_values):\n",
        "\n",
        "  if (generador < 0):\n",
        "    return MatrizBurauGenNeg(-generador, grado, t_values)\n",
        "\n",
        "  elif (generador == 0):\n",
        "    return zeros(grado, grado)\n",
        "\n",
        "  else:\n",
        "    return MatrizBurauGenPos(generador, grado, t_values)\n",
        "\n",
        "print(\"Matriz de Burau asociada al generador 9 para el grupo de grado 10:\\n\")\n",
        "pprint(MatrizBurauGen(9, 10, t_values))\n",
        "print(\"\\nMatriz de Burau asociada al inverso del generador 9 para el grupo de\\\n",
        " grado 10:\\n\")\n",
        "pprint(MatrizBurauGen(-9, 10,t_values))"
      ]
    },
    {
      "cell_type": "markdown",
      "metadata": {
        "id": "c6Bs-_bxTpWj"
      },
      "source": [
        "**MATRIZ DE BURAU ASOCIADA A UNA TRENZA ARBITRARIA ($\\sigma_{i_1} \\sigma_{i_2} ... \\sigma_{i_k}$) SIN TENER EN CUENTA LA ACCIÓN SOBRE LOS T_VALORES**"
      ]
    },
    {
      "cell_type": "code",
      "execution_count": 18,
      "metadata": {
        "colab": {
          "base_uri": "https://localhost:8080/"
        },
        "id": "-LAKKxw6M6cu",
        "outputId": "4b383e61-8a46-4878-d1e4-943fcf8bf9f5"
      },
      "outputs": [
        {
          "output_type": "stream",
          "name": "stdout",
          "text": [
            "Trenza b representada por sus generadores:\n",
            "[1 -3]\n",
            "\n",
            "Matriz de Burau asociada al generador 1 para el grupo de grado 5:\n",
            "\n",
            "⎡-t₁  1  0  0  0⎤\n",
            "⎢               ⎥\n",
            "⎢ 0   1  0  0  0⎥\n",
            "⎢               ⎥\n",
            "⎢ 0   0  1  0  0⎥\n",
            "⎢               ⎥\n",
            "⎢ 0   0  0  1  0⎥\n",
            "⎢               ⎥\n",
            "⎣ 0   0  0  0  1⎦\n",
            "\n",
            "Matriz de Burau asociada al inverso del generador 3 para el grupo de grado 5:\n",
            "\n",
            "⎡1  0   0   0   0⎤\n",
            "⎢                ⎥\n",
            "⎢0  1   0   0   0⎥\n",
            "⎢                ⎥\n",
            "⎢      -1   1    ⎥\n",
            "⎢0  1  ───  ──  0⎥\n",
            "⎢      t₄   t₄   ⎥\n",
            "⎢                ⎥\n",
            "⎢0  0   0   1   0⎥\n",
            "⎢                ⎥\n",
            "⎣0  0   0   0   1⎦\n",
            "\n",
            "Matriz de Burau asociada a la trenza b:\n",
            "\n",
            "⎡-t₁  1   0   0   0⎤\n",
            "⎢                  ⎥\n",
            "⎢ 0   1   0   0   0⎥\n",
            "⎢                  ⎥\n",
            "⎢        -1   1    ⎥\n",
            "⎢ 0   1  ───  ──  0⎥\n",
            "⎢        t₄   t₄   ⎥\n",
            "⎢                  ⎥\n",
            "⎢ 0   0   0   1   0⎥\n",
            "⎢                  ⎥\n",
            "⎣ 0   0   0   0   1⎦\n"
          ]
        }
      ],
      "source": [
        "# El parámetros \"palabra\" y \"grado\" se corresponderán con los atributos\n",
        "# \"elementos\" y \"grado\" de la trenza a representar, respectivamente\n",
        "def MatrizBurauSinAccion(palabra, grado, t_values):\n",
        "\n",
        "  Burau = eye(grado)           # Para poder iterar sobre el producto de matrices\n",
        "\n",
        "  # Multiplicamos las sucesivas matrices de Burau simples\n",
        "  for i in palabra:\n",
        "    Burau = Burau * MatrizBurauGen(i, grado, t_values)\n",
        "\n",
        "  return Burau\n",
        "\n",
        "# Definimos trenza a representar como matriz de Burau\n",
        "b = Braid(5, [1,-3])\n",
        "print(\"Trenza b representada por sus generadores:\")\n",
        "print(b.showBraid())\n",
        "\n",
        "# La representamos como una matriz de Burau\n",
        "Burau0 = MatrizBurauGen(1,5,t_values)\n",
        "print(\"\\nMatriz de Burau asociada al generador 1 para el grupo de grado 5:\\n\")\n",
        "pprint(Burau0)\n",
        "Burau1 = MatrizBurauGen(-3,5,t_values)\n",
        "print(\"\\nMatriz de Burau asociada al inverso del generador 3 para el grupo de\\\n",
        " grado 5:\\n\")\n",
        "pprint(Burau1)\n",
        "\n",
        "# Calculamos manualmente el producto de ambas matrices\n",
        "Burau01 = MatrizBurauSinAccion(b.elementos,b.grado, t_values)\n",
        "print(\"\\nMatriz de Burau asociada a la trenza b:\\n\")\n",
        "pprint(Burau01)\n"
      ]
    },
    {
      "cell_type": "markdown",
      "metadata": {
        "id": "s0PJTE32wHww"
      },
      "source": [
        "**MATRIZ DE BURAU ASOCIADA A UNA TRENZA ARBITRARIA ($\\sigma_{i_1} \\sigma_{i_2} ... \\sigma_{i_k}$)**"
      ]
    },
    {
      "cell_type": "markdown",
      "metadata": {
        "id": "hTH7FcQPXYP-"
      },
      "source": [
        "Presentamos dos versiones de la implementación de la matriz de Burau general: iterando los productos de izquierda a derecha y de derecha izquierda. Así, testeando los tiempos, podremos elegir la más rápida para nuestro problema."
      ]
    },
    {
      "cell_type": "code",
      "execution_count": 19,
      "metadata": {
        "id": "wzG1lI9QP8ix"
      },
      "outputs": [],
      "source": [
        "import time   # Para medir tiempos\n",
        "\n",
        "# El parámetros \"palabra\" y \"grado\" se corresponderán con los atributos\n",
        "# \"elementos\" y \"grado\" de la trenza a representar, respectivamente\n",
        "def MatrizBurauID(palabra, grado, t_values):\n",
        "\n",
        "  Burau = eye(grado)          # Para poder iterar sobre el producto de matrices\n",
        "  ciclo_gen = Permutation(0)  # Almacenamos el ciclo del generador actual\n",
        "  perm_actual = Permutation(0)# Almacenamos la permutación a aplicar actual\n",
        "  t_values_perm = t_values    # Almacenamos t_values a aplicar actuales\n",
        "\n",
        "  # Multiplicamos las sucesivas matrices de Burau simples de izquierda a derecha\n",
        "  # (tras aplicar acciones)\n",
        "  k=0\n",
        "  print(\"\\n\")\n",
        "  for i in palabra:\n",
        "    start_time = time.time()\n",
        "    k+=1\n",
        "    if (k%10 == 9 or k%10 == 4):\n",
        "      # Expandiendo cada x iteraciones conseguimos mejores tiempo de ejecuciones\n",
        "      Burau = expand(Burau)\n",
        "    Burau = Burau * MatrizBurauGen(i, grado, t_values_perm)\n",
        "    ciclo_gen = ProyectarSn([i], grado)\n",
        "    perm_actual = ciclo_gen * perm_actual\n",
        "    t_values_perm = AplicarPermConj(perm_actual, t_values)\n",
        "    end_time = time.time()\n",
        "    execution_time_ID = end_time - start_time\n",
        "    print(\"Tiempo Versión ID, Iteración:\", k,  execution_time_ID, \"segundos\")\n",
        "\n",
        "  return expand(Burau)\n",
        "\n",
        "def MatrizBurauDI(palabra, grado, t_values):\n",
        "\n",
        "  Burau = eye(grado)          # Para poder iterar sobre el producto de matrices\n",
        "  ciclo_gen = Permutation(0)  # Almacenamos el ciclo del generador actual\n",
        "  perm_actual = ProyectarSn(palabra, grado)  # Almacenamos la perm a aplicar\n",
        "  t_values_perm = []          # Almacenamos t_values a aplicar actuales\n",
        "\n",
        "  # Multiplicamos las sucesivas matrices de Burau simples de derecha a izquierda\n",
        "  # (tras aplicar acciones)\n",
        "  k=0\n",
        "  print(\"\\n\")\n",
        "  for i in reversed(palabra):\n",
        "    start_time = time.time()\n",
        "    k+=1\n",
        "    if (k%10 == 9 or k%10 == 4):\n",
        "      # Expandiendo cada x iteraciones conseguimos mejores tiempo de ejecuciones\n",
        "      Burau = expand(Burau)\n",
        "    ciclo_gen = ProyectarSn([i], grado)\n",
        "    perm_actual = ciclo_gen * perm_actual # Eliminamos primer ciclo de la perm\n",
        "    t_values_perm = AplicarPermConj(perm_actual, t_values)\n",
        "    Burau = MatrizBurauGen(i, grado, t_values_perm) * Burau\n",
        "    end_time = time.time()\n",
        "    execution_time_ID = end_time - start_time\n",
        "    print(\"Tiempo Versión DI, Iteración:\", k,  execution_time_ID, \"segundos\")\n",
        "\n",
        "  return expand(Burau)\n",
        "\n",
        "# Las aplicaciones de la función expand facilitan la cancelación de los\n",
        "# elementos de los polinomios de Laurent, al ser expandidos. Esto ayuda a\n",
        "# gestionar su almacenamiento más eficientemente, reflejándose esto tan en los\n",
        "# tiempos de ejecución como en la representación final (la cual es más amigable)\n",
        "# de la matriz"
      ]
    },
    {
      "cell_type": "markdown",
      "metadata": {
        "id": "Fr5XYg2-L5rm"
      },
      "source": [
        "**Pruebas de Ejecución del cálculo de la Matriz de Burau**"
      ]
    },
    {
      "cell_type": "code",
      "execution_count": 20,
      "metadata": {
        "colab": {
          "base_uri": "https://localhost:8080/"
        },
        "id": "mdDTWhAvL5xq",
        "outputId": "a5684a0f-6177-4dda-fa1c-d85d3d8123f2"
      },
      "outputs": [
        {
          "output_type": "stream",
          "name": "stdout",
          "text": [
            "Trenza representada por sus generadores: [-2 1 3 4 2 -2 1]\n",
            "Permutación asociada: (1 2 3 4)\n",
            "\n",
            "\n",
            "Tiempo Versión ID, Iteración: 1 0.003726482391357422 segundos\n",
            "Tiempo Versión ID, Iteración: 2 0.0005223751068115234 segundos\n",
            "Tiempo Versión ID, Iteración: 3 0.007474184036254883 segundos\n",
            "Tiempo Versión ID, Iteración: 4 0.010433435440063477 segundos\n",
            "Tiempo Versión ID, Iteración: 5 0.0027933120727539062 segundos\n",
            "Tiempo Versión ID, Iteración: 6 0.012334823608398438 segundos\n",
            "Tiempo Versión ID, Iteración: 7 0.0022535324096679688 segundos\n",
            "\n",
            "Matriz de Burau asociada a la trenza b, calculada en  0.04706072807312012 segundos:\n",
            "\n",
            "⎡t₁⋅t₃       1 - t₁        0    0    0 ⎤\n",
            "⎢                                      ⎥\n",
            "⎢             t₂       1       -t₂   1 ⎥\n",
            "⎢t₁⋅t₃  -t₁ + ── + 1 - ──  0   ────  ──⎥\n",
            "⎢             t₃       t₃       t₃   t₃⎥\n",
            "⎢                                      ⎥\n",
            "⎢  0           t₂          0   -t₂   1 ⎥\n",
            "⎢                                      ⎥\n",
            "⎢  0            0          t₂  -t₂   1 ⎥\n",
            "⎢                                      ⎥\n",
            "⎣  0            0          0    0    1 ⎦\n",
            "\n",
            "Matriz de Burau asociada a la trenza b, evaluada en 0.013284921646118164 segundos:\n",
            "\n",
            "⎡20  -9  0   0     0 ⎤\n",
            "⎢                    ⎥\n",
            "⎢20  -9  0  -1/2  1/2⎥\n",
            "⎢                    ⎥\n",
            "⎢0   1   0   -1    1 ⎥\n",
            "⎢                    ⎥\n",
            "⎢0   0   1   -1    1 ⎥\n",
            "⎢                    ⎥\n",
            "⎣0   0   0   0     1 ⎦\n",
            "\n",
            "\n",
            "Tiempo Versión DI, Iteración: 1 0.0007078647613525391 segundos\n",
            "Tiempo Versión DI, Iteración: 2 0.0006961822509765625 segundos\n",
            "Tiempo Versión DI, Iteración: 3 0.004537820816040039 segundos\n",
            "Tiempo Versión DI, Iteración: 4 0.0018010139465332031 segundos\n",
            "Tiempo Versión DI, Iteración: 5 0.00047469139099121094 segundos\n",
            "Tiempo Versión DI, Iteración: 6 0.0006914138793945312 segundos\n",
            "Tiempo Versión DI, Iteración: 7 0.0024526119232177734 segundos\n",
            "\n",
            "Matriz de Burau asociada a la trenza b, calculada en  0.023517608642578125 segundos:\n",
            "\n",
            "⎡t₁⋅t₃       1 - t₁        0    0    0 ⎤\n",
            "⎢                                      ⎥\n",
            "⎢             t₂       1       -t₂   1 ⎥\n",
            "⎢t₁⋅t₃  -t₁ + ── + 1 - ──  0   ────  ──⎥\n",
            "⎢             t₃       t₃       t₃   t₃⎥\n",
            "⎢                                      ⎥\n",
            "⎢  0           t₂          0   -t₂   1 ⎥\n",
            "⎢                                      ⎥\n",
            "⎢  0            0          t₂  -t₂   1 ⎥\n",
            "⎢                                      ⎥\n",
            "⎣  0            0          0    0    1 ⎦\n",
            "\n",
            "Matriz de Burau asociada a la trenza b, evaluada en 0.008996725082397461 segundos:\n",
            "\n",
            "⎡20  -9  0   0     0 ⎤\n",
            "⎢                    ⎥\n",
            "⎢20  -9  0  -1/2  1/2⎥\n",
            "⎢                    ⎥\n",
            "⎢0   1   0   -1    1 ⎥\n",
            "⎢                    ⎥\n",
            "⎢0   0   1   -1    1 ⎥\n",
            "⎢                    ⎥\n",
            "⎣0   0   0   0     1 ⎦\n"
          ]
        }
      ],
      "source": [
        "# Definimos trenza a representar como matriz de Burau\n",
        "b = Braid(5, [-2,1,3,4,2,-2,1])\n",
        "print(\"Trenza representada por sus generadores:\", b.showBraid())\n",
        "print(\"Permutación asociada:\", b.perm)\n",
        "\n",
        "# Calculamos inductivamente la matriz de Burau de la trenza completa (I-D)\n",
        "start_time = time.time()\n",
        "BurauID = MatrizBurauID(b.elementos, b.grado, t_values)\n",
        "end_time = time.time()\n",
        "execution_time = end_time - start_time\n",
        "print(\"\\nMatriz de Burau asociada a la trenza b, calculada en \",execution_time,\n",
        "      \"segundos:\\n\")\n",
        "pprint(BurauID)\n",
        "\n",
        "# Evaluamos matriz de Burau\n",
        "eval = np.array([10,1,2,3,4,5,6,7,8,9])\n",
        "start_time = time.time()\n",
        "BurauID_evalID = BurauID.subs({t_values[i] : eval[i]\n",
        "                             for i in range(len(t_values))})\n",
        "end_time = time.time()\n",
        "execution_time = end_time - start_time\n",
        "print(\"\\nMatriz de Burau asociada a la trenza b, evaluada en\", execution_time,\n",
        "      \"segundos:\\n\")\n",
        "pprint(BurauID_evalID)\n",
        "\n",
        "# Calculamos inductivamente la matriz de Burau de la trenza completa (D-I)\n",
        "start_time = time.time()\n",
        "BurauDI = MatrizBurauDI(b.elementos, b.grado, t_values)\n",
        "end_time = time.time()\n",
        "execution_time = end_time - start_time\n",
        "print(\"\\nMatriz de Burau asociada a la trenza b, calculada en \",execution_time,\n",
        "      \"segundos:\\n\")\n",
        "pprint(BurauDI)\n",
        "\n",
        "# Evaluamos matriz de Burau\n",
        "eval = np.array([10,1,2,3,4,5,6,7,8,9])\n",
        "start_time = time.time()\n",
        "Burau_evalDI = BurauDI.subs({t_values[i] : eval[i]\n",
        "                             for i in range(len(t_values))})\n",
        "end_time = time.time()\n",
        "execution_time = end_time - start_time\n",
        "print(\"\\nMatriz de Burau asociada a la trenza b, evaluada en\", execution_time,\n",
        "      \"segundos:\\n\")\n",
        "pprint(Burau_evalDI)"
      ]
    },
    {
      "cell_type": "markdown",
      "metadata": {
        "id": "i69yLrvMLfgU"
      },
      "source": [
        "**Pruebas de eficiencia en cálculo de Matriz de Burau**"
      ]
    },
    {
      "cell_type": "code",
      "execution_count": 21,
      "metadata": {
        "colab": {
          "base_uri": "https://localhost:8080/"
        },
        "id": "wnpGX9AaK9Ri",
        "outputId": "4b20f01a-b481-4a86-cf5f-f075aa234dfd"
      },
      "outputs": [
        {
          "output_type": "stream",
          "name": "stdout",
          "text": [
            "50\n",
            "\n",
            "\n",
            "Tiempo Versión ID, Iteración: 1 0.0007321834564208984 segundos\n",
            "Tiempo Versión ID, Iteración: 2 0.0005626678466796875 segundos\n",
            "Tiempo Versión ID, Iteración: 3 0.0008018016815185547 segundos\n",
            "Tiempo Versión ID, Iteración: 4 0.0067081451416015625 segundos\n",
            "Tiempo Versión ID, Iteración: 5 0.01018524169921875 segundos\n",
            "Tiempo Versión ID, Iteración: 6 0.006361246109008789 segundos\n",
            "Tiempo Versión ID, Iteración: 7 0.011072635650634766 segundos\n",
            "Tiempo Versión ID, Iteración: 8 0.00481867790222168 segundos\n",
            "Tiempo Versión ID, Iteración: 9 0.019669294357299805 segundos\n",
            "Tiempo Versión ID, Iteración: 10 0.009942054748535156 segundos\n",
            "Tiempo Versión ID, Iteración: 11 0.006186485290527344 segundos\n",
            "Tiempo Versión ID, Iteración: 12 0.006201744079589844 segundos\n",
            "Tiempo Versión ID, Iteración: 13 0.009058952331542969 segundos\n",
            "Tiempo Versión ID, Iteración: 14 0.01967763900756836 segundos\n",
            "Tiempo Versión ID, Iteración: 15 0.018416643142700195 segundos\n",
            "Tiempo Versión ID, Iteración: 16 0.013848304748535156 segundos\n",
            "Tiempo Versión ID, Iteración: 17 0.009653806686401367 segundos\n",
            "Tiempo Versión ID, Iteración: 18 0.02640390396118164 segundos\n",
            "Tiempo Versión ID, Iteración: 19 0.04550313949584961 segundos\n",
            "Tiempo Versión ID, Iteración: 20 0.02773308753967285 segundos\n",
            "Tiempo Versión ID, Iteración: 21 0.02509450912475586 segundos\n",
            "Tiempo Versión ID, Iteración: 22 0.0090179443359375 segundos\n",
            "Tiempo Versión ID, Iteración: 23 0.02583789825439453 segundos\n",
            "Tiempo Versión ID, Iteración: 24 0.07008242607116699 segundos\n",
            "Tiempo Versión ID, Iteración: 25 0.029705524444580078 segundos\n",
            "Tiempo Versión ID, Iteración: 26 0.02545785903930664 segundos\n",
            "Tiempo Versión ID, Iteración: 27 0.008770942687988281 segundos\n",
            "Tiempo Versión ID, Iteración: 28 0.03451967239379883 segundos\n",
            "Tiempo Versión ID, Iteración: 29 0.16541409492492676 segundos\n",
            "Tiempo Versión ID, Iteración: 30 0.02872157096862793 segundos\n",
            "Tiempo Versión ID, Iteración: 31 0.03447675704956055 segundos\n",
            "Tiempo Versión ID, Iteración: 32 0.013826131820678711 segundos\n",
            "Tiempo Versión ID, Iteración: 33 0.03759932518005371 segundos\n",
            "Tiempo Versión ID, Iteración: 34 0.18656396865844727 segundos\n",
            "Tiempo Versión ID, Iteración: 35 0.03247332572937012 segundos\n",
            "Tiempo Versión ID, Iteración: 36 0.0230255126953125 segundos\n",
            "Tiempo Versión ID, Iteración: 37 0.006732940673828125 segundos\n",
            "Tiempo Versión ID, Iteración: 38 0.03522849082946777 segundos\n",
            "Tiempo Versión ID, Iteración: 39 0.1896512508392334 segundos\n",
            "Tiempo Versión ID, Iteración: 40 0.06299948692321777 segundos\n",
            "Tiempo Versión ID, Iteración: 41 0.06965112686157227 segundos\n",
            "Tiempo Versión ID, Iteración: 42 0.020812511444091797 segundos\n",
            "Tiempo Versión ID, Iteración: 43 0.05500197410583496 segundos\n",
            "Tiempo Versión ID, Iteración: 44 0.4535207748413086 segundos\n",
            "Tiempo Versión ID, Iteración: 45 0.11014914512634277 segundos\n",
            "Tiempo Versión ID, Iteración: 46 0.05378890037536621 segundos\n",
            "Tiempo Versión ID, Iteración: 47 0.02788853645324707 segundos\n",
            "Tiempo Versión ID, Iteración: 48 0.10182070732116699 segundos\n",
            "Tiempo Versión ID, Iteración: 49 0.9249989986419678 segundos\n",
            "Tiempo Versión ID, Iteración: 50 0.1703948974609375 segundos\n",
            "\n",
            "\n",
            "Tiempo TOTAL Versión ID: 3.8808681964874268 segundos\n",
            "\n",
            "\n",
            "\n",
            "\n",
            "Tiempo Versión ID, Iteración: 1 0.0007610321044921875 segundos\n",
            "Tiempo Versión ID, Iteración: 2 0.0009186267852783203 segundos\n",
            "Tiempo Versión ID, Iteración: 3 0.0007946491241455078 segundos\n",
            "Tiempo Versión ID, Iteración: 4 0.007224082946777344 segundos\n",
            "Tiempo Versión ID, Iteración: 5 0.0062901973724365234 segundos\n",
            "Tiempo Versión ID, Iteración: 6 0.008412599563598633 segundos\n",
            "Tiempo Versión ID, Iteración: 7 0.006871461868286133 segundos\n",
            "Tiempo Versión ID, Iteración: 8 0.007166624069213867 segundos\n",
            "Tiempo Versión ID, Iteración: 9 0.008028030395507812 segundos\n",
            "Tiempo Versión ID, Iteración: 10 0.008779287338256836 segundos\n",
            "Tiempo Versión ID, Iteración: 11 0.014639616012573242 segundos\n",
            "Tiempo Versión ID, Iteración: 12 0.007385730743408203 segundos\n",
            "Tiempo Versión ID, Iteración: 13 0.01092219352722168 segundos\n",
            "Tiempo Versión ID, Iteración: 14 0.009186029434204102 segundos\n",
            "Tiempo Versión ID, Iteración: 15 0.019835710525512695 segundos\n",
            "Tiempo Versión ID, Iteración: 16 0.013278722763061523 segundos\n",
            "Tiempo Versión ID, Iteración: 17 0.025093555450439453 segundos\n",
            "Tiempo Versión ID, Iteración: 18 0.0450444221496582 segundos\n",
            "Tiempo Versión ID, Iteración: 19 0.009370565414428711 segundos\n",
            "Tiempo Versión ID, Iteración: 20 0.02258896827697754 segundos\n",
            "Tiempo Versión ID, Iteración: 21 0.017583131790161133 segundos\n",
            "Tiempo Versión ID, Iteración: 22 0.008292198181152344 segundos\n",
            "Tiempo Versión ID, Iteración: 23 0.023283720016479492 segundos\n",
            "Tiempo Versión ID, Iteración: 24 0.01338958740234375 segundos\n",
            "Tiempo Versión ID, Iteración: 25 0.0310971736907959 segundos\n",
            "Tiempo Versión ID, Iteración: 26 0.024986743927001953 segundos\n",
            "Tiempo Versión ID, Iteración: 27 0.009634017944335938 segundos\n",
            "Tiempo Versión ID, Iteración: 28 0.10514974594116211 segundos\n",
            "Tiempo Versión ID, Iteración: 29 0.01799750328063965 segundos\n",
            "Tiempo Versión ID, Iteración: 30 0.08343195915222168 segundos\n",
            "Tiempo Versión ID, Iteración: 31 0.04837512969970703 segundos\n",
            "Tiempo Versión ID, Iteración: 32 0.018629074096679688 segundos\n",
            "Tiempo Versión ID, Iteración: 33 0.03467082977294922 segundos\n",
            "Tiempo Versión ID, Iteración: 34 0.016843795776367188 segundos\n",
            "Tiempo Versión ID, Iteración: 35 0.05747103691101074 segundos\n",
            "Tiempo Versión ID, Iteración: 36 0.040580034255981445 segundos\n",
            "Tiempo Versión ID, Iteración: 37 0.019646406173706055 segundos\n",
            "Tiempo Versión ID, Iteración: 38 0.12030577659606934 segundos\n",
            "Tiempo Versión ID, Iteración: 39 0.017931699752807617 segundos\n",
            "Tiempo Versión ID, Iteración: 40 0.05893135070800781 segundos\n",
            "Tiempo Versión ID, Iteración: 41 0.0519254207611084 segundos\n",
            "Tiempo Versión ID, Iteración: 42 0.019165754318237305 segundos\n",
            "Tiempo Versión ID, Iteración: 43 0.1026463508605957 segundos\n",
            "Tiempo Versión ID, Iteración: 44 0.021777629852294922 segundos\n",
            "Tiempo Versión ID, Iteración: 45 0.07100415229797363 segundos\n",
            "Tiempo Versión ID, Iteración: 46 0.0494389533996582 segundos\n",
            "Tiempo Versión ID, Iteración: 47 0.01494145393371582 segundos\n",
            "Tiempo Versión ID, Iteración: 48 0.11836099624633789 segundos\n",
            "Tiempo Versión ID, Iteración: 49 0.027666330337524414 segundos\n",
            "Tiempo Versión ID, Iteración: 50 0.1993241310119629 segundos\n",
            "\n",
            "\n",
            "Tiempo TOTAL Versión DI: 1.8005239963531494 segundos\n",
            "\n",
            "\n"
          ]
        }
      ],
      "source": [
        "# Generamos una palabra larga\n",
        "elementos = [1,2,3,4,5,-5,-5,-4,-5,-5]\n",
        "elementos_final = []\n",
        "for i in range(5):\n",
        "  elementos_final = elementos_final + elementos\n",
        "print(len(elementos_final))\n",
        "\n",
        "start_time = time.time()\n",
        "BurauID = MatrizBurauID(elementos_final, 8, t_values)\n",
        "end_time = time.time()\n",
        "execution_time_ID = end_time - start_time\n",
        "print(\"\\n\\nTiempo TOTAL Versión ID:\", execution_time_ID, \"segundos\\n\\n\")\n",
        "del BurauID\n",
        "\n",
        "start_time = time.time()\n",
        "BurauDI = MatrizBurauID(elementos_final, 8, t_values)\n",
        "end_time = time.time()\n",
        "execution_time_DI = end_time - start_time\n",
        "print(\"\\n\\nTiempo TOTAL Versión DI:\", execution_time_DI, \"segundos\\n\\n\")\n",
        "del BurauDI"
      ]
    },
    {
      "cell_type": "markdown",
      "source": [
        "Para una palabra con 50 elementos, los resultados son ligeramente mejores con la versión ID. Sin embargo, al duplicar la longitud de la palabra, ambos métodos se vuelven insostenibles para el cálculo. Afortunadamente, la E-Multiplicación, la función principal que se utilizará en el algoritmo, se puede definir de manera iterativa sin necesidad de construir la representación de Burau para la palabra completa. Esto nos tranquiliza respecto a los problemas de eficiencia."
      ],
      "metadata": {
        "id": "IIi7WlEOrDq6"
      }
    },
    {
      "cell_type": "markdown",
      "metadata": {
        "id": "M4Kih2EANocD"
      },
      "source": [
        "# E- MULTIPLICACIÓN"
      ]
    },
    {
      "cell_type": "markdown",
      "metadata": {
        "id": "7uFdEzx3ODFX"
      },
      "source": [
        "La E-Multiplicación es una operación (presumiblemente unidireccional) que se define fijando previamente un conjunto de t_values $\\mathbb(t)$:\n",
        "\n",
        "$$ \\star : (GL(N, \\mathbb{F}_{q}) \\times \\mathbb{S}_{N}) \\times \\mathbb{B}_{N} ⟶ GL(N, \\mathbb{F}_{q}) \\times \\mathbb{S}_{N} $$\n",
        "$$ (M, \\sigma) \\star \\beta ≡ (M, \\sigma) \\star (CB(\\beta), \\sigma_{\\beta})$$\n",
        "\n",
        "La diferencia con el producto que se realiza para la generación de matrices de Burau arbitrarias a partir de las asociadas a generadores únicos, es que tras aplicar la permutación a los t_values, estos deben ser evaluados en el conjunto $\\mathbb{t}$ fijado en la definición de la E-Multiplicación:\n",
        "\n",
        "$$ (M, \\sigma) \\star (CB(b_{i}^{\\pm1}), \\sigma_{b_i}) = ( M ⋅ {}^{\\sigma}\\!(CB(b_i^{\\pm1}))_{↓t-values}, \\sigma\\sigma_{b_i}) $$\n",
        "$$ (M, \\sigma) \\star (CB(\\beta), \\sigma_{\\beta}) = (M, \\sigma) \\star (CB(b_{1}^{e_1}), \\sigma_{b_1}) \\star (CB(b_{k}^{e_k}), \\sigma_{b_k}) $$\n",
        "\n"
      ]
    },
    {
      "cell_type": "markdown",
      "metadata": {
        "id": "Y-BjMZ18h07C"
      },
      "source": [
        "La función `Eval_CB_EMult` se utilizará auxiliarmente para calcular los términos ${}^{\\sigma}\\!(CB(b_i^{\\pm1}))_{↓t-values}$ que aparecen en el desarrollo de la E-Multiplicación. Resuelve el problema de integrar las variables Sympy con los coeficientes de las matrices de Burau, que pertenecen al cuerpo finito en cuestión. No es posible evaluar dichas matrices con elementos pertenecientes a $\\mathbb{F}_q$ ni operar dentro de tales cuerpos con variables `Sympy`. Se vuelve imposible así evaluar directamente la expresión mencionada en los t_values que definen la E-Multiplicación.\n",
        "\n",
        "Como solución, la E-Multiplicación  $(M, \\sigma) \\star (CB(\\beta), \\sigma_{\\beta})$ se desarrolla en productos únicamente de matrices de Burau de generadores (o inversos), donde la evaluación de los t_values como enteros no corre ningún peligro de pérdida de información, dado que tras la evaluación de las variables estas no se van a operar con ningún otro entero (salvo su propia inversión), por la simpleza de tal representación para los generadores.\n",
        "\n",
        "Trabajaremos, con los t_values como variables enteras, se evaluarán con valores enteros (t_values) y antes devolver el resultado, se preparán los t_values que sí que han sufrido una transformación en $\\mathbb{R}$, la inversión. Para ello, simplemente, se buscará dentro la matriz los elementos no enteros (ningún inversos en $\\mathbb{Z}$ es entero, salvo el 1 que es su propio inverso), se volverán a invertir para recuperar los t_values originales y se sustituirán por su inversos, esta vez sí, en $\\mathbb{F}_{q}$."
      ]
    },
    {
      "cell_type": "code",
      "execution_count": 22,
      "metadata": {
        "colab": {
          "base_uri": "https://localhost:8080/"
        },
        "id": "Y6LBqfvLhSJ_",
        "outputId": "1a769c7c-da40-4c47-8170-db8fdf7f80ea"
      },
      "outputs": [
        {
          "output_type": "stream",
          "name": "stdout",
          "text": [
            "Permutación aplicada a los t_values:\n",
            " (0 1 2 3 4 5 6 7 8 9)\n",
            "\n",
            "CB del generador -9 tras aplicar la corrección de inversión:\n",
            " [[1 0 0 0 0 0 0 0 0 0]\n",
            " [0 1 0 0 0 0 0 0 0 0]\n",
            " [0 0 1 0 0 0 0 0 0 0]\n",
            " [0 0 0 1 0 0 0 0 0 0]\n",
            " [0 0 0 0 1 0 0 0 0 0]\n",
            " [0 0 0 0 0 1 0 0 0 0]\n",
            " [0 0 0 0 0 0 1 0 0 0]\n",
            " [0 0 0 0 0 0 0 1 0 0]\n",
            " [0 0 0 0 0 0 0 1 13 13]\n",
            " [0 0 0 0 0 0 0 0 0 1]]\n",
            "\n",
            "Listamos los inversos de cada elemento:\n",
            "Elemento  1: 1                          -->   Inverso  1 : 1\n",
            "Elemento  2: x^1                        -->   Inverso 18 : x^4 + x^1\n",
            "Elemento  3: x^1 + 1                    -->   Inverso 28 : x^4 + x^3 + x^2\n",
            "Elemento  4: x^2                        -->   Inverso  9 : x^3 + 1\n",
            "Elemento  5: x^2 + 1                    -->   Inverso 23 : x^4 + x^2 + x^1 + 1\n",
            "Elemento  6: x^2 + x^1                  -->   Inverso 14 : x^3 + x^2 + x^1\n",
            "Elemento  7: x^2 + x^1 + 1              -->   Inverso 12 : x^3 + x^2\n",
            "Elemento  8: x^3                        -->   Inverso 22 : x^4 + x^2 + x^1\n",
            "Elemento  9: x^3 + 1                    -->   Inverso  4 : x^2\n",
            "Elemento 10: x^3 + x^1                  -->   Inverso 25 : x^4 + x^3 + 1\n",
            "Elemento 11: x^3 + x^1 + 1              -->   Inverso 16 : x^4\n",
            "Elemento 12: x^3 + x^2                  -->   Inverso  7 : x^2 + x^1 + 1\n",
            "Elemento 13: x^3 + x^2 + 1              -->   Inverso 15 : x^3 + x^2 + x^1 + 1\n",
            "Elemento 14: x^3 + x^2 + x^1            -->   Inverso  6 : x^2 + x^1\n",
            "Elemento 15: x^3 + x^2 + x^1 + 1        -->   Inverso 13 : x^3 + x^2 + 1\n",
            "Elemento 16: x^4                        -->   Inverso 11 : x^3 + x^1 + 1\n",
            "Elemento 17: x^4 + 1                    -->   Inverso 24 : x^4 + x^3\n",
            "Elemento 18: x^4 + x^1                  -->   Inverso  2 : x^1\n",
            "Elemento 19: x^4 + x^1 + 1              -->   Inverso 29 : x^4 + x^3 + x^2 + 1\n",
            "Elemento 20: x^4 + x^2                  -->   Inverso 30 : x^4 + x^3 + x^2 + x^1\n",
            "Elemento 21: x^4 + x^2 + 1              -->   Inverso 26 : x^4 + x^3 + x^1\n",
            "Elemento 22: x^4 + x^2 + x^1            -->   Inverso  8 : x^3\n",
            "Elemento 23: x^4 + x^2 + x^1 + 1        -->   Inverso  5 : x^2 + 1\n",
            "Elemento 24: x^4 + x^3                  -->   Inverso 17 : x^4 + 1\n",
            "Elemento 25: x^4 + x^3 + 1              -->   Inverso 10 : x^3 + x^1\n",
            "Elemento 26: x^4 + x^3 + x^1            -->   Inverso 21 : x^4 + x^2 + 1\n",
            "Elemento 27: x^4 + x^3 + x^1 + 1        -->   Inverso 31 : x^4 + x^3 + x^2 + x^1 + 1\n",
            "Elemento 28: x^4 + x^3 + x^2            -->   Inverso  3 : x^1 + 1\n",
            "Elemento 29: x^4 + x^3 + x^2 + 1        -->   Inverso 19 : x^4 + x^1 + 1\n",
            "Elemento 30: x^4 + x^3 + x^2 + x^1      -->   Inverso 20 : x^4 + x^2\n",
            "Elemento 31: x^4 + x^3 + x^2 + x^1 + 1  -->   Inverso 27 : x^4 + x^3 + x^1 + 1\n"
          ]
        }
      ],
      "source": [
        "# Función evaluadora E-Multiplicación\n",
        "def Eval_CB_EMult(generador, gradoBn, gradoCF, permutacion, t_values, eval):\n",
        "\n",
        "  # Aplicamos la permutación a los t_values\n",
        "  t_values = AplicarPermConj(permutacion, t_values)\n",
        "  eval = AplicarPermConj(permutacion, eval)\n",
        "\n",
        "  # En primer lugar, calculamos la Matriz de Burau asociada al generador\n",
        "  CB = MatrizBurauGen(generador, gradoBn, t_values)\n",
        "\n",
        "  # Evaluamos CB con los t_values (considerándolos enteros)\n",
        "  CB = CB.subs({t_values[i] : eval[i] for i in range(len(t_values))})\n",
        "\n",
        "  CB = abs(CB) # Podemos obviar los 'signos -' al trabajar en Z2\n",
        "\n",
        "\n",
        "  if (generador < 0): # Solo en este caso ha habido inversiones\n",
        "\n",
        "    # Creamos el campo finito de grado 2^gradoCF\n",
        "    CF = ffield.FField(gradoCF)\n",
        "\n",
        "    # Buscamos los elementos no enteros (los que hay que corregir su inversión)\n",
        "    for i in range(CB.rows):\n",
        "      for j in range(CB.cols):\n",
        "        if not CB[i,j].is_integer:\n",
        "          CB[i,j] = CF.Inverse(int(1 / CB[i,j]))\n",
        "\n",
        "  return CB\n",
        "\n",
        "generador = -9\n",
        "gradoBn = 10\n",
        "gradoCF = 5\n",
        "permutacion = ProyectarSn([1,2,3,4,5,6,7,8,9], 10)\n",
        "print(\"Permutación aplicada a los t_values:\\n\", permutacion)\n",
        "t1, t2, t3, t4, t5, t6, t7,t8,t9,t10 = symbols('t1 t2 t3 t4 t5 t6 t7 t8 t9 t10')\n",
        "t_values = np.array([t1, t2, t3, t4, t5, t6, t7, t8, t9, t10])\n",
        "eval = np.array([15,10,1,1,4,17,8,7,21,7])\n",
        "\n",
        "CB_prueba = Eval_CB_EMult(generador, gradoBn, gradoCF, permutacion, t_values,\n",
        "                          eval)\n",
        "print(f\"\\nCB del generador {generador} tras aplicar la corrección de \\\n",
        "inversión:\\n\", np.array(CB_prueba))\n",
        "\n",
        "# Listamos los inversos de cada elemento\n",
        "print(\"\\nListamos los inversos de cada elemento:\")\n",
        "for i in range(32):\n",
        "  if(i != 0):\n",
        "    inverso = F32.Inverse(i)\n",
        "    print(\"Elemento {}: {}  -->   Inverso {} : {}\".format(str(i).rjust(2),\n",
        "            F32.ShowPolynomial(i).ljust(25), str(inverso).rjust(2),\n",
        "            F32.ShowPolynomial(inverso)))"
      ]
    },
    {
      "cell_type": "markdown",
      "metadata": {
        "id": "sFkbwUe-Lgd5"
      },
      "source": [
        "La función `Mult_Matrix_CF` multiplica dos matrices con elementos en el campo finito CF(2^gradoCF). Es necesaria por la representación que utiliza la biblioteca FField para los campos finitos, donde los elementos son expresados por sus identificadores, y la sintaxis aritmética convencional ('+', '-', '*', ...) opera sobre los identificadores como enteros y no sobre los verdaderos elementos del cuerpo finito. Para operar sobre el cuerpo finito es necesario llamar a la funciones Add, Subtract, Multiply, ...; por lo que creamos esta función que internamente utilizará estos métodos de FField para implementar la multiplicación de matrices."
      ]
    },
    {
      "cell_type": "code",
      "execution_count": 23,
      "metadata": {
        "colab": {
          "base_uri": "https://localhost:8080/"
        },
        "id": "j3LZfqDUtUFI",
        "outputId": "904ae88b-a060-47d7-baf9-d4a0067bba28"
      },
      "outputs": [
        {
          "output_type": "stream",
          "name": "stdout",
          "text": [
            "Permutaciones aplicadas a los t_values:\n",
            " (9) (8 9)\n",
            "\n",
            "CB del generador 9:\n",
            " [[1 0 0 0 0 0 0 0 0 0]\n",
            " [0 1 0 0 0 0 0 0 0 0]\n",
            " [0 0 1 0 0 0 0 0 0 0]\n",
            " [0 0 0 1 0 0 0 0 0 0]\n",
            " [0 0 0 0 1 0 0 0 0 0]\n",
            " [0 0 0 0 0 1 0 0 0 0]\n",
            " [0 0 0 0 0 0 1 0 0 0]\n",
            " [0 0 0 0 0 0 0 1 0 0]\n",
            " [0 0 0 0 0 0 0 21 21 1]\n",
            " [0 0 0 0 0 0 0 0 0 1]]\n",
            "\n",
            "CB del generador -9:\n",
            " [[1 0 0 0 0 0 0 0 0 0]\n",
            " [0 1 0 0 0 0 0 0 0 0]\n",
            " [0 0 1 0 0 0 0 0 0 0]\n",
            " [0 0 0 1 0 0 0 0 0 0]\n",
            " [0 0 0 0 1 0 0 0 0 0]\n",
            " [0 0 0 0 0 1 0 0 0 0]\n",
            " [0 0 0 0 0 0 1 0 0 0]\n",
            " [0 0 0 0 0 0 0 1 0 0]\n",
            " [0 0 0 0 0 0 0 1 26 26]\n",
            " [0 0 0 0 0 0 0 0 0 1]]\n",
            "\n",
            "'Multiplicación' en CF(2^5) de CB_prueba1 y CB_prueba2:\n",
            " [[1 0 0 0 0 0 0 0 0 0]\n",
            " [0 1 0 0 0 0 0 0 0 0]\n",
            " [0 0 1 0 0 0 0 0 0 0]\n",
            " [0 0 0 1 0 0 0 0 0 0]\n",
            " [0 0 0 0 1 0 0 0 0 0]\n",
            " [0 0 0 0 0 1 0 0 0 0]\n",
            " [0 0 0 0 0 0 1 0 0 0]\n",
            " [0 0 0 0 0 0 0 1 0 0]\n",
            " [0 0 0 0 0 0 0 0 1 0]\n",
            " [0 0 0 0 0 0 0 0 0 1]]\n"
          ]
        }
      ],
      "source": [
        "# Función multiplicadora de matrices sobre el campo CF(2^n)\n",
        "def Mult_Matrix_CF(matriz1, matriz2, gradoCF):\n",
        "\n",
        "  # Creamos el campo finito de grado 2^gradoCF\n",
        "  CF = ffield.FField(gradoCF)\n",
        "\n",
        "  # Matriz donde devolveremos el resultado\n",
        "  filas_res = matriz1.rows        # Coinciden las filas de matriz1 y resultado\n",
        "  columnas_res = matriz2.cols     # Igual para las columnas de matriz2\n",
        "  resultado = Matrix.zeros(filas_res, columnas_res)\n",
        "\n",
        "  for i in range(filas_res):\n",
        "    for j in range(columnas_res):\n",
        "      for k in range(matriz1.cols):\n",
        "        resultado[i,j] = CF.Add(resultado[i,j],\n",
        "          int(CF.Multiply(int(matriz1[int(i),int(k)]),\n",
        "                          int(matriz2[int(k),int(j)]))))\n",
        "\n",
        "  return resultado\n",
        "\n",
        "# Ejemplo de multiplicación para 2 matrices de Burau ya permutadas y evaluadas\n",
        "# (preparadas como términos de la E-Multiplicación)\n",
        "generador1 = 9\n",
        "generador2 = -9\n",
        "gradoBn = 10\n",
        "gradoCF = 5\n",
        "permutacion1 = ProyectarSn([], 10)\n",
        "permutacion2 = ProyectarSn([generador2], 10)\n",
        "print(\"Permutaciones aplicadas a los t_values:\\n\", permutacion1, permutacion2)\n",
        "t1, t2, t3, t4, t5, t6, t7,t8,t9,t10 = symbols('t1 t2 t3 t4 t5 t6 t7 t8 t9 t10')\n",
        "t_values = np.array([t1, t2, t3, t4, t5, t6, t7, t8, t9, t10])\n",
        "eval = np.array([15,10,1,1,4,17,8,7,21,7])\n",
        "\n",
        "CB_prueba1 = Eval_CB_EMult(generador1, gradoBn, gradoCF, permutacion1, t_values,\n",
        "                          eval)\n",
        "CB_prueba2 = Eval_CB_EMult(generador2, gradoBn, gradoCF, permutacion2, t_values,\n",
        "                          eval)\n",
        "# Multiplicamos CB_prueba1 y CB_prueba2 en el cuerpo CF(2^gradoCF)\n",
        "resultado = Mult_Matrix_CF(CB_prueba1, CB_prueba2, gradoCF)\n",
        "\n",
        "print(f\"\\nCB del generador {generador1}:\\n\", np.array(CB_prueba1))\n",
        "print(f\"\\nCB del generador {generador2}:\\n\", np.array(CB_prueba2))\n",
        "print(f\"\\n'Multiplicación' en CF(2^{gradoCF}) de CB_prueba1 y CB_prueba2:\\n\",\n",
        "      np.array(resultado))"
      ]
    },
    {
      "cell_type": "markdown",
      "metadata": {
        "id": "1N_qsbkfNS_k"
      },
      "source": [
        "La función `E_Multiplicacion` utilizará internamente las dos funciones auxiliares que acabamos de implementar, para desarrollar la E-Multiplicación de una trenza arbitraria como el producto secuencial de las E-Multiplicaciones de los generadores de las trenza.\n",
        "\n",
        "Implementamos también \"E_Multiplicacion_P\" para el caso $(M, \\sigma) = (Id_N, Id_{S_N})$"
      ]
    },
    {
      "cell_type": "code",
      "execution_count": 24,
      "metadata": {
        "colab": {
          "base_uri": "https://localhost:8080/"
        },
        "id": "wKSZkvh8NgcD",
        "outputId": "e8675006-db1d-48cb-f481-ebfc3bf9f179"
      },
      "outputs": [
        {
          "output_type": "stream",
          "name": "stdout",
          "text": [
            "M = [[14 9 14 14]\n",
            " [0 17 6 6]\n",
            " [21 20 26 26]\n",
            " [17 19 30 29]]\n",
            "\n",
            "permutacionM =  (3)(0 1)\n",
            "\n",
            "Palabra trenza =  [-2, 1, 3]\n",
            "\n",
            "Permutación trenza =  (0 2 3 1)\n",
            "\n",
            "\n",
            "E-Multiplicación para M y permM arbitrarias:\n",
            " [[12 9 26 20]\n",
            " [6 23 0 6]\n",
            " [26 27 1 27]\n",
            " [17 28 9 20]]\n",
            "\n",
            "Permutación final: (0 2 3)\n",
            "\n",
            "\n",
            "E-Multiplicación trivial:\n",
            " [[1 1 0 0]\n",
            " [1 24 3 26]\n",
            " [0 26 26 1]\n",
            " [0 0 0 1]]\n",
            "\n",
            "Permutación final: (0 2 3 1)\n"
          ]
        }
      ],
      "source": [
        "# Función para E-Multiplicar (M, permutacionM)*(palabra, permutacionPalabra)\n",
        "def E_Multiplicacion(M, permutacionM, palabra,\n",
        "                     gradoBn, gradoCF, t_values, eval):\n",
        "\n",
        "  # Una E-Multiplicación (acumulada) para cada generador de la palabra\n",
        "  for gen in palabra:\n",
        "\n",
        "    # Calculamos la evaluación de la r->CB(gen)\n",
        "    Eval_aux = Eval_CB_EMult(gen, gradoBn,gradoCF, permutacionM, t_values, eval)\n",
        "\n",
        "    # Multiplicamos las matrices (acumulativamente) en CF(2^gradoCF)\n",
        "    M = Mult_Matrix_CF(Matrix(M), Matrix(Eval_aux), gradoCF)\n",
        "\n",
        "    # Actualizamos permutación/acción\n",
        "    permutacionM = ProyectarSn([gen], gradoBn) * permutacionM\n",
        "\n",
        "  return (M, permutacionM)\n",
        "\n",
        "# E-Multiplicación trivial\n",
        "def E_Multiplicacion_P(palabra, gradoBn, gradoCF, t_values, eval):\n",
        "\n",
        "  return E_Multiplicacion(np.eye(gradoBn), Permutation(range(gradoBn)), palabra,\n",
        "                          gradoBn, gradoCF, t_values, eval)\n",
        "\n",
        "# Datos de la E-Multiplicación\n",
        "gradoBn = 4\n",
        "gradoCF = 5\n",
        "M = Matrix(np.random.randint(0, 32, size = (gradoBn, gradoBn)))\n",
        "#M = Matrix([[5,18,0,0], [0,0,0,1],[0,2,0,0],[1,0,9,1]])\n",
        "permutacionM = Permutation.random(gradoBn)\n",
        "#permutacionM = Permutation(0,3,1,2)\n",
        "trenza = Braid(gradoBn, [-2, 1, 3])\n",
        "t1, t2, t3, t4 = symbols('t1 t2 t3 t4')\n",
        "t_values = np.array([t1, t2, t3, t4])\n",
        "eval = np.array([1, 26, 21, 19])\n",
        "\n",
        "# E-Multiplicación para M y permM arbitrarias\n",
        "E_mult = E_Multiplicacion(M, permutacionM, trenza.elementos, gradoBn, gradoCF,\n",
        "                          t_values, eval)\n",
        "print(\"M =\", np.array(M))\n",
        "print(\"\\npermutacionM = \", permutacionM)\n",
        "print(\"\\nPalabra trenza = \", trenza.elementos)\n",
        "print(\"\\nPermutación trenza = \", trenza.perm)\n",
        "\n",
        "print(\"\\n\\nE-Multiplicación para M y permM arbitrarias:\\n\", np.array(E_mult[0]))\n",
        "print(\"\\nPermutación final:\", E_mult[1])\n",
        "\n",
        "# E-Multiplicación para M y permM identidad\n",
        "E_mult_P = E_Multiplicacion_P(trenza.elementos, gradoBn, gradoCF, t_values,\n",
        "                              eval)\n",
        "print(\"\\n\\nE-Multiplicación trivial:\\n\", np.array(E_mult_P[0]))\n",
        "print(\"\\nPermutación final:\", E_mult_P[1])"
      ]
    },
    {
      "cell_type": "markdown",
      "metadata": {
        "id": "eCrXmvAm7Rn5"
      },
      "source": [
        "# CLOAKING ELEMENTS"
      ]
    },
    {
      "cell_type": "markdown",
      "metadata": {
        "id": "-AO6ZN14LD2m"
      },
      "source": [
        "Una vez definida la E-Multiplicación, para cada $(M, \\sigma) \\in GL(N, \\mathbb{F}_q) \\times \\mathbb{S}_N $ se puede definir el subgrupo $Cloak_{(M, \\sigma)} ⊂ \\mathbb{B}_N$ formado por las trenzas $\\beta$ que verifican\n",
        "\n",
        "$$ (M, \\sigma) \\ast \\beta = (M, \\sigma)$$\n",
        "\n",
        "para una $\\ast$ E-Multiplicación fijada (= conjunto de t_values fijados).\n",
        "\n",
        "Aplicaremos el siguiente procedimiento para calcular Cloaking Elements de $(M, \\sigma)$, dado un conjunto de t-values definitorios de la E-Multiplicación, en el que al menos 2, obviando el primero y el último, son igual 1:\n",
        "\n",
        "1. Fijamos $a, b$ con $ 1 < a < b < N$ y $t_a = 1 = t_b$\n",
        "2. Tomamos un generador $b_i$ cualquiera de $B_n$\n",
        "3. Tomamos $w \\in \\mathbb{B}_N$ verificando $\\pi_{w}(i) = \\sigma^{-1}(a), \\space \\pi_{w}(i+1) = \\sigma^{-1}(b)$\n",
        "4. La trenza $ v = wb_{i}^{2}w^{-1} \\in Cloak_{(M, \\sigma)}$"
      ]
    },
    {
      "cell_type": "code",
      "execution_count": 25,
      "metadata": {
        "colab": {
          "base_uri": "https://localhost:8080/"
        },
        "id": "JdKPQ6jWOIfd",
        "outputId": "7ea04f85-7fb5-49d6-edb8-e782061900e0"
      },
      "outputs": [
        {
          "output_type": "stream",
          "name": "stdout",
          "text": [
            "COMPROBADOR T_UNOS:\n",
            "T_values donde buscar t_unos:  [ 1  4 -1  1  1  4  1  7  9  1]\n",
            "Posiciones de los 2 primeros t_unos:  [0, 3]\n",
            "\n",
            "GENERADOR PERMUTACION PARA T_UNOS:\n",
            "Permutacion M: (9)(3 5)(7 8)\n",
            "Permutacion aleatoria que cumple las restricciones definidas por los t_unos: (0 7 1 6 5)(2 4 3)(8 9)\n",
            "Efectivamente: \n",
            "\t rw(generador) =  0\n",
            "\t rw(generador + 1) =  5\n",
            "\t r-1(t_unos[0]) =  0\n",
            "\t r-1(t_unos[1]) =  5\n",
            "\n",
            "Cloak Element para (M, r) y los t_values fijados:\n",
            " [-3, 9, 2, -9, -8, -3, 9, -9, 2, 4, -2, 6, -4, 1, -7, -7, -7, 5, 6, -1, 3, 8, 8, -3, -9, -3, -2, -4, 6, 9, -8, 3, 9, 5, 9, 7, 1, -6, 9, 5, -9, 3, 7, 9, -9, -4, -2, 1, -1, -9, 2, 2, 4, 2, -7, 6, -7, 8, 2, 6, -3, -1, 9, -9, 5, -5, -6, -5, 7, 2, -9, 4, -8, 7, 3, 7, 9, 9, 3, -1, -1, 3, -5, -7, 6, 2, 1, -3, 6, -6, 4, 6, -9, -2, 9, 4, 6, 6, -4, -9, 2, 9, -6, -4, 6, -6, 3, -1, -2, -6, 7, 5, -3, 1, 1, -3, -9, -9, -7, -3, -7, 8, -4, 9, -2, -7, 5, 6, 5, -5, 9, -9, 1, 3, -6, -2, -8, 7, -6, 7, -2, -4, -2, -2, 9, 1, -1, 2, 4, 9, -9, -7, -3, 9, -5, -9, 6, -1, -7, -9, -5, -9, -3, 8, -9, -6, 4, 2, 3, 9, 3, -8, -8, -3, 1, -6, -5, 7, 7, 7, -1, 4, -6, 2, -4, -2, 9, -9, 3, 8, 9, -2, -9, 3]\n"
          ]
        }
      ],
      "source": [
        "import random\n",
        "\n",
        "# Comprueba si los t_values contienen al menos 2 t_unos (principio y final no\n",
        "# cuentan como t_unos) siendo exactamente gradoBn t_values\n",
        "def Comprobador_cloak_t_unos(t_eval, gradoBn):\n",
        "\n",
        "  # Comprobemos que hay exactamente gradoBn t_values\n",
        "  if (len(t_eval) == gradoBn):\n",
        "\n",
        "    # Comprobemos que al menos hay 2 t_values (a parte del primero y el último)\n",
        "    # con valor 1 (t_unos) y nos quedamos con los 2 primeros\n",
        "    count = 0           # Contador de t_values == 1\n",
        "    t_unos = [-1, -1]   # Almacenará las posiciones de los t_unos\n",
        "    for i in range(gradoBn):\n",
        "      if (count == 2):  # Paramos de iterar cuando encontremos 2 t_unos\n",
        "        break\n",
        "      else :\n",
        "        if (i != (gradoBn - 1)): # Obviamos el primero y el último\n",
        "          if (t_eval[i] == 1):\n",
        "            count += 1\n",
        "            t_unos[count-1] = i   # Guardamos la posicion de los t_values\n",
        "\n",
        "    if (count == 2):\n",
        "      return t_unos\n",
        "    else:\n",
        "      print(\"\\nEl procedimiento no es aplicable para este conjunto de t_values\\\n",
        "      \\n\")\n",
        "      return None\n",
        "\n",
        "  # Si no cumple el requisito de ser exactamente gradoBn no son t_unos válidos\n",
        "  else:\n",
        "    print(\"\\nEl procedimiento no es aplicable para este conjunto de t_values\\n\")\n",
        "    return None\n",
        "\n",
        "# Función auxiliar que genera una palabra aleatoria (trenza) del grupo n-ésimo\n",
        "# de longitud  mínima l1  y máxima l2\n",
        "def Palabra_aleatoria(n, l1, l2):\n",
        "\n",
        "  # Crea una lista aleatoria de números entre -(n-1) y n-1 (excluido el 0)\n",
        "  numeros = list(range(-n+1,n))\n",
        "  numeros.remove(0)\n",
        "\n",
        "  # Genera la longitud aleatoriamente entre 1 y l\n",
        "  longitud = random.randint(l1,l2)\n",
        "\n",
        "  # Genera los elementos de la palabra\n",
        "  palabra = []\n",
        "  for _ in range(longitud):\n",
        "    numero = random.choice(numeros)\n",
        "    palabra.append(numero)\n",
        "\n",
        "  return palabra\n",
        "\n",
        "# Genera la trenza que junto a \"generador\" define el Cloak Element\n",
        "def Generador_trenza_cloak(generador, permutacionM, t_unos, gradoBn):\n",
        "\n",
        "  # Generamos aleatoriamente la potencial trenza junto con su permutacion\n",
        "  # aplicada a generador y generador + 1 a comparar con (*)\n",
        "  palabra_generada = Palabra_aleatoria(gradoBn, gradoBn*5, gradoBn*10)\n",
        "  permutacion_generada = ProyectarSn(palabra_generada, gradoBn)\n",
        "\n",
        "  # Repetimos el proceso hasta que se den las condiciones para los t_unos\n",
        "  while ((AplicarPermPos(permutacion_generada,generador-1) != AplicarPermPos(permutacionM**(-1),t_unos[0])) or\n",
        "         (AplicarPermPos(permutacion_generada, generador) != AplicarPermPos(permutacionM**(-1),t_unos[1]))):\n",
        "    palabra_generada = Palabra_aleatoria(gradoBn, gradoBn*5, gradoBn*10)\n",
        "    permutacion_generada = ProyectarSn(palabra_generada, gradoBn)\n",
        "\n",
        "  # Una vez encontrada la palabra cuya permutacion proyeccion cumple los 2\n",
        "  # requisitos del procedimiento, creamos formalmente la trenza asociada\n",
        "  trenza_Cloak = Braid(gradoBn, palabra_generada)\n",
        "\n",
        "  return trenza_Cloak\n",
        "\n",
        "# Genera el Cloak Element para (M, permutacionM), los t_values fijados\n",
        "# y con generador como semilla (replicable el procedimiento para cualquier otro\n",
        "# generador, obteniendo nuevos elementos del subgrupo Cloak)\n",
        "def Cloaking_Element(permutacionM, t_values, generador, gradoBn):\n",
        "\n",
        "  #Calculamos los dos primeros t_unos (si no los hay devolvemos error)\n",
        "  t_unos = Comprobador_cloak_t_unos(t_values, gradoBn)\n",
        "  if (t_unos == None):\n",
        "    return None\n",
        "  else:\n",
        "\n",
        "    # Generamos la trenza w que cumpla ambas restricciones para los t_unos\n",
        "    w = Generador_trenza_cloak(generador, permutacionM, t_unos, gradoBn)\n",
        "\n",
        "    # Generamos la trenza asociada al generador elegido\n",
        "    trenza_generador = Braid(gradoBn, [generador])\n",
        "\n",
        "    # Construimos la trenza Cloak Element\n",
        "    palabra_final = w.elementos + trenza_generador.elementos + \\\n",
        "    trenza_generador.elementos + w.inverseBraid().elementos\n",
        "\n",
        "    Cloak_Element = Braid(gradoBn, palabra_final)\n",
        "\n",
        "    return Cloak_Element\n",
        "\n",
        "# Prueba comprobador t_unos\n",
        "gradoBn = 10\n",
        "t_values = np.array([1,4,-1,1,1,4,1,7,9,1])\n",
        "t_unos = Comprobador_cloak_t_unos(t_values, gradoBn)\n",
        "print(\"COMPROBADOR T_UNOS:\")\n",
        "print(\"T_values donde buscar t_unos: \", t_values)\n",
        "print(\"Posiciones de los 2 primeros t_unos: \",\n",
        "      t_unos)\n",
        "\n",
        "# Prueba generador trenza auxiliar Cloak\n",
        "generador = 6\n",
        "permutacionM = ProyectarSn([2,5,4,8,5,-2], gradoBn)\n",
        "print(\"\\nGENERADOR PERMUTACION PARA T_UNOS:\")\n",
        "print(\"Permutacion M:\", permutacionM)\n",
        "# w es la trenza auxiliar que buscabamos para construir el Cloak Element\n",
        "w = Generador_trenza_cloak(generador, permutacionM, t_unos, 10)\n",
        "print(\"Permutacion aleatoria que cumple las restricciones definidas por los\\\n",
        " t_unos:\", Generador_trenza_cloak(generador, permutacionM, t_unos, 10).perm)\n",
        "print(\"Efectivamente: \\n\\\n",
        "\\t rw(generador) = \", w.perm.apply(generador-1))\n",
        "print(\"\\t rw(generador + 1) = \", w.perm.apply(generador))\n",
        "print(\"\\t r-1(t_unos[0]) = \", (permutacionM**(-1)).apply(t_unos[0]))\n",
        "print(\"\\t r-1(t_unos[1]) = \", (permutacionM**(-1)).apply(t_unos[1]))\n",
        "\n",
        "# Prueba generador Cloak Element\n",
        "Cloak_Element = Cloaking_Element(permutacionM, t_values, generador, gradoBn)\n",
        "print(\"\\nCloak Element para (M, r) y los t_values fijados:\\n\",\n",
        "      Cloak_Element.elementos)"
      ]
    },
    {
      "cell_type": "markdown",
      "metadata": {
        "id": "7BdjG0MI-7_Y"
      },
      "source": [
        "Comprobemos ahora que efectivamente cualquier $\\beta$ Cloak Element que generamos mediante la función Cloaking_Element() desaparece al multiplicarse por la derecha para los $(M, \\sigma)$ y la E-Multiplicación fijados:\n",
        "\n",
        "$$ (M, \\sigma) \\ast \\beta = (M, \\sigma)$$\n"
      ]
    },
    {
      "cell_type": "code",
      "execution_count": 26,
      "metadata": {
        "colab": {
          "base_uri": "https://localhost:8080/"
        },
        "id": "pV5gCYXu_ZjJ",
        "outputId": "7abde653-35f2-4531-ae04-6ce3cbbc4342"
      },
      "outputs": [
        {
          "output_type": "stream",
          "name": "stdout",
          "text": [
            "NOTA: PARA CONSEGUIR QUE CALCULE UN CLOACK ELEMENT EN TODAS LAS EJECUCIONES EN UN \n",
            "TIEMPO RAZONABLE, HEMOS TENIDO QUE PERMITIR UNA LONGITUD  PARA TRENZA AUXILIAR DE \n",
            "HASTA 10*gradoBN. \n",
            "Supononemos que para longitudes  menores es más difícil combinar los generadores satisfaciendo los requisitos . Al aumentar la longitud \n",
            "estos requisitos se vuelven equiprobables con el  resto de posibilidades.\n",
            "\n",
            "\n",
            "Matriz M:\n",
            " [[16 9 2 20 4 29 2 30]\n",
            " [22 6 2 19 20 19 26 15]\n",
            " [24 25 21 8 5 13 16 13]\n",
            " [3 9 4 20 14 1 7 6]\n",
            " [9 9 15 29 29 10 9 2]\n",
            " [3 14 0 14 7 15 18 23]\n",
            " [24 11 30 5 31 6 11 29]\n",
            " [14 24 9 26 30 4 7 2]]\n",
            "\n",
            "Permutación_M: (0 2 5 4 7 6 3 1)\n",
            "\n",
            "T_values: [20  1  3  4  4 17  1 10]\n",
            "\n",
            "Cloak Element generado: [7, 6, -1, -3, -1, -7, 5, 5, 3, -2, 7, 3, -1, -3, -5, 2, -3, -7, 1, -1, -1, -1, 6, 7, -1, 2, 5, -2, -6, -4, 1, 4, 7, 3, 2, -2, 4, 7, -7, 6, 7, 1, -1, -6, -7, -2, 1, 5, 2, -3, 1, -4, -2, 6, 1, -1, 3, -4, -6, -5, 2, -3, -4, -3, -3, 2, -4, 4, 5, 3, 3, 3, -3, -5, -4, 4, -2, 3, 3, 4, 3, -2, 5, 6, 4, -3, 1, -1, -6, 2, 4, -1, 3, -2, -5, -1, 2, 7, 6, 1, -1, -7, -6, 7, -7, -4, 2, -2, -3, -7, -4, -1, 4, 6, 2, -5, -2, 1, -7, -6, 1, 1, 1, -1, 7, 3, -2, 5, 3, 1, -3, -7, 2, -3, -5, -5, 7, 1, 3, 1, -6, -7]\n",
            "\n",
            "Longitud Cloak Element generado: 142\n",
            "\n",
            "Permutación Cloak Element: (7)\n",
            "T_VALUES [t1 t2 t3 t4 t5 t6 t7 t8]\n",
            "EVAL [20  1  3  4  4 17  1 10]\n",
            "\n",
            "E-Multiplicación para M y permM:\n",
            " [[16 9 2 20 4 29 2 30]\n",
            " [22 6 2 19 20 19 26 15]\n",
            " [24 25 21 8 5 13 16 13]\n",
            " [3 9 4 20 14 1 7 6]\n",
            " [9 9 15 29 29 10 9 2]\n",
            " [3 14 0 14 7 15 18 23]\n",
            " [24 11 30 5 31 6 11 29]\n",
            " [14 24 9 26 30 4 7 2]]\n",
            "\n",
            "Permutación final: (0 2 5 4 7 6 3 1)\n"
          ]
        }
      ],
      "source": [
        "# M y permM arbitrarias\n",
        "gradoBn = 8\n",
        "gradoCF = 5\n",
        "M = Matrix(np.random.randint(0, 32, size = (gradoBn, gradoBn)))\n",
        "permutacionM = Permutation.random(gradoBn)\n",
        "t1, t2, t3, t4, t5, t6, t7,t8 = symbols('t1 t2 t3 t4 t5 t6 t7 t8')\n",
        "t_values = np.array([t1, t2, t3, t4, t5, t6, t7, t8])\n",
        "eval = np.array([20,1,3,4,4,17,1,10])\n",
        "\n",
        "# Calculamos un Cloak Element para M, permM y los t_values elejidos\n",
        "print(\"NOTA: PARA CONSEGUIR QUE CALCULE UN CLOACK ELEMENT EN TODAS LAS\\\n",
        " EJECUCIONES EN UN \\nTIEMPO RAZONABLE, HEMOS TENIDO QUE PERMITIR UNA LONGITUD \\\n",
        " PARA TRENZA AUXILIAR DE \\nHASTA 10*gradoBN. \\nSupononemos que para longitudes \\\n",
        " menores es más difícil combinar los generadores satisfaciendo los requisitos\\\n",
        " . Al aumentar la longitud \\nestos requisitos se vuelven equiprobables con el \\\n",
        " resto de posibilidades.\\n\\n\")\n",
        "\n",
        "Cloak_Element = Cloaking_Element(permutacionM, eval, 3, gradoBn)\n",
        "\n",
        "print(\"Matriz M:\\n\", np.array(M))\n",
        "print(\"\\nPermutación_M:\", permutacionM)\n",
        "print(\"\\nT_values:\", eval)\n",
        "print(\"\\nCloak Element generado:\", Cloak_Element.elementos)\n",
        "print(\"\\nLongitud Cloak Element generado:\", len(Cloak_Element.elementos))\n",
        "print(\"\\nPermutación Cloak Element:\", Cloak_Element.perm)\n",
        "\n",
        "# Aplicamos la E-Multiplicación para validar procedimiento\n",
        "print(\"T_VALUES\", t_values)\n",
        "print(\"EVAL\", eval)\n",
        "E_mult_Cloaking_Element0 = E_Multiplicacion(M, permutacionM,\n",
        "  Cloak_Element.elementos, gradoBn, gradoCF, t_values, eval)\n",
        "print(\"\\nE-Multiplicación para M y permM:\\n\", np.array(E_mult_Cloaking_Element0[0]))\n",
        "print(\"\\nPermutación final:\", E_mult_Cloaking_Element0[1])"
      ]
    },
    {
      "cell_type": "markdown",
      "metadata": {
        "id": "boRwGOeNnCD9"
      },
      "source": [
        "# ENCODER"
      ]
    },
    {
      "cell_type": "markdown",
      "metadata": {
        "id": "yUOaR2JsnNnc"
      },
      "source": [
        "WalnutDSA firma y verifica mensajes trabajando sobre el grupo n-ésimo de trenzas. El encoder convierte un mensaje (presumiblemente $\\in \\{0,1\\}^*$) en una palabra representante de una trenza. Con este fin se siguen los pasos siguientes:\n",
        "\n",
        "  0. $B: M ⟶ \\{0,1\\}^*$\n",
        "  1. $H: \\{0,1\\}^* ⟶ \\{0,1\\}^{4k}$\n",
        "  2. $E: \\{0,1\\}^{4k} ⟶ C_{N,4}$\n",
        "\n",
        "Consideramos fase 0 como la conversión de un mensaje formado por caracteres a formato binario. Esto puede ser opcional si por hipótesis los mensajes ya llegan al encoder en formato binario.\n",
        "\n",
        "En la fase 1 se aplica la función Hash SHA-256 (segunda generación SHA, aún segura). Se utilizará la biblioteca `hashlib`, que mediante el método `digest()` devuelve una salida en bytes, la convertiremos a bits. Por tanto, la cadena de entra a la fase 2 tendrá una longitud de 256 bits.\n",
        "\n",
        "En la fase 2, trabajaremos a nivel de cuarteto de bits. Necesitamos elegir 4 generadores de un subgrupo de trenzas puras, con los que se construirá la trenza codificada completa, asegurando así que esta trenza final es pura (requisito necesario para WaltnutDSA). Para ello, se proporciona una colección de N-1 posibles generadores, $\\{g_{1, N}, g_{2, N}, g_{3, N}, ..., g_{N-1, N}\\}$,  que describiremos más adelante, de los cuáles se elegirán 4 aleatoriamente, $\\{g_{k_1, N}, g_{k_2, N}, g_{k_3, N}, g_{k_4, N}\\}$. Cada cuarteto se codificará utilizando los 2 primeros bits para elegir unos de los 4 generadores y, los 2 segundos bits, para su potencia.\n",
        "\n"
      ]
    },
    {
      "cell_type": "markdown",
      "metadata": {
        "id": "ZXFddCUf_Ja-"
      },
      "source": [
        "**FASE 0:** Convirtamos una secuencia cualquiera de caracteres en una cadena binaria."
      ]
    },
    {
      "cell_type": "code",
      "execution_count": 27,
      "metadata": {
        "colab": {
          "base_uri": "https://localhost:8080/"
        },
        "id": "mxKZmGsWnGHj",
        "outputId": "f24aec1e-30b8-48a0-d7c0-96e62b460689"
      },
      "outputs": [
        {
          "output_type": "stream",
          "name": "stdout",
          "text": [
            "Mensaje en código ASCII: HOLA\n",
            "Mensaje en binario: 01001000010011110100110001000001\n"
          ]
        }
      ],
      "source": [
        "def mensaje_a_binario(mensaje):\n",
        "    # Convertir el mensaje en una cadena de bytes (usando UTF-8)\n",
        "    mensaje_bytes = mensaje.encode('utf-8')\n",
        "\n",
        "    # Convertir bytes del mensaje en cadenas binarias de 8 bits y concatenarlas\n",
        "    mensaje_binario = ''.join(format(byte, '08b') for byte in mensaje_bytes)\n",
        "\n",
        "    return mensaje_binario\n",
        "\n",
        "# Ejemplo de uso\n",
        "mensaje = \"HOLA\"\n",
        "print(\"Mensaje en código ASCII:\", mensaje)\n",
        "binario = mensaje_a_binario(mensaje)\n",
        "print(\"Mensaje en binario:\", binario)\n"
      ]
    },
    {
      "cell_type": "markdown",
      "metadata": {
        "id": "X8WC_epGAk8d"
      },
      "source": [
        "**FASE 1:** Aplicamos función SHA-256 utilizando la biblioteca `hashlib`."
      ]
    },
    {
      "cell_type": "code",
      "execution_count": 28,
      "metadata": {
        "colab": {
          "base_uri": "https://localhost:8080/"
        },
        "id": "2T2zKjzJ_sQl",
        "outputId": "aa0a80ae-f33c-4617-d841-c27e16fb1912"
      },
      "outputs": [
        {
          "output_type": "stream",
          "name": "stdout",
          "text": [
            "\n",
            "Salida del Hash binaria organizada en cuartetos;\n",
            " ['0111', '0011', '1100', '0011', '1101', '1110', '0100', '0001', '0111', '0101', '0100', '0100', '1001', '1001', '1000', '0111', '1110', '1111', '0110', '0000', '0100', '0111', '1111', '0110', '1110', '0000', '1011', '1110', '1010', '1001', '0001', '1100', '0001', '0000', '0011', '0110', '1010', '1000', '0101', '1001', '1001', '1011', '0100', '0011', '0001', '0001', '0011', '1011', '0011', '1111', '1001', '1001', '0000', '0001', '0000', '0100', '1010', '1011', '0010', '1001', '0100', '1010', '0100', '0111']\n",
            "Cantidad de cuartetos: 64\n",
            "Efectivamente, lo he esperado son 64 cuartertos de 4 bits (256 bits como salida de SHA-256)\n"
          ]
        }
      ],
      "source": [
        "import hashlib\n",
        "\n",
        "# Aplica función hash SHA-256 a mensaje, convierte la salida a binario y la\n",
        "# organiza en cuartetos antes de devolverla\n",
        "def SHA256(mensaje):\n",
        "\n",
        "  # Objeto que permite aplicar función Hash\n",
        "  SHA_256 = hashlib.sha256()\n",
        "  SHA_256.update(mensaje)\n",
        "\n",
        "  # Obtener salida del hash como bytes\n",
        "  hash_bytes = SHA_256.digest()\n",
        "\n",
        "  # Convertir la salida del hash a binario\n",
        "  hash_bin = ''.join(format(byte, '08b') for byte in hash_bytes)\n",
        "\n",
        "  # Organizamos la lista de bits en cuartetos\n",
        "  cuartetos = []\n",
        "  for i in range(0, len(hash_bin), 4):\n",
        "      cuarteto = hash_bin[i:i+4]\n",
        "      cuartetos.append(cuarteto)\n",
        "\n",
        "  # Devolvemos la salida hash organizada en cuartetos\n",
        "  return hash_bin, cuartetos\n",
        "\n",
        "# Prueba de función Hash\n",
        "mensaje = b\"HOLA\"\n",
        "cuartetos = SHA256(mensaje)[1]\n",
        "print(\"\\nSalida del Hash binaria organizada en cuartetos;\\n\", cuartetos)\n",
        "print(\"Cantidad de cuartetos:\", len(cuartetos))\n",
        "print(\"Efectivamente, lo he esperado son 64 cuartertos de 4 bits (256 bits como\\\n",
        " salida de SHA-256)\")"
      ]
    },
    {
      "cell_type": "markdown",
      "metadata": {
        "id": "1r-h31ZOBlE7"
      },
      "source": [
        "**FASE 2** Implementamos la colección posibles generadores, en función del grado de $\\mathbb{B}_N$, elegimos 4 y codificamos cada cuarteto en una potencia de los generadores elegidos"
      ]
    },
    {
      "cell_type": "code",
      "execution_count": 29,
      "metadata": {
        "colab": {
          "base_uri": "https://localhost:8080/"
        },
        "id": "plfzLc0qBLai",
        "outputId": "c75ea642-a64d-4f60-fcb7-19ec287ab5e4"
      },
      "outputs": [
        {
          "output_type": "stream",
          "name": "stdout",
          "text": [
            "Colección de generadores de un subgrupo puro para grado 8:\n",
            "g(7, 8) = [7, 7]\n",
            "g(6, 8) = [7, 6, 6, -7]\n",
            "g(5, 8) = [7, 6, 5, 5, -6, -7]\n",
            "g(4, 8) = [7, 6, 5, 4, 4, -5, -6, -7]\n",
            "g(3, 8) = [7, 6, 5, 4, 3, 3, -4, -5, -6, -7]\n",
            "g(2, 8) = [7, 6, 5, 4, 3, 2, 2, -3, -4, -5, -6, -7]\n",
            "g(1, 8) = [7, 6, 5, 4, 3, 2, 1, 1, -2, -3, -4, -5, -6, -7]\n"
          ]
        }
      ],
      "source": [
        "# Devuelve una lista con los gradoBn - 1 posibles generadores del subgrupo de\n",
        "# trenzas puras sobre el que trabajar\n",
        "def Encoder_gen_sub_pure(gradoBn):\n",
        "\n",
        "  coleccion = []    # Almacenaremos la colección a devolver\n",
        "\n",
        "  # Generadores construidos para la colección\n",
        "  for i in range(gradoBn-1, 0, -1):\n",
        "\n",
        "    aux = []        # Generador N-i_ésimo\n",
        "\n",
        "    # Generadores positivos\n",
        "    for j in range(gradoBn-1, i-1, -1):\n",
        "\n",
        "      aux.append(j)\n",
        "\n",
        "    aux.append(i)    # Elemento cuadrado central de la palabra\n",
        "\n",
        "    # Generadores negativos\n",
        "    for j in range(i+1, gradoBn):\n",
        "\n",
        "      aux.append(-j)\n",
        "\n",
        "    coleccion.append(aux)\n",
        "\n",
        "  coleccion.reverse()\n",
        "\n",
        "  return coleccion\n",
        "\n",
        "# Prueba generador colección de generadores\n",
        "gradoBn = 8\n",
        "coleccion_generadores = Encoder_gen_sub_pure(gradoBn)\n",
        "print(\"Colección de generadores de un subgrupo puro para grado %d:\" % gradoBn)\n",
        "for i in range(gradoBn-1, 0, -1):\n",
        "  print(\"g(%d, %d) = %s\" %  (i, gradoBn, coleccion_generadores[i-1]))"
      ]
    },
    {
      "cell_type": "code",
      "execution_count": 30,
      "metadata": {
        "colab": {
          "base_uri": "https://localhost:8080/"
        },
        "id": "6edKaG8XEwr5",
        "outputId": "1f27927b-a6c6-4ca4-8607-93c4625fa9b4"
      },
      "outputs": [
        {
          "output_type": "stream",
          "name": "stdout",
          "text": [
            "4 generadores elegidos aleatoriamente para la codificación:\n",
            "\n",
            "g(k0, 8) = [7, 6, 5, 5, -6, -7]\n",
            "g(k1, 8) = [7, 6, 6, -7]\n",
            "g(k2, 8) = [7, 6, 5, 4, 3, 2, 1, 1, -2, -3, -4, -5, -6, -7]\n",
            "g(k3, 8) = [7, 6, 5, 4, 3, 3, -4, -5, -6, -7]\n"
          ]
        }
      ],
      "source": [
        "# Extrae aleatoriamente una subcolección de n elementos de coleccion\n",
        "def SubColeccion_Random(coleccion, n):\n",
        "\n",
        "  if (len(coleccion) < n or n < 1):  # Comprobamos que n sea una longitud válida\n",
        "    return Null\n",
        "  else:\n",
        "    sublista = random.sample(coleccion, n)\n",
        "    return sublista\n",
        "\n",
        "CN4 = SubColeccion_Random(coleccion_generadores, 4)\n",
        "\n",
        "print(\"4 generadores elegidos aleatoriamente para la codificación:\\n\")\n",
        "for i in range(len(CN4)):\n",
        "  print(\"g(k%d, %d) = %s\" %  (i, gradoBn, CN4[i]))"
      ]
    },
    {
      "cell_type": "code",
      "execution_count": 31,
      "metadata": {
        "colab": {
          "base_uri": "https://localhost:8080/"
        },
        "id": "50F3-L5JD5FW",
        "outputId": "88e2b07e-8c99-4a2b-fe9f-0a056cf10020"
      },
      "outputs": [
        {
          "output_type": "stream",
          "name": "stdout",
          "text": [
            "Salida hash codificada a trenza del subgrupo puro generado:\n",
            "\n",
            "Palabra: [7, 6, 5, 4, 3, 3, 3, 3, 3, 3, -4, 5, 5, 5, 5, 5, 5, 5, 5, 4, 3, 3, -4, -5, 6, 6, 6, 6, 6, 6, 6, 6, 5, 4, 3, 2, 1, 1, 1, 1, 1, 1, 1, 1, -2, -3, -4, 5, 5, 5, 6, 6, 5, 4, 3, 3, 3, 3, -4, -5, 6, 6, 6, 6, 5, 5, 5, 5, 5, 5, 5, 5, 6, 6, 6, 6, 6, 6, 6, 6, 6, 6, 6, 6, 5, 5, 5, 5, 5, 5, 5, 4, 3, 3, 3, 3, 3, 2, 1, 1, 1, 1, 1, 1, 1, 1, -2, 3, 3, 3, 3, 3, 3, 3, 3, 2, 1, 1, 1, 1, -2, -3, -4, 5, 5, 5, 5, 5, 5, 4, 3, 3, 3, 3, 3, 3, 3, 3, 3, 3, 3, 3, 3, 2, 1, 1, 1, 1, 1, 1, 1, 1, 1, 1, 1, 1, -2, -3, -4, 5, 5, 4, 3, 3, 3, 3, 3, 3, 3, 2, 1, 1, 1, 1, 1, 1, 1, 1, 1, 1, 1, 1, 1, 1, -2, -3, -4, -5, 6, 6, 6, 6, 6, 6, 6, 6, 5, 5, 5, 5, 5, 5, 5, 5, 6, 6, 5, 5, 5, 4, 3, 3, 3, 2, 1, 1, 1, 1, 1, 1, 1, 1, 1, 1, -2, -3, -4, 5, 5, 5, 5, 5, 6, 6, 6, 6, 6, 6, 6, 6, 6, 6, 6, 6, 6, 6, 6, 6, 5, 4, 3, 3, 3, 3, 3, 3, -4, 5, 5, 5, 5, 4, 3, 3, -4, -5, 6, 6, 6, 6, 5, 4, 3, 3, 3, 3, 3, 3, 3, 3, 3, 3, 3, 3, 3, 3, 3, 3, 3, 3, -4, -5, 6, 6, 6, 6, 6, 6, 6, 6, 6, 6, 6, 6, 5, 5, 6, 6, 5, 5, 5, 5, 5, 5, 5, 4, 3, 2, 1, 1, 1, 1, 1, 1, -2, 3, 3, 3, 3, 3, 3, 2, 1, 1, -2, -3, -4, -5, 6, 6, 6, 6, 6, 6, 5, 5, 5, 5, 5, 4, 3, 2, 1, 1, 1, 1, 1, 1, -2, -3, -4, 5, 5, 5, 5, 4, 3, 3, 3, 3, -4, -5, -6, -7]\n",
            "Longitud palabra codificada: 374\n",
            "Permutación proyectada por la trenza codificada: (7)\n",
            "Grado del grupo trenzado al que pertenece: 8\n"
          ]
        }
      ],
      "source": [
        "# Codifica una cadena binaria (organizada en cuarteros) en una trenza pura a\n",
        "# partir de 4 generadores puros\n",
        "def Encoder_Bin_Pure(cuartetos, CN4, gradoBn):\n",
        "\n",
        "  palabra_final = []\n",
        "\n",
        "  for cuarteto in cuartetos:\n",
        "\n",
        "    # Determinamos el generador\n",
        "    generador = int(cuarteto[2])*2 + int(cuarteto[3])\n",
        "\n",
        "    # Determinamos el exponente\n",
        "    exponente = int(cuarteto[0])*2 + int(cuarteto[1]) + 1\n",
        "\n",
        "    # Codificamos el cuarteto al grupo trenzado (añadiéndolo a la palabra)\n",
        "    for _ in range(exponente):\n",
        "      palabra_final = palabra_final + CN4[generador]\n",
        "\n",
        "  # Creamos formalmente la trenza representada por la palabra final\n",
        "  trenza_final = Braid(gradoBn, ReduccionLibre(palabra_final))\n",
        "\n",
        "  return trenza_final\n",
        "\n",
        "# Prueba del Encoder\n",
        "trenza_encoder = Encoder_Bin_Pure(cuartetos, CN4, gradoBn)\n",
        "print(\"Salida hash codificada a trenza del subgrupo puro generado:\\n\")\n",
        "print(\"Palabra:\", trenza_encoder.elementos)\n",
        "print(\"Longitud palabra codificada:\", len(trenza_encoder.elementos))\n",
        "print(\"Permutación proyectada por la trenza codificada:\", trenza_encoder.perm)\n",
        "print(\"Grado del grupo trenzado al que pertenece:\", trenza_encoder.grado)\n"
      ]
    },
    {
      "cell_type": "markdown",
      "metadata": {
        "id": "ESKFwMZf_gg8"
      },
      "source": [
        "**PROCEDIMIENTO COMPLETO**"
      ]
    },
    {
      "cell_type": "code",
      "execution_count": 32,
      "metadata": {
        "colab": {
          "base_uri": "https://localhost:8080/"
        },
        "id": "dkR0Tgge2tFC",
        "outputId": "9012b9ac-e703-4fb6-d6df-664e42f8f2b4"
      },
      "outputs": [
        {
          "output_type": "stream",
          "name": "stdout",
          "text": [
            "Mensaje en código ASCII a codificar: b'Hola Mundo!'\n",
            "\n",
            "Salida hash codificada a trenza del subgrupo puro generado:\n",
            " Palabra codificada: [7, 7, 7, 7, 7, 7, 7, 7, 7, 6, 5, 4, 3, 2, 2, 2, 2, -3, -4, -5, -6, 7, 7, 7, 7, 7, 7, 6, 5, 4, 4, 4, 4, 4, 4, -5, -6, 7, 7, 7, 7, 7, 7, 7, 7, 6, 5, 4, 4, 4, 4, 4, 4, -5, 6, 6, 6, 6, 6, 6, 6, 6, 5, 4, 4, -5, 6, 6, 6, 6, 6, 6, 5, 4, 4, -5, 6, 6, 6, 6, 6, 6, 6, 6, 6, 7, 7, 7, 7, 7, 7, 6, 5, 4, 4, 4, 4, 4, 4, 4, 4, 4, 4, 4, 4, -5, 6, 6, 6, 6, 6, 6, 5, 4, 3, 2, 2, 2, 2, 2, 2, 2, 2, -3, -4, -5, -6, 7, 7, 7, 7, 7, 7, 7, 7, 6, 5, 4, 3, 2, 2, 2, 2, 2, 2, -3, -4, -5, -6, 7, 7, 7, 7, 7, 7, 7, 7, 6, 6, 7, 7, 7, 7, 7, 7, 7, 7, 7, 7, 7, 7, 6, 6, 6, 6, 6, 6, 6, 6, 7, 7, 6, 6, 7, 7, 7, 7, 6, 6, 6, 6, 6, 5, 4, 3, 2, 2, 2, 2, 2, 2, 2, 2, -3, -4, -5, -6, 7, 7, 7, 7, 6, 5, 4, 4, 4, 4, 4, 3, 2, 2, 2, 2, 2, 2, 2, 2, -3, -4, -5, 6, 6, 6, 6, 6, 6, 6, 6, 6, 6, 5, 4, 3, 2, 2, -3, -4, -5, -6, 7, 7, 7, 7, 7, 7, 7, 7, 6, 6, 6, 6, 7, 7, 7, 7, 7, 7, 7, 7, 6, 5, 4, 3, 2, 2, 2, 2, 2, 2, 2, 2, -3, 4, 4, 3, 2, 2, 2, 2, 2, 2, 2, 2, -3, -4, -5, -6, 7, 7, 6, 5, 4, 4, 4, 3, 2, 2, 2, 2, 2, 2, 2, 2, -3, -4, -5, -6, 7, 7, 7, 7, 7, 7, 7, 7, 7, 7, 7, 7, 7, 7, 7, 7, 6, 5, 4, 3, 2, 2, 2, 2, 2, 2, 2, 2, -3, -4, -5, 6, 6, 6, 6, 6, 6, 5, 4, 3, 2, 2, 2, 2, 2, 2, -3, -4, -5, 6, 6, 5, 4, 3, 2, 2, -3, -4, -5, 6, 6, 5, 4, 3, 2, 2, 2, 2, 2, 2, 2, 2, 2, 2, 2, 2, -3, -4, -5, 6, 6, 6, 6, 6, 6, 5, 4, 3, 2, 2, 2, 2, 2, 2, 2, 2, -3, -4, -5, -6, -7]\n",
            " Longitud de la palabra codificada: 418\n",
            " Permutación proyectada por la trenza codificada: (7)\n",
            " Grado del grupo trenzado al que pertenece: 8\n"
          ]
        }
      ],
      "source": [
        "# Aplica el procedimento completo de codificación WalnutDSA\n",
        "  # (está la opción de pasar por parámetro CN4 los 4 generadores del grupo libre\n",
        "  # de trenzas puras con el que codificar. Si no se elige aleatoriamente)\n",
        "def Encoder_WalnutDSA(mensaje, gradoBn, CN4 = []):\n",
        "\n",
        "  cuartetos = SHA256(mensaje)[1]     # Aplica función Hash al mensaje\n",
        "\n",
        "  # Posibles generadores del subgrupo CN4\n",
        "  coleccion_generadores = Encoder_gen_sub_pure(gradoBn)\n",
        "\n",
        "  # Se eligen aleatoriamente los 4 generadores de CN4\n",
        "  if (CN4 == []):\n",
        "    CN4 = SubColeccion_Random(coleccion_generadores, 4)\n",
        "\n",
        "\n",
        "  # Codifica el mensaje a una trenza pura\n",
        "  trenza_encoder = Encoder_Bin_Pure(cuartetos, CN4, gradoBn)\n",
        "\n",
        "  return trenza_encoder, CN4\n",
        "\n",
        "# Versión del encoder pasando por parámetro el resumen Hash directamente\n",
        "def Encoder_WalnutDSA_Hash(hash, gradoBn, CN4 = []):\n",
        "\n",
        "  # Organizamos la lista de bits en cuartetos\n",
        "  cuartetos = []\n",
        "  for i in range(0, len(hash), 4):\n",
        "      cuarteto = hash[i:i+4]\n",
        "      cuartetos.append(cuarteto)\n",
        "\n",
        "  # Posibles generadores del subgrupo CN4\n",
        "  coleccion_generadores = Encoder_gen_sub_pure(gradoBn)\n",
        "\n",
        "  # Se eligen aleatoriamente los 4 generadores de CN4\n",
        "  if (CN4 == []):\n",
        "    CN4 = SubColeccion_Random(coleccion_generadores, 4)\n",
        "\n",
        "  # Codifica el mensaje a una trenza pura\n",
        "  trenza_encoder = Encoder_Bin_Pure(cuartetos, CN4, gradoBn)\n",
        "\n",
        "  return trenza_encoder, CN4\n",
        "\n",
        "# Prueba del Encoder completo\n",
        "mensaje = b\"Hola Mundo!\"\n",
        "gradoBn = 8\n",
        "trenza_encoder = Encoder_WalnutDSA(mensaje, gradoBn)[0]\n",
        "print(\"Mensaje en código ASCII a codificar:\", mensaje)\n",
        "print(\"\\nSalida hash codificada a trenza del subgrupo puro generado:\")\n",
        "print(\" Palabra codificada:\", trenza_encoder.elementos)\n",
        "print(\" Longitud de la palabra codificada:\", len(trenza_encoder.elementos))\n",
        "print(\" Permutación proyectada por la trenza codificada:\", trenza_encoder.perm)\n",
        "print(\" Grado del grupo trenzado al que pertenece:\", trenza_encoder.grado)"
      ]
    },
    {
      "cell_type": "markdown",
      "metadata": {
        "id": "ssGr1D_aDaWR"
      },
      "source": [
        "El resultado es el esperado, como podemos ver, la trenza obtenida es pura. Además, aunque la palabra no es de longitud fija, ya que dependiendo de los exponentes de cada cuarteto puede variar, si que está acotada por $(2*N-1) * 4 * 64$\n",
        "\n",
        "1. $(2*(N-1))$ es la longitud máxima de un generador de CN4\n",
        "2. $4$ es el exponente máximo de un generador de CN4\n",
        "3. 64 es el número de cuartetos que forman la salida Hash\n",
        "\n",
        "Como la salida Hash sí que siempre es 256 bits, podemos acotar con esta expresión la salida del Encoder_WalnutDSA para cualquier entrada. En este caso, para $\\mathbb{B_8}$ la longitud máxima es de 3584 generadores."
      ]
    },
    {
      "cell_type": "markdown",
      "metadata": {
        "id": "Qevkf85pt0a3"
      },
      "source": [
        "# REWRITING"
      ]
    },
    {
      "cell_type": "markdown",
      "metadata": {
        "id": "E88ZJY-It6lf"
      },
      "source": [
        "El último paso de la generación de la firma WalnutDSA consiste en la reescritura de la palabra representante de una trenza. El algoritmo de reescritura debe generar una nueva palabra equivalente que oculte suficientemente a la inicial.\n",
        "\n",
        "En este caso, hemos elegido el algoritmo de reescritura estocástico descrito en ***Kayawood, a Key Agreement Protocol; Section 7***.\n",
        "\n",
        "Se definirá un nuevo sistema de generadores del grupo $\\mathbb{B_8}$, que seguirá cumpliendo la relaciones del grupo:\n",
        "\n",
        "$$ σ_{i}σ_{i+1}σ_{i} = σ_{i+1}σ_{i}σ_{i+1} $$\n",
        "$$ σ_{i}σ_{j} = σ_{j}σ_{i}, \\ |i-j| > 1;  $$\n",
        "\n",
        "(reescritas para el nuevo sistema), además de otras que emergerán de la nueva representación. Aplicando sus correspondientes equivalencias, conseguiremos ocultar la palabra en cuestión."
      ]
    },
    {
      "cell_type": "markdown",
      "metadata": {
        "id": "KMqiFwIfvhrA"
      },
      "source": [
        "**PARTICIÓN $\\mathcal{P}(N-1)$**\n",
        "\n",
        "Primero, se elige una partición para el orden del anterior grupo trenzando, en este caso $8-1=7$. Por tanto, se define $\\mathcal{P}(7) = \\{p_1, p_2, ..., p_l\\}$, con $3 \\leq p_i$, de forma que:\n",
        "$$ 7 = p_1 + p_2 + ... + p_l $$\n",
        "\n",
        "Elegimos $p_1 = 3,\\:\\: p_2 = 4$"
      ]
    },
    {
      "cell_type": "code",
      "execution_count": 33,
      "metadata": {
        "colab": {
          "base_uri": "https://localhost:8080/"
        },
        "id": "HyZ-nJd7xA_J",
        "outputId": "a5b6dd02-e802-49a4-d21b-00c48c4c2561"
      },
      "outputs": [
        {
          "output_type": "stream",
          "name": "stdout",
          "text": [
            "¿La partición elegida es adecuada? True\n"
          ]
        }
      ],
      "source": [
        "# Función que comprueba si el vector \"particiones\" define una partición válida\n",
        "# de N\n",
        "def ComprobadorParticion(N, particiones):\n",
        "\n",
        "  # Se comprueba que 3 <= pi\n",
        "  if (not all(parte > 2 for parte in particiones)):\n",
        "    print(\"\\nError --> Conjunto de partición elegido no válido (pi)\")\n",
        "    return False\n",
        "  elif (sum(particiones) != N):\n",
        "    print(\"\\nError --> Conjunto de partición elegido no válido (SUM)\")\n",
        "    return False\n",
        "  else:\n",
        "    return True\n",
        "\n",
        "# Elegimos partición P(8)\n",
        "particion = [3,4]\n",
        "print(\"¿La partición elegida es adecuada?\", ComprobadorParticion(7, particion))"
      ]
    },
    {
      "cell_type": "markdown",
      "metadata": {
        "id": "6t80mGgk0M5M"
      },
      "source": [
        "Se sigue definiendo una colección $R = \\{r_1, r_2, ..., r_{l+1}\\}$ ($r_1 = 1, \\:\\:r_i = r_{i-1} + p_{i-1}$), en nuestro caso $R_{\\mathcal{P(7)}} = \\{r_1, r_2, r_3\\}$:\n",
        "\n",
        "\n",
        "*   $ r_1 = 1 $\n",
        "*   $ r_2 = r_1 + p_1 = 4 $\n",
        "*   $ r_3 = r_2 + p_2 = 8 $"
      ]
    },
    {
      "cell_type": "code",
      "execution_count": 34,
      "metadata": {
        "colab": {
          "base_uri": "https://localhost:8080/"
        },
        "id": "J5fVHihs1ltM",
        "outputId": "74211373-fed1-4f68-9c53-9c63395515d4"
      },
      "outputs": [
        {
          "output_type": "stream",
          "name": "stdout",
          "text": [
            "La secuencia de valores R generadores a partir de [3, 4] es:\n",
            "R = [1, 4, 8]\n"
          ]
        }
      ],
      "source": [
        "# Generador de secuencia de valores R(P(N-1))\n",
        "def GeneradorSecuenciaRParticion(particion):\n",
        "  R = []\n",
        "  R.append(1)\n",
        "  for i in particion:\n",
        "    R.append(R[-1] + i)    # ri = ri-1 + pi-1\n",
        "\n",
        "  return R\n",
        "\n",
        "R = GeneradorSecuenciaRParticion(particion)\n",
        "print(\"La secuencia de valores R generadores a partir de\", particion, \"es:\\nR =\",\n",
        "      R)"
      ]
    },
    {
      "cell_type": "markdown",
      "metadata": {
        "id": "ExCvSbN_aGVI"
      },
      "source": [
        "Esta colección nos permite definir $yGen(\\mathcal{P})$, el nuevo conjunto de generadores:\n",
        "\n",
        "*   $y_1 = b_1b_2 \\cdots  b_{r_2-1}$\n",
        "*   $y_2 = b_2 \\cdots b_{r_2-1}$\n",
        "*   $\\cdots$\n",
        "*   $y_{r_2-1} = b_{r_2-1}$\n",
        "*   $y_{r_2} = b_{r_2}b_{r_2+1} \\cdots b_{r_3-1}$\n",
        "*   $y_{r_2+1} = b_{r_2+1} \\cdots b_{r_3-1}$\n",
        "*   $\\cdots$\n",
        "*   $y_{r_3-1} = b_{r_3-1}$\n",
        "*   $y_{r_3} = b_{r_3}b_{r_3+1} \\cdots b_{r_4-1}$\n",
        "*   $\\cdots$\n",
        "*   $y_{r_{l+1}-1} = y_{N-1} = b_{r_{l+1}-1} = b_{N-1}$\n",
        "\n",
        "Para nuestra partición $\\mathcal{P(7)}$:\n",
        "\n",
        "*   $y_1 = b_1b_2b_3$\n",
        "*   $y_2 = b_2b_3$\n",
        "*   $y_3 = b_3$\n",
        "*   $y_4 = b_4b_5b_6b_7$\n",
        "*   $y_5 = b_5b_6b_7$\n",
        "*   $y_6 = b_6b_7$\n",
        "*   $y_7 = b_7$\n",
        "\n",
        "Implementemos la colección de generadores como trenzas:"
      ]
    },
    {
      "cell_type": "code",
      "execution_count": 35,
      "metadata": {
        "colab": {
          "base_uri": "https://localhost:8080/"
        },
        "id": "qz2nwVlCeSdI",
        "outputId": "fcc21ece-9355-4f13-9329-dc0a5650395a"
      },
      "outputs": [
        {
          "output_type": "stream",
          "name": "stdout",
          "text": [
            "Colección de y-Generadores:\n",
            "y1 = [1 2 3]\n",
            "y2 = [2 3]\n",
            "y3 = [3]\n",
            "y4 = [4 5 6 7]\n",
            "y5 = [5 6 7]\n",
            "y6 = [6 7]\n",
            "y7 = [7]\n"
          ]
        }
      ],
      "source": [
        "# Colección de palabras que representan los yGeneradores(P(8))\n",
        "y1_p = [1,2,3]\n",
        "y2_p = [2,3]\n",
        "y3_p = [3]\n",
        "y4_p = [4,5,6,7]\n",
        "y5_p = [5,6,7]\n",
        "y6_p = [6,7]\n",
        "y7_p = [7]\n",
        "yGen_p = [y1_p, y2_p, y3_p, y4_p, y5_p, y6_p, y7_p]\n",
        "\n",
        "# Colección de yGeneradores(P(8))\n",
        "y1 = Braid(8, yGen_p[0])\n",
        "y2 = Braid(8, yGen_p[1])\n",
        "y3 = Braid(8, yGen_p[2])\n",
        "y4 = Braid(8, yGen_p[3])\n",
        "y5 = Braid(8, yGen_p[4])\n",
        "y6 = Braid(8, yGen_p[5])\n",
        "y7 = Braid(8, yGen_p[6])\n",
        "yGen = [y1, y2, y3, y4, y5, y6, y7]\n",
        "\n",
        "print(\"Colección de y-Generadores:\")\n",
        "for i in range(7):\n",
        "  print(\"y{} = {}\".format(i+1, yGen[i].showBraid()))"
      ]
    },
    {
      "cell_type": "markdown",
      "metadata": {
        "id": "BCk2bVjihLEL"
      },
      "source": [
        "Nos será útil expresar los generadores de Artin en el nuevo sistema implmentado, permitiendo así también fácilmente el paso de generadores de Artin al nuevo sistema:\n",
        "\n",
        "*   $b_1 = y_1y_2^{-1}$\n",
        "*   $b_2 = y_2y_3^{-1}$\n",
        "*   $b_3 = y_3$\n",
        "*   $b_4 = y_4y_5^{-1}$\n",
        "*   $b_5 = y_5y_6^{-1}$\n",
        "*   $b_6 = y_6y_7^{-1}$\n",
        "*   $b_7 = y_7$\n",
        "\n",
        "Implementemos la colección de generadores como palabras:"
      ]
    },
    {
      "cell_type": "code",
      "execution_count": 36,
      "metadata": {
        "colab": {
          "base_uri": "https://localhost:8080/"
        },
        "id": "sgCKX7lWhl7Y",
        "outputId": "7fd4ddf2-431e-4606-f02c-1ed04aeaf55b"
      },
      "outputs": [
        {
          "output_type": "stream",
          "name": "stdout",
          "text": [
            "Colección de generadores de Artin expresados en el nuevo sistema:\n",
            "y1 = [1, -2]\n",
            "y2 = [2, -3]\n",
            "y3 = [3]\n",
            "y4 = [4, -5]\n",
            "y5 = [5, -6]\n",
            "y6 = [6, -7]\n",
            "y7 = [7]\n"
          ]
        }
      ],
      "source": [
        "# Generadores de Artin en función del nuevo sistema de generadores\n",
        "b1_yp = [1, -2]\n",
        "b2_yp = [2, -3]\n",
        "b3_yp = [3]\n",
        "b4_yp = [4, -5]\n",
        "b5_yp = [5, -6]\n",
        "b6_yp = [6, -7]\n",
        "b7_yp = [7]\n",
        "ArtinGen_p = [b1_yp, b2_yp, b3_yp, b4_yp, b5_yp, b6_yp, b7_yp]\n",
        "print(\"Colección de generadores de Artin expresados en el nuevo sistema:\")\n",
        "for i in range(7):\n",
        "  print(\"y{} = {}\".format(i+1, ArtinGen_p[i]))"
      ]
    },
    {
      "cell_type": "markdown",
      "metadata": {
        "id": "CLgnrPyLjBZq"
      },
      "source": [
        "El siguiente paso es dominar la detección de la relación emergente de la nueva representación:\n",
        "$$y_jy_i = y_iy_{j-1}y_{r_{μ+1}-1}^{-1}, \\:\\:\\:\\: r_\\mu \\leq i < j < r_{\\mu+1}, \\:\\: \\mu \\in \\{1, ..., l\\}  $$\n",
        "\n",
        "El algoritmo estocástico de reescritura deberá detectar cuándo es aplicable esta relación. Para ello, seleccionará algunas potenciales subpalabras $u$ de longitud 2, de forma que si en la relación (una de sus representaciones) se admite el caso $LuR = 1$, se sustituirá $u$ por $L^{-1}R^{-1}$.\n",
        "\n",
        "Para ser capaces de gestionar esto, almacenaremos todas las posibles representaciones que se obtienen directamente de la relación, como lógicas de detección. Esto se debe a que no son palabras exactas, ya que dependen de los índices $(i,j)$. La idea es almacenar las 10 posibles 2-subpalabras ($u$) aplicables por la relación, con su correspondientes 3-subpalabras ($L^{-1}R^{-1}$) por las que se sustituirán.\n",
        "\n",
        "Presentamos dicha correspondencia en términos de $i, j$ y $\\mu$:\n",
        "\n",
        "*   1 $y_jy_i = y_iy_{j-1}y_{r_{μ+1}-1}^{-1}$       \n",
        "*   2 $y_iy_{j-1} = y_jy_iy_{r_{μ+1}-1}$            \n",
        "*   3 $y_{j-1}y_{r_{μ+1}-1}^{-1} = y_i^{-1}y_jy_i$  \n",
        "*   4 $y_iy_{r_{μ+1}-1} = y_j^{-1}y_iy_{j-1}$       \n",
        "*   5 $y_i^{-1}y_j = y_{j-1}y_{r_{μ+1}-1}^{-1}y_i^{-1}$       \n",
        "*   6 $y_j^{-1}y_i = y_iy_{r_{μ+1}-1} y_{j-1}^{-1}$       \n",
        "*   7 $y_{r_{μ+1}-1}^{-1}y_i^{-1} = y_{j-1}^{-1}y_i^{-1}y_j$      \n",
        "*   8 $y_{r_{μ+1}-1}y_{j-1}^{-1} = y_i^{-1}y_j^{-1}y_i$       \n",
        "*   9 $y_{j-1}^{-1}y_i^{-1} = y_{r_{μ+1}-1}^{-1}y_i^{-1}y_j^{-1}$       \n",
        "*   10 $y_i^{-1}y_j^{-1} = y_{r_{μ+1}-1}y_{j-1}^{-1}y_i^{-1}$      \n",
        "\n",
        "Implementamos el método `RewriteSubW` que recibirá una potencial 2-subpalabra y, en caso de corresponderse con alguna de estas 10 correspondencias, devolverá la 3-subpalabra correspondiente:"
      ]
    },
    {
      "cell_type": "code",
      "execution_count": 37,
      "metadata": {
        "colab": {
          "base_uri": "https://localhost:8080/"
        },
        "id": "TWVgOQVgja-L",
        "outputId": "ae4e44b6-b70f-4857-a695-71abaf0b6bd2"
      },
      "outputs": [
        {
          "output_type": "stream",
          "name": "stdout",
          "text": [
            "[-3, -3, -2, -1]\n",
            "[-3, -3, -2, -1]\n"
          ]
        }
      ],
      "source": [
        "# Función auxiliar para RewriteSubW - Caso Correspondencia 1\n",
        "    # pasamos la correspondencia como una lista 'correspondencia_l' para simular\n",
        "    # el paso por valor en python (correspondencia = correspondencia_l[0])\n",
        "def RewriteSubW_C1(w, R, correspondencia_l):\n",
        "\n",
        "  correspondencia_detectada = False\n",
        "\n",
        "  if ( (R[0] <= w[1]) and (w[1] < w[0]) and (w[0] < R[1]) ):    # y_jy_i\n",
        "    correspondencia_l[0][0] = w[1]         # y_i\n",
        "    correspondencia_l[0][1] = w[0] - 1     # y_{j-1}\n",
        "    correspondencia_l[0][2] = -(R[1] - 1)  # r_{u+1}-1^{-1}\n",
        "    correspondencia_detectada = True\n",
        "\n",
        "  elif ( (R[1] <= w[1]) and (w[1] < w[0]) and (w[0] < R[2]) ):  # y_jy_i\n",
        "    correspondencia_l[0][0] = w[1]         # y_i\n",
        "    correspondencia_l[0][1] = w[0] - 1     # y_{j-1}\n",
        "    correspondencia_l[0][2] = -(R[2] - 1)  # r_{u+1}-1^{-1}\n",
        "    correspondencia_detectada = True\n",
        "\n",
        "  return correspondencia_detectada\n",
        "\n",
        "# Función auxiliar para RewriteSubW - Caso Correspondencia 2\n",
        "def RewriteSubW_C2(w, R, correspondencia_l):\n",
        "\n",
        "  correspondencia_detectada = False\n",
        "\n",
        "  if ( (R[0] <= w[0]) and (w[0] < w[1]+1) and (w[1]+1 < R[1]) ): # y_iy_{j-1}\n",
        "    correspondencia_l[0][0] = w[1] + 1     # y_j\n",
        "    correspondencia_l[0][1] = w[0]         # y_i\n",
        "    correspondencia_l[0][2] = (R[1] - 1)   # r_{u+1}-1\n",
        "    correspondencia_detectada = True\n",
        "\n",
        "  elif ( (R[1] <= w[0]) and (w[0] < w[1]+1) and (w[1]+1 < R[2]) ):# y_iy_{j-1}\n",
        "    correspondencia_l[0][0] = w[1] + 1     # y_j\n",
        "    correspondencia_l[0][1] = w[0]         # y_i\n",
        "    correspondencia_l[0][2] = (R[2] - 1)   # r_{u+1}-1\n",
        "    correspondencia_detectada = True\n",
        "\n",
        "  return correspondencia_detectada\n",
        "\n",
        "# Función auxiliar para RewriteSubW - Caso Correspondencia 3\n",
        "def RewriteSubW_C3(w, R, correspondencia_l):\n",
        "\n",
        "  correspondencia_detectada = False\n",
        "\n",
        "  if ( (-w[1] + 1 == R[1]) and (R[0] < w[0]+1) and (w[0]+1 < R[1]) ): # y_{j-1}y_{r_{μ+1}-1}^{-1}\n",
        "    i = random.randint(R[0], w[0])         # R[0] <= i < j\n",
        "    correspondencia_l[0][0] = -i           # y_i^{-1}\n",
        "    correspondencia_l[0][1] = w[0] + 1     # y_j\n",
        "    correspondencia_l[0][2] = i            # y_i\n",
        "    correspondencia_detectada = True\n",
        "\n",
        "  elif ( (-w[1] + 1 == R[2]) and (R[1] < w[0]+1) and (w[0]+1 < R[2]) ): # y_{j-1}y_{r_{μ+1}-1}^{-1}\n",
        "    i = random.randint(R[1], w[0])         # R[1] <= i < j\n",
        "    correspondencia_l[0][0] = -i           # y_i^{-1}\n",
        "    correspondencia_l[0][1] = w[0] + 1     # y_j\n",
        "    correspondencia_l[0][2] = i            # y_i\n",
        "    correspondencia_detectada = True\n",
        "\n",
        "  return correspondencia_detectada\n",
        "\n",
        "# Función auxiliar para RewriteSubW - Caso Correspondencia 4\n",
        "def RewriteSubW_C4(w, R, correspondencia_l):\n",
        "\n",
        "  correspondencia_detectada = False\n",
        "\n",
        "  if ( (w[1] + 1 == R[1]) and (R[0] <= w[0]) and (w[0] < R[1] - 1) ): # y_iy_{r_{μ+1}-1}\n",
        "    j = random.randint(w[0] + 1, R[1] - 1) # i < j < R[1]\n",
        "    correspondencia_l[0][0] = -j           # y_j^{-1}\n",
        "    correspondencia_l[0][1] = w[0]         # y_i\n",
        "    correspondencia_l[0][2] = j-1          # y_{j-1}\n",
        "    correspondencia_detectada = True\n",
        "\n",
        "  elif ( (w[1] + 1 == R[2]) and (R[1] <= w[0]) and (w[0] < R[2] - 1) ): # y_iy_{r_{μ+1}-1}\n",
        "    j = random.randint(w[0] + 1, R[2] - 1) # i < j < R[2]\n",
        "    correspondencia_l[0][0] = -j           # y_j^{-1}\n",
        "    correspondencia_l[0][1] = w[0]         # y_i\n",
        "    correspondencia_l[0][2] = j-1          # y_{j-1}\n",
        "    correspondencia_detectada = True\n",
        "\n",
        "  return correspondencia_detectada\n",
        "\n",
        "# Función auxiliar para RewriteSubW - Caso Correspondencia 5\n",
        "def RewriteSubW_C5(w, R, correspondencia_l):\n",
        "\n",
        "  correspondencia_detectada = False\n",
        "\n",
        "  if ( (R[0] <= -w[0]) and (-w[0] < w[1]) and (w[1] < R[1]) ):   # y_i^{-1}y_j\n",
        "    correspondencia_l[0][0] = w[1] - 1     # y_{j-1}\n",
        "    correspondencia_l[0][1] = -(R[1] - 1)  # y_{r_{μ+1}-1}^{-1}\n",
        "    correspondencia_l[0][2] = w[0]         # y_i^{-1}\n",
        "    correspondencia_detectada = True\n",
        "\n",
        "  elif ( (R[1] <= -w[0]) and (-w[0] < w[1]) and (w[1] < R[2]) ):   # y_i^{-1}y_j\n",
        "    correspondencia_l[0][0] = w[1] - 1     # y_{j-1}\n",
        "    correspondencia_l[0][1] = -(R[2] - 1)  # y_{r_{μ+1}-1}^{-1}\n",
        "    correspondencia_l[0][2] = w[0]         # y_i^{-1}\n",
        "    correspondencia_detectada = True\n",
        "\n",
        "  return correspondencia_detectada\n",
        "\n",
        "# Función auxiliar para RewriteSubW - Caso Correspondencia 6\n",
        "def RewriteSubW_C6(w, R, correspondencia_l):\n",
        "\n",
        "  correspondencia_detectada = False\n",
        "\n",
        "  if ( (R[0] <= w[1]) and (w[1] < -w[0]) and (-w[0] < R[1]) ):   # y_j^{-1}y_i\n",
        "    correspondencia_l[0][0] = w[1]         # y_i\n",
        "    correspondencia_l[0][1] = R[1] - 1     # y_{r_{μ+1}-1}\n",
        "    correspondencia_l[0][2] = w[0] + 1     # y_{j-1}^{-1}\n",
        "    correspondencia_detectada = True\n",
        "\n",
        "  elif ( (R[1] <= w[1]) and (w[1] < -w[0]) and (-w[0] < R[2]) ):   # y_j^{-1}y_i\n",
        "    correspondencia_l[0][0] = w[1]         # y_i\n",
        "    correspondencia_l[0][1] = R[2] - 1     # y_{r_{μ+1}-1}\n",
        "    correspondencia_l[0][2] = w[0] + 1     # y_{j-1}^{-1}\n",
        "    correspondencia_detectada = True\n",
        "\n",
        "  return correspondencia_detectada\n",
        "\n",
        "# Función auxiliar para RewriteSubW - Caso Correspondencia 7\n",
        "def RewriteSubW_C7(w, R, correspondencia_l):\n",
        "\n",
        "  correspondencia_detectada = False\n",
        "\n",
        "  if ( (R[1] == -w[0] + 1) and (R[0] <= -w[1]) and (-w[1] < R[1] - 1) ):   # y_{r_{μ+1}-1}^{-1}y_i^{-1}\n",
        "    j = random.randint(-w[1] + 1, R[1] - 1) # i < j < R[1]\n",
        "    correspondencia_l[0][0] = -(j-1)        # y_{j-1}^{-1}\n",
        "    correspondencia_l[0][1] = w[1]          # y_i^{-1}\n",
        "    correspondencia_l[0][2] = j             # y_j\n",
        "    correspondencia_detectada = True\n",
        "\n",
        "  elif ( (R[2] == -w[0] + 1) and (R[1] <= -w[1]) and (-w[1] < R[2] - 1) ):   # y_{r_{μ+1}-1}^{-1}y_i^{-1}\n",
        "    j = random.randint(-w[1] + 1, R[2] - 1) # i < j < R[2]\n",
        "    correspondencia_l[0][0] = -(j-1)        # y_{j-1}^{-1}\n",
        "    correspondencia_l[0][1] = w[1]          # y_i^{-1}\n",
        "    correspondencia_l[0][2] = j             # y_j\n",
        "    correspondencia_detectada = True\n",
        "\n",
        "  return correspondencia_detectada\n",
        "\n",
        "# Función auxiliar para RewriteSubW - Caso Correspondencia 8\n",
        "def RewriteSubW_C8(w, R, correspondencia_l):\n",
        "\n",
        "  correspondencia_detectada = False\n",
        "\n",
        "  if ( (R[1] == w[0] + 1) and (R[0] < -w[1]+1) and (-w[1]+1 < R[1]) ):   # y_{r_{μ+1}-1}y_{j-1}^{-1}\n",
        "    i = random.randint(R[0], -w[1])        # R[0] <= i < j\n",
        "    correspondencia_l[0][0] = -i           # y_i^{-1}\n",
        "    correspondencia_l[0][1] = w[1] - 1     # y_j^{-1}\n",
        "    correspondencia_l[0][2] = i            # y_i\n",
        "    correspondencia_detectada = True\n",
        "\n",
        "  elif ( (R[2] == w[0] + 1) and (R[1] < -w[1]+1) and (-w[1]+1 < R[2]) ):   # y_{r_{μ+1}-1}y_{j-1}^{-1}\n",
        "    i = random.randint(R[1], -w[1])        # R[1] <= i < j\n",
        "    correspondencia_l[0][0] = -i           # y_i^{-1}\n",
        "    correspondencia_l[0][1] = w[1] - 1     # y_j^{-1}\n",
        "    correspondencia_l[0][2] = i            # y_i\n",
        "    correspondencia_detectada = True\n",
        "\n",
        "  return correspondencia_detectada\n",
        "\n",
        "# Función auxiliar para RewriteSubW - Caso Correspondencia 9\n",
        "def RewriteSubW_C9(w, R, correspondencia_l):\n",
        "\n",
        "  correspondencia_detectada = False\n",
        "\n",
        "  if ( (R[0] <= -w[1]) and (-w[1] < -w[0]+1) and (-w[0]+1 < R[1]) ):   # y_{j-1}^{-1}y_i^{-1}\n",
        "    correspondencia_l[0][0] = -(R[1] - 1)  # y_{r_{μ+1}-1}^{-1}\n",
        "    correspondencia_l[0][1] = w[1]         # y_i^{-1}\n",
        "    correspondencia_l[0][2] = w[0] - 1     # y_j^{-1}\n",
        "    correspondencia_detectada = True\n",
        "\n",
        "  elif ( (R[1] <= -w[1]) and (-w[1] < -w[0]+1) and (-w[0]+1 < R[2]) ):   # y_{j-1}^{-1}y_i^{-1}\n",
        "    correspondencia_l[0][0] = -(R[2] - 1)  # y_{r_{μ+1}-1}^{-1}\n",
        "    correspondencia_l[0][1] = w[1]         # y_i^{-1}\n",
        "    correspondencia_l[0][2] = w[0] - 1     # y_j^{-1}\n",
        "    correspondencia_detectada = True\n",
        "\n",
        "  return correspondencia_detectada\n",
        "\n",
        "# Función auxiliar para RewriteSubW - Caso Correspondencia 10\n",
        "def RewriteSubW_C10(w, R, correspondencia_l):\n",
        "\n",
        "  correspondencia_detectada = False\n",
        "\n",
        "  if ( (R[0] <= -w[0]) and (-w[0] < -w[1]) and (-w[1] < R[1]) ):   # y_i^{-1}y_j^{-1}\n",
        "    correspondencia_l[0][0] = R[1] - 1     # y_{r_{μ+1}-1}\n",
        "    correspondencia_l[0][1] = w[1] + 1     # y_{j-1}^{-1}\n",
        "    correspondencia_l[0][2] = w[0]         # y_i^{-1}\n",
        "    correspondencia_detectada = True\n",
        "\n",
        "  elif ( (R[1] <= -w[0]) and (-w[0] < -w[1]) and (-w[1] < R[2]) ):   # y_i^{-1}y_j^{-1}\n",
        "    correspondencia_l[0][0] = R[2] - 1     # y_{r_{μ+1}-1}\n",
        "    correspondencia_l[0][1] = w[1] + 1     # y_{j-1}^{-1}\n",
        "    correspondencia_l[0][2] = w[0]         # y_i^{-1}\n",
        "    correspondencia_detectada = True\n",
        "\n",
        "  return correspondencia_detectada\n",
        "\n",
        "# Devuelve la correspondiente 3-subpalabra para w y la R-Coleccion R\n",
        "def RewriteSubW(w, R):\n",
        "\n",
        "  correspondencia = [0, 0, 0]    # Correspondencia a devolver\n",
        "\n",
        "  if (len(w) != 2):\n",
        "    return w\n",
        "\n",
        "  # Correspondencia 1\n",
        "      # [correspondencia] para simular paso por valor\n",
        "  if (RewriteSubW_C1(w, R, [correspondencia])):\n",
        "    pass\n",
        "  # Correspondencia 2\n",
        "  elif (RewriteSubW_C2(w, R, [correspondencia])):\n",
        "    pass\n",
        "  # Correspondencia 3\n",
        "  elif (RewriteSubW_C3(w, R, [correspondencia])):\n",
        "    pass\n",
        "  # Correspondencia 4\n",
        "  elif (RewriteSubW_C4(w, R, [correspondencia])):\n",
        "    pass\n",
        "  # Correspondencia 5\n",
        "  elif (RewriteSubW_C5(w, R, [correspondencia])):\n",
        "    pass\n",
        "  # Correspondencia 6\n",
        "  elif (RewriteSubW_C6(w, R, [correspondencia])):\n",
        "    pass\n",
        "  # Correspondencia 7\n",
        "  elif (RewriteSubW_C7(w, R, [correspondencia])):\n",
        "    pass\n",
        "  # Correspondencia 8\n",
        "  elif (RewriteSubW_C8(w, R, [correspondencia])):\n",
        "    pass\n",
        "  # Correspondencia 9     # NO LA HE VISTO APLICAR EN WALNUT\n",
        "  elif (RewriteSubW_C9(w, R, [correspondencia])):\n",
        "    pass\n",
        "  # Correspondencia 10\n",
        "  elif (RewriteSubW_C10(w, R, [correspondencia])):\n",
        "    pass\n",
        "  else:\n",
        "    correspondencia = w\n",
        "\n",
        "  return correspondencia\n",
        "\n",
        "subpalabra = [-3, -3, -2, -1]\n",
        "print(subpalabra)\n",
        "correspondencia = RewriteSubW(subpalabra, R)\n",
        "print(correspondencia)\n"
      ]
    },
    {
      "cell_type": "markdown",
      "metadata": {
        "id": "Xm7aNvNOyZmJ"
      },
      "source": [
        "A esta relación emergente (ya dominada) de la nueva representación, hay que sumarle las 2 relaciones definitorias del grupo trenzado:\n",
        "\n",
        "$$ σ_{i}σ_{i+1}σ_{i} = σ_{i+1}σ_{i}σ_{i+1} $$\n",
        "$$ σ_{i}σ_{j} = σ_{j}σ_{i}, \\ |i-j| > 1;  $$\n",
        "\n",
        "Ambas relaciones se añadirán a la ya implementada emergente, aunque estas se aplicarán tras completar la reescritura sobre el sistema $yGen(\\mathcal{P})$, una vez vuelto a los generadores de Artin. Esto se propone así debido a que no obtenemos ninguna ganancia por intentar detectar estas dos relaciones reescritas en el nuevo sistema, mientras que su implementación sí que aumentaría en dificultad.\n",
        "\n",
        "Implementamos sus métodos de detección y reescritura:"
      ]
    },
    {
      "cell_type": "code",
      "execution_count": 38,
      "metadata": {
        "colab": {
          "base_uri": "https://localhost:8080/"
        },
        "id": "VGFNeo31Gvdt",
        "outputId": "e2e4bc6c-8b5b-41e9-bb0f-0614f460eace"
      },
      "outputs": [
        {
          "output_type": "stream",
          "name": "stdout",
          "text": [
            "Ejemplos de correspondecias a la 2-subpalabras:\n",
            "\n",
            "Subpalabra 1: [2, 4]\n",
            "Correspondencia 1: [4, 2]\n",
            "Subpalabra 2: [-2, -3, -2]\n",
            "Correspondencia 2: [-3, -2, -3]\n"
          ]
        }
      ],
      "source": [
        "# Devuelve la subpalabra tras aplicar conmutación 1 (bibj = bjbi |i-j| > 1)\n",
        "def RewriteConm1(w):\n",
        "\n",
        "  correspondencia = [0, 0]    # Correspondencia a devolver\n",
        "\n",
        "  # Comprobamos si la conmutación 1 es aplicable\n",
        "\n",
        "  if (len(w) != 2):           # Obligatorio longitud 2 para ser estudiable\n",
        "    return w\n",
        "\n",
        "  if (abs(abs(w[0]) - abs(w[1])) > 1):\n",
        "    correspondencia[0] = w[1]\n",
        "    correspondencia[1] = w[0]\n",
        "\n",
        "  else:\n",
        "    correspondencia = w\n",
        "\n",
        "  return correspondencia\n",
        "\n",
        "# Devuelve la subpalabra tras aplicar conmutación 2 (bibi+1bi = bi+1bibi+1)\n",
        "def RewriteConm2(w):\n",
        "\n",
        "  correspondencia = [0, 0, 0]    # Correspondencia a devolver\n",
        "\n",
        "  # Comprobamos si la conmutación 2 es aplicable\n",
        "\n",
        "  if (len(w) != 3):           # Obligatorio longitud 3 para ser estudiable\n",
        "    return w\n",
        "\n",
        "  # Estas condiciones abarcan también inversos de generadores\n",
        "  if (w[0] == w[2] and (abs(w[0] - w[1]) == 1)):   # bibi+1bi ó bi+1bibi+1\n",
        "    correspondencia[0] = w[1]               # bi+1 ó bi\n",
        "    correspondencia[1] = w[0]               # bi   ó bi+1\n",
        "    correspondencia[2] = w[1]               # bi+1 ó bi\n",
        "\n",
        "  else:\n",
        "    correspondencia = w\n",
        "\n",
        "  return correspondencia\n",
        "\n",
        "print(\"Ejemplos de correspondecias a la 2-subpalabras:\\n\")\n",
        "subpalabra1 = [2, 4]\n",
        "print(\"Subpalabra 1:\", subpalabra1)\n",
        "correspondencia1 = RewriteConm1(subpalabra1)\n",
        "print(\"Correspondencia 1:\", correspondencia1)\n",
        "\n",
        "subpalabra2 = [-2, -3, -2]\n",
        "print(\"Subpalabra 2:\", subpalabra2)\n",
        "correspondencia2 = RewriteConm2(subpalabra2)\n",
        "print(\"Correspondencia 2:\", correspondencia2)\n",
        "\n"
      ]
    },
    {
      "cell_type": "markdown",
      "metadata": {
        "id": "VlzwOuypgcBa"
      },
      "source": [
        "Una vez implementados tanto el nuevo sistema generador como la detección de las 2-subpalabras susceptibles de ser aplicadas por la relación\n",
        "$$y_jy_i = y_iy_{j-1}y_{r_{μ+1}-1}^{-1}, \\:\\:\\:\\: r_\\mu \\leq i < j < r_{\\mu+1}, \\:\\: \\mu \\in \\{1, ..., l\\},  $$\n",
        "y sus equivalencias, podemos implementar el algoritmo estocástico de escritura.\n",
        "\n",
        "Se siguen secuencialmente los siguientes pasos para reescribir una palabra $w$:\n",
        "\n",
        "1.   Se expresa $w$ en el sistema $yGen(\\mathcal{P})$, $w ⟼ w_{yGen(\\mathcal{P})}$\n",
        "2.   Se divide $w_{yGen(\\mathcal{P})}$ en bloques $Block_1, Block_2, ..., Block_k$, con $5 \\leq length(Block_i) \\leq 10$  \n",
        "3.   Para cada $Block_i$, se elige una 2-subpalabra $u_i$\n",
        "4.   Para cada 2-subpalabra $u_i$, se trata de aplicar alguna relación $SRel(\\mathcal(P))$, intercambiándose por su correspondencia si es posible y, manteniéndose invariante $u_i$, en caso de que no.\n",
        "5.   Se concantenan los nuevos bloques modificados y se aplica reducción libre en el sistema $yGen(\\mathcal{P})$.\n",
        "6.   Se repite la secuencia de pasos 2-5 lo necesario, expresando la palabra final $w_{yGen(\\mathcal{P})}'$ final en generadores de Artin, $w_{yGen(\\mathcal{P})}' ⟼ w'$\n",
        "7.  Se repiten los pasos 2-5 en el sistema de generadores de Artin, tratando de aplicar la primera conmutación a 2-subpalabras\n",
        "8. Se repiten los pasos 2-5 en el sistema de generadores de Artin, tratando de aplicar la primera conmutación a 3-subpalabras"
      ]
    },
    {
      "cell_type": "markdown",
      "metadata": {
        "id": "fJiM3-m_QCSa"
      },
      "source": [
        "**Conversión del sistema generador**"
      ]
    },
    {
      "cell_type": "code",
      "execution_count": 39,
      "metadata": {
        "colab": {
          "base_uri": "https://localhost:8080/"
        },
        "id": "RcjnioOsp8O4",
        "outputId": "5209fff3-aa38-4328-a5b1-644b421ba542"
      },
      "outputs": [
        {
          "output_type": "stream",
          "name": "stdout",
          "text": [
            "CONVERSIÓN: Generadores de Artin --> yGen(P)\n",
            "\n",
            "Genedores de Artin expresados en el sistema yGen(P)\n",
            "Generador de Artin 1 --> Generadores yGen(P) [1, -2]\n",
            "Generador de Artin 2 --> Generadores yGen(P) [2, -3]\n",
            "Generador de Artin 3 --> Generadores yGen(P) [3]\n",
            "Generador de Artin 4 --> Generadores yGen(P) [4, -5]\n",
            "Generador de Artin 5 --> Generadores yGen(P) [5, -6]\n",
            "Generador de Artin 6 --> Generadores yGen(P) [6, -7]\n",
            "Generador de Artin 7 --> Generadores yGen(P) [7]\n",
            "\n",
            "Palabra en generadores de Artin: [1, -2, 7, 4, 5]\n",
            "w expresada en el sistema yGen(P) [1, -2, 3, -2, 7, 4, -6]\n",
            "\n",
            "\n",
            "CONVERSIÓN: yGen(P) --> Generadores de Artin \n",
            "\n",
            "Genedores del sistema yGen(P) expresados con generadores de Artin\n",
            "Generador del sistema yGen(P)  1 --> Generadores de Artin [1, 2, 3]\n",
            "Generador del sistema yGen(P)  2 --> Generadores de Artin [2, 3]\n",
            "Generador del sistema yGen(P)  3 --> Generadores de Artin [3]\n",
            "Generador del sistema yGen(P)  4 --> Generadores de Artin [4, 5, 6, 7]\n",
            "Generador del sistema yGen(P)  5 --> Generadores de Artin [5, 6, 7]\n",
            "Generador del sistema yGen(P)  6 --> Generadores de Artin [6, 7]\n",
            "Generador del sistema yGen(P)  7 --> Generadores de Artin [7]\n",
            "\n",
            "Palabra expresada en el sistema yGen(P): [-3, -2]\n",
            "w en generadores de Artin  [-3, -3, -2]\n",
            "\n",
            "Comprobamos que ambas funciones actúan como inversas recíprocamente, (aplicando posteriormente reducción libre):\n",
            "Artin --> YGen(P) --> Artin (R.Libre)   --> [-3, -2]\n",
            "YGen(P) --> Artin --> YGen(P) (R.Libre) --> [-3, -2]\n"
          ]
        }
      ],
      "source": [
        "# Expresa una palabra formada por generadores de Artin en el sistema yGen(P)\n",
        "def ArtinGenToYGen(w, ArtinGen_p):\n",
        "\n",
        "  w_yGenP = []     # Palabra expresada en el sistema yGen(P)\n",
        "\n",
        "  # Recorremos la palabra expresada en generadores de Artin\n",
        "  for i in w:\n",
        "    if (i > 0):\n",
        "      w_yGenP.extend(ArtinGen_p[i-1])\n",
        "    else:\n",
        "      w_yGenP.extend(InverseWord(ArtinGen_p[-i-1]))\n",
        "\n",
        "  w_yGenP = ReduccionLibre(w_yGenP)     # Reducimos antes de devolver\n",
        "\n",
        "  return w_yGenP\n",
        "\n",
        "# Expresa una palabra formada por generadores de yGen(P) con generadores de\n",
        "# Artin\n",
        "def YGenToArtinGen(w, yGen_p):\n",
        "\n",
        "  w_ArtinGen = []    # Palabra expresada con generadores de Artin\n",
        "\n",
        "  # Recorremos la palabra expresada en el sistema yGen(P)\n",
        "  for i in w:\n",
        "    if (i > 0):\n",
        "      w_ArtinGen.extend(yGen_p[i-1])\n",
        "    else:\n",
        "      w_ArtinGen.extend(InverseWord(yGen_p[-i-1]))\n",
        "\n",
        "\n",
        "  w_ArtinGen = ReduccionLibre(w_ArtinGen)     # Reducimos antes de devolver\n",
        "\n",
        "  return w_ArtinGen\n",
        "\n",
        "print(\"CONVERSIÓN: Generadores de Artin --> yGen(P)\")\n",
        "print(\"\\nGenedores de Artin expresados en el sistema yGen(P)\")\n",
        "for i in range(7):\n",
        "  print(\"Generador de Artin {} --> Generadores yGen(P) {}\".format(i+1,\n",
        "                                ArtinGenToYGen([i+1], ArtinGen_p)))\n",
        "w = [1,-2,7,4,5]\n",
        "print(\"\\nPalabra en generadores de Artin:\", w)\n",
        "print(\"w expresada en el sistema yGen(P)\", ArtinGenToYGen(w, ArtinGen_p))\n",
        "\n",
        "print(\"\\n\\nCONVERSIÓN: yGen(P) --> Generadores de Artin \")\n",
        "print(\"\\nGenedores del sistema yGen(P) expresados con generadores de Artin\")\n",
        "for i in range(7):\n",
        "  print(\"Generador del sistema yGen(P)  {} --> Generadores de Artin {}\".format(\n",
        "      i+1, YGenToArtinGen([i+1], yGen_p)))\n",
        "w = [-3,-2]\n",
        "print(\"\\nPalabra expresada en el sistema yGen(P):\", w)\n",
        "print(\"w en generadores de Artin \", YGenToArtinGen(w, yGen_p))\n",
        "\n",
        "print(\"\\nComprobamos que ambas funciones actúan como inversas recíprocamente,\\\n",
        " (aplicando posteriormente reducción libre):\")\n",
        "print(\"Artin --> YGen(P) --> Artin (R.Libre)   -->\",\n",
        "      ReduccionLibre(ArtinGenToYGen(YGenToArtinGen(w, yGen_p), ArtinGen_p)))\n",
        "print(\"YGen(P) --> Artin --> YGen(P) (R.Libre) -->\",\n",
        "      ReduccionLibre(YGenToArtinGen(ArtinGenToYGen(w, ArtinGen_p), yGen_p)))"
      ]
    },
    {
      "cell_type": "markdown",
      "metadata": {
        "id": "TJ2RP344T6Fd"
      },
      "source": [
        "**División de $w_{yGen(\\mathcal{P})}$ en bloques**"
      ]
    },
    {
      "cell_type": "code",
      "execution_count": 40,
      "metadata": {
        "colab": {
          "base_uri": "https://localhost:8080/"
        },
        "id": "0L_SsQJlV4sm",
        "outputId": "c5b049da-1ca2-42eb-d5ad-86bbdf52af15"
      },
      "outputs": [
        {
          "output_type": "stream",
          "name": "stdout",
          "text": [
            "Palabra original: [20, 19, 18, 17, 16, 15, 14, 13, 12, 11, 10, 9, 8, 7, 6, 5, 4, 3, 2, 1]\n",
            "Palabra dividida en bloques de longitud en [5,10]: [[20, 19, 18, 17, 16, 15, 14], [13, 12, 11, 10, 9, 8, 7, 6, 5, 4], [3, 2, 1]]\n"
          ]
        }
      ],
      "source": [
        "# Divide la palabra en bloques de longitud perteneciente al intervalo [a, b]\n",
        "def DivisionPalabraEnBloques(palabra, a, b):\n",
        "\n",
        "  bloques = []      # Almacenaremos una lista de bloques\n",
        "  pos = 0           # Posición actual en la palabra\n",
        "\n",
        "  #  Recorremos la palabra dando saltos de longitud aleatoria en [a,b]\n",
        "  while (pos < len(palabra)):\n",
        "\n",
        "    i = random.randint(a,b)   # Longitud del bloque actual (aleatoria en [a,b])\n",
        "    bloque_aux = palabra[pos:pos+i]   # Bloque actual a añadir\n",
        "    bloques.append(bloque_aux)        # Añadimos bloque actual\n",
        "    pos += i                  # Nos posicionamos al final del último bloque\n",
        "\n",
        "  return bloques\n",
        "\n",
        "palabra_sin_dividir = list(range(20,0, -1))\n",
        "palabra_en_bloques = DivisionPalabraEnBloques(palabra_sin_dividir, 5,10)\n",
        "print(\"Palabra original:\", palabra_sin_dividir)\n",
        "print(\"Palabra dividida en bloques de longitud en [5,10]:\", palabra_en_bloques)\n"
      ]
    },
    {
      "cell_type": "markdown",
      "metadata": {
        "id": "g68nMymrZg-H"
      },
      "source": [
        "**Extracción aleatoria de 2-subpalabra por bloque**"
      ]
    },
    {
      "cell_type": "code",
      "execution_count": 41,
      "metadata": {
        "colab": {
          "base_uri": "https://localhost:8080/"
        },
        "id": "syv6e4rdZruB",
        "outputId": "279ed320-2f63-4006-c2d9-8c43319b6fca"
      },
      "outputs": [
        {
          "output_type": "stream",
          "name": "stdout",
          "text": [
            "Palabra inicial: [1, -1, 2, 7, -4, 5]\n",
            "Palabra extraida de longitud 2: [-1, 2]\n",
            "Posición inIcial de la palabra extraída: 1\n"
          ]
        }
      ],
      "source": [
        "# Extrae aleatoriamente de 'palabra' una subpalabra de longitud 'l'\n",
        "# Además de la subpalabra devuelve su posición inicial para una posterior\n",
        "# substitución (o palabra y -1 en caso de no conseguir extraer la subpalabra)\n",
        "def ExtraeSubPalabra(palabra, l):\n",
        "\n",
        "  # Se necesita que len(palabra >= l)\n",
        "  if (len(palabra) < l):\n",
        "    return palabra, -1\n",
        "\n",
        "  else:\n",
        "    # Posición inicial de subpalabra aleatoria en [0, finalPalabra - l]\n",
        "    inicio_subP = random.randint(0, len(palabra) - l)\n",
        "    sub_palabra = palabra[inicio_subP:inicio_subP + l]\n",
        "\n",
        "    return sub_palabra, inicio_subP\n",
        "\n",
        "palabra_inicial = [1, -1, 2, 7, -4, 5]\n",
        "longitud = 2\n",
        "palabra_extraida = ExtraeSubPalabra(palabra_inicial, longitud)\n",
        "print(\"Palabra inicial:\", palabra_inicial)\n",
        "print(\"Palabra extraida de longitud {}: {}\".format(longitud,\n",
        "                                                   palabra_extraida[0]))\n",
        "print(\"Posición inIcial de la palabra extraída:\", palabra_extraida[1])"
      ]
    },
    {
      "cell_type": "markdown",
      "metadata": {
        "id": "jRR1kBk_b-Rg"
      },
      "source": [
        "**Aplicación de $SRel(\\mathcal(P))$**"
      ]
    },
    {
      "cell_type": "code",
      "execution_count": 42,
      "metadata": {
        "colab": {
          "base_uri": "https://localhost:8080/"
        },
        "id": "sRVo_0CgcjDx",
        "outputId": "74612820-a3ec-4959-b491-9b48df804c98"
      },
      "outputs": [
        {
          "output_type": "stream",
          "name": "stdout",
          "text": [
            "Palabra dividida en bloques sin aplicar SRel(P) a 2-subpalabras:\n",
            " [[7, 6, 5, 4, 3, 2, 1], [7, 6, 5, 4, 3, 2, 1]]\n",
            "\n",
            "Palabra dividida en bloques tras aplicar SRel(P) a 2-subpalabras:\n",
            " [[7, 6, 5, 4, 2, 2, -3, 1], [7, 5, 5, -7, 4, 3, 2, 1]]\n",
            "\n",
            "Palabra dividida en bloques sin aplicar Conmutador1 a 2-subpalabras:\n",
            " [[1, -7]]\n",
            "\n",
            "Palabra dividida en bloques tras aplicar Conmutador1 a 2-subpalabras:\n",
            " [[-7, 1]]\n",
            "\n",
            "Palabra dividida en bloques sin aplicar Conmutador2 a 3-subpalabras:\n",
            " [[-1, -2, -1]]\n",
            "\n",
            "Palabra dividida en bloques tras aplicar Conmutador2 a 3-subpalabras:\n",
            " [[-2, -1, -2]]\n"
          ]
        }
      ],
      "source": [
        "# Recorre los bloques que dividen la palabra, extrae para cada uno una\n",
        "# 2-subpalabra, trata de aplicar S(Rel(P)), Conmutación1 o Conmutación 2 y, en\n",
        "# caso éxito, sustituye dentro del bloque la 2-subpalabra por su correspondencia\n",
        "  # Si regla == 1 --> Se trata de aplicar la primera conmutación bibj = bjbi\n",
        "  # Si regla == 2 --> Se trata de aplicar la segunda conmutación bibi+1bi = bi+1bibi+1\n",
        "  # Por defecto   --> Se trata de aplicar S(Rel(P))\n",
        "def AplicarSRelP(bloques, regla=0):\n",
        "\n",
        "  nuevos_bloques = []   # Nueva lista de bloques para no sobreescribir\n",
        "\n",
        "  # Se trata de aplicar Conmutador 1\n",
        "  if (regla == 1):\n",
        "    # Recorremos los bloques\n",
        "    for bloque in bloques:\n",
        "      bloque_copy = bloque.copy()   # Copiamos bloques para no sobreescribir\n",
        "      # Extraemos 2-subpalabra y pos_ini\n",
        "      subpalabra = ExtraeSubPalabra(bloque_copy, 2)\n",
        "\n",
        "      # Si ha tenido éxito la extracción\n",
        "      if (subpalabra[1] != -1):\n",
        "        correspondencia = RewriteConm1(subpalabra[0])\n",
        "\n",
        "        # Eliminamos subpalabra extraída\n",
        "        del bloque_copy[subpalabra[1]:subpalabra[1]+2]\n",
        "\n",
        "        # Añadimos su correspondencia en su lugar para completar sustitución\n",
        "        for i in reversed(correspondencia):\n",
        "          bloque_copy.insert(subpalabra[1], i)\n",
        "\n",
        "      # Añadimos bloque modificado a nueva lista de bloques\n",
        "      nuevos_bloques.append(bloque_copy)\n",
        "\n",
        "  # Se trata de aplicar Conmutador 2\n",
        "  elif (regla == 2):\n",
        "    # Recorremos los bloques\n",
        "    for bloque in bloques:\n",
        "      bloque_copy = bloque.copy()   # Copiamos bloques para no sobreescribir\n",
        "      # Extraemos 2-subpalabra y pos_ini\n",
        "      subpalabra = ExtraeSubPalabra(bloque_copy, 3)\n",
        "\n",
        "      # Si ha tenido éxito la extracción\n",
        "      if (subpalabra[1] != -1):\n",
        "        correspondencia = RewriteConm2(subpalabra[0])\n",
        "        # Eliminamos subpalabra extraída\n",
        "        del bloque_copy[subpalabra[1]:subpalabra[1]+3]\n",
        "\n",
        "        # Añadimos su correspondencia en su lugar para completar sustitución\n",
        "        for i in reversed(correspondencia):\n",
        "          bloque_copy.insert(subpalabra[1], i)\n",
        "\n",
        "      # Añadimos bloque modificado a nueva lista de bloques\n",
        "      nuevos_bloques.append(bloque_copy)\n",
        "\n",
        "  # Se trata de SRel(P)\n",
        "  else:\n",
        "    # Recorremos los bloques\n",
        "    for bloque in bloques:\n",
        "      bloque_copy = bloque.copy()   # Copiamos bloques para no sobreescribir\n",
        "      # Extraemos 2-subpalabra y pos_ini\n",
        "      subpalabra = ExtraeSubPalabra(bloque_copy, 2)\n",
        "\n",
        "      # Si ha tenido éxito la extracción\n",
        "      if (subpalabra[1] != -1):\n",
        "        correspondencia = RewriteSubW(subpalabra[0], R) # Aplicamos SRel(P)\n",
        "        # Eliminamos subpalabra extraída\n",
        "        del bloque_copy[subpalabra[1]:subpalabra[1]+2]\n",
        "\n",
        "        # Añadimos su correspondencia en su lugar para completar sustitución\n",
        "        for i in reversed(correspondencia):\n",
        "          bloque_copy.insert(subpalabra[1], i)\n",
        "\n",
        "      # Añadimos bloque modificado a nueva lista de bloques\n",
        "      nuevos_bloques.append(bloque_copy)\n",
        "\n",
        "  return nuevos_bloques\n",
        "\n",
        "palabra_sin_dividir = list(range(7,0, -1)) + list(range(7, 0, -1))\n",
        "palabra_en_bloques = DivisionPalabraEnBloques(palabra_sin_dividir, 5, 10)\n",
        "print(\"Palabra dividida en bloques sin aplicar SRel(P) a 2-subpalabras:\\n\",\n",
        "      palabra_en_bloques)\n",
        "bloques_SRelP = AplicarSRelP(palabra_en_bloques)\n",
        "print(\"\\nPalabra dividida en bloques tras aplicar SRel(P) a 2-subpalabras:\\n\",\n",
        "      bloques_SRelP)\n",
        "\n",
        "palabra_sin_dividir1 = [1,-7]\n",
        "palabra_en_bloques1 = DivisionPalabraEnBloques(palabra_sin_dividir1, 5, 10)\n",
        "print(\"\\nPalabra dividida en bloques sin aplicar Conmutador1 a 2-subpalabras:\\n\",\n",
        "      palabra_en_bloques1)\n",
        "bloques_Conm1 = AplicarSRelP(palabra_en_bloques1,1)\n",
        "print(\"\\nPalabra dividida en bloques tras aplicar Conmutador1 a 2-subpalabras:\\n\",\n",
        "      bloques_Conm1)\n",
        "\n",
        "palabra_sin_dividir2 = [-1,-2,-1]\n",
        "palabra_en_bloques2 = DivisionPalabraEnBloques(palabra_sin_dividir2, 5, 10)\n",
        "print(\"\\nPalabra dividida en bloques sin aplicar Conmutador2 a 3-subpalabras:\\n\",\n",
        "      palabra_en_bloques2)\n",
        "bloques_Conm2 = AplicarSRelP(palabra_en_bloques2,2)\n",
        "print(\"\\nPalabra dividida en bloques tras aplicar Conmutador2 a 3-subpalabras:\\n\",\n",
        "      bloques_Conm2)"
      ]
    },
    {
      "cell_type": "markdown",
      "metadata": {
        "id": "DSZTJtOaqrC4"
      },
      "source": [
        "**Concatenación y Reducción Libre de bloques modificados**"
      ]
    },
    {
      "cell_type": "code",
      "execution_count": 43,
      "metadata": {
        "colab": {
          "base_uri": "https://localhost:8080/"
        },
        "id": "gOc2n-ILqxMi",
        "outputId": "8b3e9c8b-0abd-40fd-fd37-907bd61b818b"
      },
      "outputs": [
        {
          "output_type": "stream",
          "name": "stdout",
          "text": [
            "Palabra dividida en bloques tras aplicar SRel(P) a 2-subpalabras:\n",
            " [[7, 6, 5, 4, 2, 2, -3, 1], [7, 5, 5, -7, 4, 3, 2, 1]]\n",
            "\n",
            "Se concatenan los bloques y se reduce libremente la palabra reescrita:\n",
            " [7, 6, 5, 4, 2, 2, -3, 1, 7, 5, 5, -7, 4, 3, 2, 1]\n"
          ]
        }
      ],
      "source": [
        "# Concatena los bloques modificados para construir una nueva palabra, a la que\n",
        "# posteriormente se trata de aplicar reducción libre\n",
        "def ConcatenarYRLibre(bloques_modificados):\n",
        "\n",
        "  # Concatenar bloques para formar nueva palabra\n",
        "  palabra_reescrita = []\n",
        "  [palabra_reescrita.extend(bloque) for bloque in bloques_modificados]\n",
        "\n",
        "  # Se trata de aplicar Reducción Libre\n",
        "  palabra_reescrita = ReduccionLibre(palabra_reescrita)\n",
        "\n",
        "  return palabra_reescrita\n",
        "\n",
        "print(\"Palabra dividida en bloques tras aplicar SRel(P) a 2-subpalabras:\\n\",\n",
        "      bloques_SRelP)\n",
        "\n",
        "palabra_reescrita = ConcatenarYRLibre(bloques_SRelP)\n",
        "print(\"\\nSe concatenan los bloques y se reduce libremente la palabra\\\n",
        " reescrita:\\n\", palabra_reescrita)\n"
      ]
    },
    {
      "cell_type": "code",
      "execution_count": 44,
      "metadata": {
        "colab": {
          "base_uri": "https://localhost:8080/"
        },
        "id": "zKzNQBI7gMn7",
        "outputId": "8e380d33-0d38-48ae-ec62-8ad35eebb6f2"
      },
      "outputs": [
        {
          "output_type": "stream",
          "name": "stdout",
          "text": [
            "[7, -5]\n"
          ]
        },
        {
          "output_type": "execute_result",
          "data": {
            "text/plain": [
              "[-5, -6, 5]"
            ]
          },
          "metadata": {},
          "execution_count": 44
        }
      ],
      "source": [
        "palabra = [7,-7,-6,-5]\n",
        "palabray= ArtinGenToYGen(palabra, ArtinGen_p)\n",
        "print(palabray)\n",
        "RewriteSubW(palabray, R)"
      ]
    },
    {
      "cell_type": "markdown",
      "metadata": {
        "id": "p22SjGFtsI8K"
      },
      "source": [
        "**ALGORITMO DE REESCRITURA ESTOCÁSTICO**"
      ]
    },
    {
      "cell_type": "code",
      "execution_count": 45,
      "metadata": {
        "colab": {
          "base_uri": "https://localhost:8080/"
        },
        "id": "pSF-v9M0sWTc",
        "outputId": "79fbf6e2-10d2-4f01-c419-dae7ba7ddcf2"
      },
      "outputs": [
        {
          "output_type": "stream",
          "name": "stdout",
          "text": [
            "Palabra original: [-1, -2, -1]\n",
            "Longitud palabra original: 3\n",
            "Palabra reescrita por Algoritmo Estocástico: [-1, -2, -1]\n",
            "Longitud palabra reescrita: 3\n",
            "¿SE HA APLICADO ALGÚN CAMBIO? False\n"
          ]
        }
      ],
      "source": [
        "# Reescribe una palabra 'w' mediante el Algoritmo de Reescritura Estocástico\n",
        "# ocultando la palabra original\n",
        "def StochasticRewriting(w_ArtinGen, ArtinGen_p, yGen_p):\n",
        "\n",
        "  # Se expresa w en el sistema yGen(P)\n",
        "  w_yGen = ArtinGenToYGen(w_ArtinGen, ArtinGen_p)\n",
        "  w_final = w_yGen\n",
        "\n",
        "  # Repetimos el proceso lo suficiente para ocultar la palabra original\n",
        "  for i in range(3):\n",
        "\n",
        "    # Se divide en bloques\n",
        "    bloques_w_yGen = DivisionPalabraEnBloques(w_yGen, 5,10)\n",
        "\n",
        "    # Extrae una 2-subpalabra para cada bloque y la sustituye por su\n",
        "    # correspondencia en SRel(P), si es posible\n",
        "    bloques_SRelP = AplicarSRelP(bloques_w_yGen)\n",
        "\n",
        "    # Se concatenan los nuevos bloques y se trata de aplicar Reducción Libre a la\n",
        "    # nueva palabra\n",
        "    w_yGen = ConcatenarYRLibre(bloques_SRelP)\n",
        "\n",
        "  # Se expresa la palabra final en términos de generadores de Artin\n",
        "  w_ArtinGen = YGenToArtinGen(w_yGen, yGen_p)\n",
        "  w_ArtinGen = ReduccionLibre(w_ArtinGen)   # Reducimos palabra\n",
        "\n",
        "  # PRIMERA CONMUTACIÓN\n",
        "  for i in range(3):\n",
        "\n",
        "    bloques_w_ArtinGen = DivisionPalabraEnBloques(w_ArtinGen, 5,10)\n",
        "\n",
        "    # Extrae una 2-subpalabra para cada bloque y la trata de conmutar\n",
        "    bloques_Conm1 = AplicarSRelP(bloques_w_ArtinGen, 1)\n",
        "\n",
        "    # Se concatenan los nuevos bloques y se trata de aplicar Reducción Libre a la\n",
        "    # nueva palabra\n",
        "    w_ArtinGen = ConcatenarYRLibre(bloques_Conm1)\n",
        "\n",
        "  # SEGUNDA CONMUTACIÓN\n",
        "  for i in range(3):\n",
        "\n",
        "    bloques_w_ArtinGen = DivisionPalabraEnBloques(w_ArtinGen, 5,10)\n",
        "\n",
        "    # Extrae una 3-subpalabra para cada bloque y la trata de conmutar\n",
        "    bloques_Conm2 = AplicarSRelP(bloques_w_ArtinGen, 2)\n",
        "\n",
        "    # Se concatenan los nuevos bloques y se trata de aplicar Reducción Libre a la\n",
        "    # nueva palabra\n",
        "    w_ArtinGen = ConcatenarYRLibre(bloques_Conm2)\n",
        "\n",
        "  w_final = ReduccionLibre(w_ArtinGen)   # Reducimos palabra\n",
        "\n",
        "  return w_final\n",
        "\n",
        "import random\n",
        "\n",
        "# Generaramos una palabra aleatoria de longitud 100\n",
        "#palabra_original = ReduccionLibre([random.choice([-7, -6, -5, -4, -3, -2, -1, 1,\n",
        "                                      #2, 3, 4, 5, 6, 7]) for _ in range(100)])\n",
        "palabra_original = [-1, -2, -1]\n",
        "print(\"Palabra original:\", palabra_original)\n",
        "print(\"Longitud palabra original:\", len(palabra_original))\n",
        "palabra_reescrita = StochasticRewriting(palabra_original, ArtinGen_p, yGen_p)\n",
        "print(\"Palabra reescrita por Algoritmo Estocástico:\", palabra_reescrita)\n",
        "print(\"Longitud palabra reescrita:\", len(palabra_reescrita))\n",
        "\n",
        "print(\"¿SE HA APLICADO ALGÚN CAMBIO?\", palabra_original != palabra_reescrita)"
      ]
    },
    {
      "cell_type": "markdown",
      "metadata": {
        "id": "76vqTX4OsMuX"
      },
      "source": [
        "# WALNUTDSA"
      ]
    },
    {
      "cell_type": "markdown",
      "metadata": {
        "id": "JC0ZopLlsSwZ"
      },
      "source": [
        "El algoritmo WalnutDSA precisa de tres conjuntos de datos para la generación y verificación de la firma a implementar:\n",
        "\n",
        "\n",
        "\n",
        "\n",
        "*   Parámetros públicos del sistema:\n",
        "  \n",
        "  * $N \\geq 8$, determinando el grupo trenzado $\\mathbb{B}_N$\n",
        "  * $\\mathcal{R} : \\mathbb{B}_N ⟶ \\mathbb{B}_N$, algoritmo de reescritura\n",
        "  * Campo finito $\\mathbb{F}_q, q \\geq 32$\n",
        "  * $a,b$ con $1 \\lt a \\lt b \\lt N, \\; a,b \\in \\mathbb{N}$\n",
        "  * T-values $= \\{\\tau_1, \\tau_2, ..., \\tau_N\\} \\in \\mathbb{F}_q^N$ con $\\tau_a = \\tau_b = 1$\n",
        "\n",
        "*   Clave privada\n",
        "\n",
        "  * Priv(S) $= (w, w') \\in \\mathbb{B}_N \\times \\mathbb{B}_N$\n",
        "\n",
        "*   Clave pública\n",
        "\n",
        "  * Pub(S) $= (\\mathcal{P}(w), \\mathcal{P}(w'))$\n",
        "  \n",
        "\n",
        "\n",
        "\n",
        "\n"
      ]
    },
    {
      "cell_type": "code",
      "execution_count": 46,
      "metadata": {
        "colab": {
          "base_uri": "https://localhost:8080/"
        },
        "id": "aBivIGcEzpix",
        "outputId": "02e0c08b-9b6a-4ca5-f052-1aad78150042"
      },
      "outputs": [
        {
          "output_type": "stream",
          "name": "stdout",
          "text": [
            "Palabra de la primera trenza de la clave privada: [-6 2 6 4 3 -5 3 7 -1 2 -4 -7 3 7 -5 7 -3 1 -4 7 2 5 -6 7 3 -2 -4 -1 -3 4 -6 5 5 -4 5 -3 2 5 -3 -2]\n",
            "Palabra de la segunda trenza de la clave privada: [-1 -6 2 4 2 7 1 5 4 3 -2 7 4 -5 -3 5 5 6 7 2 -1 -7 -3 2 1 5 -6 1 -3 -1 -3 -2 3 6 6 -2 6 -4 -7 -6 -1 -7 -2 3 5]\n",
            "\n",
            "P(w):\n",
            "Matriz:\n",
            "  [[23 9 24 19 30 11 0 0]\n",
            " [23 9 0 11 30 11 0 0]\n",
            " [23 9 0 29 8 11 0 0]\n",
            " [2 3 21 31 24 0 20 1]\n",
            " [3 3 10 12 11 30 20 1]\n",
            " [17 28 2 18 24 13 29 20]\n",
            " [27 6 20 5 11 25 28 3]\n",
            " [0 0 0 0 0 0 0 1]] \n",
            "\n",
            "Permutación:  (0 3 1 4 2)(5 6 7)\n",
            "\n",
            "P(w'):\n",
            "Matriz:\n",
            "  [[9 6 21 4 22 28 27 0]\n",
            " [9 6 29 12 22 28 27 0]\n",
            " [9 6 29 12 22 2 5 0]\n",
            " [11 19 14 15 27 6 0 20]\n",
            " [28 8 2 10 0 20 0 20]\n",
            " [28 16 26 28 20 23 0 21]\n",
            " [0 25 25 25 28 13 0 9]\n",
            " [0 0 0 0 0 0 0 1]] \n",
            "\n",
            "Permutación:  (0 6 2 5 4 7 3 1)\n"
          ]
        }
      ],
      "source": [
        "# Generamos los datos descritos\n",
        "\n",
        "# Orden del grupo trenzado Bn\n",
        "N = 8\n",
        "\n",
        "# Campo finito\n",
        "q = 5 # Realmente q = 2^5, pero FField requiere del exponente\n",
        "F32 = ffield.FField(q)\n",
        "\n",
        "# T_Values\n",
        "t1, t2, t3, t4, t5, t6, t7, t8 = symbols('t1 t2 t3 t4 t5 t6 t7 t8')\n",
        "t_values = np.array([t1, t2, t3, t4, t5, t6, t7, t8]) # t_values\n",
        "eval = np.array([6, 1, 1, 9, 19, 14, 29, 30])\n",
        "\n",
        "# T_Unos\n",
        "t_unos = Comprobador_cloak_t_unos(eval, N)  # posiciones en el vector\n",
        "a = t_unos[0] + 1                           # índices en los t_values\n",
        "b = t_unos[1] + 1\n",
        "\n",
        "# Clave privada\n",
        "w = Braid(N, ReduccionLibre(Palabra_aleatoria(N, 25, 50)))\n",
        "w_ = Braid(N, ReduccionLibre(Palabra_aleatoria(N, 25, 50)))\n",
        "print(\"Palabra de la primera trenza de la clave privada:\", w.showBraid())\n",
        "print(\"Palabra de la segunda trenza de la clave privada:\", w_.showBraid())\n",
        "\n",
        "# Clave pública\n",
        "# E-Multiplicación para M y permM identidad\n",
        "Pw = E_Multiplicacion_P(w.elementos, N, q, t_values, eval)\n",
        "Pw_ = E_Multiplicacion_P(w_.elementos, N, q, t_values, eval)\n",
        "print(\"\\nP(w):\\nMatriz:\\n \", np.array(Pw[0]), \"\\n\\nPermutación: \", Pw[1])\n",
        "print(\"\\nP(w'):\\nMatriz:\\n \", np.array(Pw_[0]), \"\\n\\nPermutación: \", Pw_[1])"
      ]
    },
    {
      "cell_type": "markdown",
      "metadata": {
        "id": "zr7yyLyErN43"
      },
      "source": [
        "## SIGNATURE GENERATION"
      ]
    },
    {
      "cell_type": "markdown",
      "metadata": {
        "id": "8QlBxPj4sGZ9"
      },
      "source": [
        "Para generar la firma de un mensaje $m \\in \\{0,1\\}^*$, una vez fijada la función Hash a utilizar (SHA-256), necesitaremos:\n",
        "\n",
        "1. Cloak Elements:\n",
        "  1. $v$ oculta $(Id_N, Id_{\\mathbb{S}_N})$\n",
        "  2. $v_1$ oculta $\\mathcal{P}(w)$\n",
        "  3. $v_2$ oculta $\\mathcal{P}(w')$\n",
        "\n",
        "2. Calcular $H(m)$\n",
        "3. Codificar $m$ a $\\mathbb{B}_N$: $E(H(m))$\n",
        "4. Calcular $Sig = \\mathcal{R}(v_1 \\cdot w^{-1} \\cdot v \\cdot E(H(m)) \\cdot w' \\cdot v_2)$\n",
        "5. La firma generada es $(H(m), Sig)$"
      ]
    },
    {
      "cell_type": "code",
      "execution_count": 47,
      "metadata": {
        "colab": {
          "base_uri": "https://localhost:8080/"
        },
        "id": "shfFzabFrS6D",
        "outputId": "1f571b9e-5573-44a0-fe1e-9b42467e2171"
      },
      "outputs": [
        {
          "output_type": "stream",
          "name": "stdout",
          "text": [
            "Cloak Elements Signature Generation:\n",
            "\n",
            "v = [4 1 2 4 -7 -7 7 -7 -6 -5 4 1 -6 -6 -6 -1 -6 -2 -6 -2 7 -3 4 -2 -1 6 -6 4 4 -2 -7 -2 -4 7 2 2 6 -3 6 4 7 -3 -4 -3 6 -1 -6 -1 5 4 -3 -6 4 -4 6 -6 6 2 3 3 -2 -6 6 -6 4 -4 6 3 -4 -5 1 6 1 -6 3 4 3 -7 -4 -6 3 -6 -2 -2 -7 4 2 7 2 -4 -4 6 -6 1 2 -4 3 -7 2 6 2 6 1 6 6 6 -1 -4 5 6 7 -7 7 7 -4 -2 -1 -4]\n",
            "v1 = [-2 6 -3 -6 2 -3 -6 -4 -1 7 3 3 -1 6 -6 -7 -6 3 -4 4 3 -1 -1 -3 -4 -7 -1 -3 -2 2 -4 -6 -3 -5 2 -2 4 -6 1 -1 7 6 -5 -1 -2 -7 -6 -4 5 1 5 1 7 -5 1 -4 -1 -5 7 3 3 -7 5 1 4 -1 5 -7 -1 -5 -1 -5 4 6 7 2 1 5 -6 -7 1 -1 6 -4 2 -2 5 3 6 4 -2 2 3 1 7 4 3 1 1 -3 -4 4 -3 6 7 6 -6 1 -3 -3 -7 1 4 6 3 -2 6 3 -6 2]\n",
            "v2 = [1 -1 -5 -6 -6 -1 3 7 5 -2 -1 -1 3 5 -6 5 7 3 7 4 6 6 3 -1 7 -2 3 3 -5 -1 1 -7 1 -2 2 7 1 2 1 -6 -7 2 -3 -3 5 -2 -1 -7 -5 5 4 2 -2 -1 -5 7 -4 -6 1 3 -7 -7 4 -1 6 2 -1 -3 6 -5 -1 3 6 3 3 -6 -3 1 5 -6 3 1 -2 -6 1 -4 7 7 -3 -1 6 4 -7 5 1 2 -2 -4 -5 5 7 1 2 -5 3 3 -2 7 6 -1 -2 -1 -7 -2 2 -1 7 -1 1 5 -3 -3 2 -7 1 -3 -6 -6 -4 -7 -3 -7 -5 6 -5 -3 1 1 2 -5 -7 -3 1 6 6 5 1 -1]\n",
            "\n",
            "Comprobaciones de Cloak Elements\n",
            "\n",
            "ID * v = (Matrix([\n",
            "[1, 0, 0, 0, 0, 0, 0, 0],\n",
            "[0, 1, 0, 0, 0, 0, 0, 0],\n",
            "[0, 0, 1, 0, 0, 0, 0, 0],\n",
            "[0, 0, 0, 1, 0, 0, 0, 0],\n",
            "[0, 0, 0, 0, 1, 0, 0, 0],\n",
            "[0, 0, 0, 0, 0, 1, 0, 0],\n",
            "[0, 0, 0, 0, 0, 0, 1, 0],\n",
            "[0, 0, 0, 0, 0, 0, 0, 1]]), Permutation(7))\n",
            "\n",
            "P(w) * v1 = (Matrix([\n",
            "[23,  9, 24, 19, 30, 11,  0,  0],\n",
            "[23,  9,  0, 11, 30, 11,  0,  0],\n",
            "[23,  9,  0, 29,  8, 11,  0,  0],\n",
            "[ 2,  3, 21, 31, 24,  0, 20,  1],\n",
            "[ 3,  3, 10, 12, 11, 30, 20,  1],\n",
            "[17, 28,  2, 18, 24, 13, 29, 20],\n",
            "[27,  6, 20,  5, 11, 25, 28,  3],\n",
            "[ 0,  0,  0,  0,  0,  0,  0,  1]]), Permutation(0, 3, 1, 4, 2)(5, 6, 7))\n",
            "\n",
            "P(w') * v2 = (Matrix([\n",
            "[ 9,  6, 21,  4, 22, 28, 27,  0],\n",
            "[ 9,  6, 29, 12, 22, 28, 27,  0],\n",
            "[ 9,  6, 29, 12, 22,  2,  5,  0],\n",
            "[11, 19, 14, 15, 27,  6,  0, 20],\n",
            "[28,  8,  2, 10,  0, 20,  0, 20],\n",
            "[28, 16, 26, 28, 20, 23,  0, 21],\n",
            "[ 0, 25, 25, 25, 28, 13,  0,  9],\n",
            "[ 0,  0,  0,  0,  0,  0,  0,  1]]), Permutation(0, 6, 2, 5, 4, 7, 3, 1))\n",
            "\n",
            "\n",
            "Salida del Hash binaria\n",
            " 1101000111000011111100100100100001001100001000000001011101101011011011110110101010011111110001100001101111101010000111000110101010011000100101111000111100101010101000010011101010110011101001010100100100011110111110101001110010101111100101111100000011000000\n",
            "\n",
            "\n",
            "Salida hash codificada a trenza del subgrupo puro generado:\n",
            "\n",
            "Palabra: [7, 6, 5, 4, 4, 4, 4, 4, 4, 4, 4, 4, 4, 4, 3, 3, 3, 3, 3, 3, 3, 3, -4, 5, 5, 5, 5, 5, 5, 5, 5, 5, -6, 7, 7, 6, 5, 4, 3, 3, 3, 3, 3, 3, 3, 3, 3, 3, 3, 3, 3, 3, 3, 3, 3, 3, 3, 3, 3, 3, -4, -5, -6, 7, 7, 6, 5, 4, 3, 3, 4, 5, 5, 5, -6, 7, 7, 7, 7, 6, 5, 5, 5, 5, 5, 5, -6, 7, 7, 7, 7, 6, 5, 5, 5, 5, 5, 5, 5, 5, -6, 7, 7, 7, 7, 7, 7, 7, 7, 7, 7, 6, 5, 4, 4, 4, 4, 4, 4, 5, 5, 5, 5, 5, 5, 5, 5, 4, 3, 3, 3, 3, 3, 3, 3, 3, -4, -5, -6, 7, 7, 7, 7, 6, 5, 4, 4, 5, 5, 5, 5, 5, -6, 7, 7, 7, 7, 7, 7, 7, 7, 7, 7, 7, 7, 7, 7, 6, 5, 4, 4, 4, 3, 3, 3, 3, 3, 3, 3, 3, -4, -5, -6, 7, 7, 7, 7, 7, 7, 7, 7, 7, 7, 6, 5, 4, 4, 4, 4, 4, 4, 4, 3, 3, 3, 3, 3, 3, 4, 4, 4, 4, 4, 5, 5, 5, 5, 4, 3, 3, 3, 3, 3, 3, -4, 5, 5, 5, 5, 5, 5, 5, -6, 7, 7, 7, 7, 7, 7, 7, 7, 7, 7, 7, 7, 7, 7, 6, 5, 4, 4, 5, -6, 7, 7, 7, 7, 7, 7, 6, 5, 5, 5, 5, 5, 5, 5, 5, -6, 7, 7, 7, 7, 7, 7, 6, 5, 4, 4, 4, 4, 4, 3, 3, 3, 3, 4, 4, 4, 4, 4, 4, 4, -5, -6, 7, 7, 7, 7, 7, 7, 7, 7, 6, 5, 5, 5, 5, 5, 5, 5, 5, -6, 7, 7, 7, 7, 7, 7, 6, 5, 4, 4, 4, 4, 4, 4, 4, 3, 3, 3, 3, 3, 3, 3, 3, -4, -5, -6, 7, 7, 7, 7, 7, 7, 6, 5, 5, 5, 5, 5, 5, 5, 5, 5, 4, 4, 4, 4, 4, 4, 5, 5, 5, 5, 4, 3, 3, 3, 3, 3, 3, 3, 3, 3, 3, 3, 3, 3, 3, 3, 3, 3, 3, 3, 3, -4, -5, -6, -7]\n",
            "Longitud palabra codificada: 390\n",
            "Permutación proyectada por la trenza codificada: (7)\n",
            "¿SE HA APLICADO ALGÚN CAMBIO? True\n",
            "\n",
            "\n",
            "Signature:\n",
            "\n",
            "Palabra: [-2, 6, -3, -6, 2, -3, 7, 5, 6, 7, -6, -5, -7, -6, -5, 7, -4, -1, 3, 3, -1, -7, -6, 3, 3, -1, 2, 3, -2, -3, -2, -1, -7, -4, -1, -3, 5, 6, 7, -5, -7, -6, -5, -4, -3, -5, -6, 4, 7, 6, 6, 7, 6, -7, -6, -5, -1, -7, -2, -7, -4, -6, 5, 1, 1, 5, 7, 1, -5, -4, -1, 3, 7, -5, 3, 5, -7, 4, 5, -7, -1, -5, -1, -5, 6, 4, 7, 2, 3, 1, 2, 3, -2, -3, 5, -2, -6, -7, 6, 5, 7, 6, 7, -6, -7, -6, -5, -4, 3, 5, 6, 4, 3, 4, 1, 3, 7, 2, 1, 2, 3, 2, 3, -2, -1, -3, -2, -3, -3, 6, 7, -3, -2, 1, 2, 3, 1, -3, -2, -3, -7, 1, 4, 5, 6, 7, 5, 6, -7, -6, -7, -2, -5, -3, 2, 3, 6, 3, -7, -6, -7, 6, 7, 2, 3, 2, 3, -2, -5, -2, -5, 3, 4, 5, 6, 5, 7, 6, -7, -7, -6, -5, -7, -6, -5, -4, 6, 1, 3, 2, 4, -3, -7, 6, -2, -7, -5, 2, 4, 3, 2, -3, -2, -1, -7, -7, 5, -3, 7, 1, 4, 2, 3, -1, -3, -2, -7, 5, -3, -4, -3, -4, -2, -6, -3, 2, 3, 6, 4, 1, 2, -7, -6, 4, -5, -7, -6, -5, 6, 7, 4, 6, 1, 7, 6, -7, -7, -6, -7, -6, -6, -6, -1, -7, -2, -6, -5, -7, 5, 6, 7, -2, 7, -3, 4, -2, 4, -1, 4, -2, -2, -7, 5, 7, -5, -4, -3, -2, 3, 2, 3, 2, 6, -3, 4, -3, 6, 7, -4, -3, -7, -6, -5, -4, 7, 4, 5, 6, -1, -6, -5, -7, 5, 6, 7, -1, 4, 5, 6, 7, 4, 5, 6, -7, -6, -5, -7, -6, 2, 3, -2, 3, 3, 2, -3, -2, 5, 6, 7, 5, 6, -7, -6, -5, -4, -7, -6, -5, 1, 6, 1, -6, 3, 4, -7, 3, -4, -6, -6, -2, -3, 2, 3, -2, 4, 5, -7, -5, 7, 2, -4, 2, -4, 1, 2, -4, -7, -2, 3, 2, 3, 6, 2, -7, -6, 7, 6, 7, 1, 6, 7, 6, 7, 7, -6, -7, -1, -4, 5, 6, 7, 7, -4, -3, -2, -1, -3, -2, 1, 2, 3, -4, 7, 6, 7, 5, -7, 4, 4, 5, 6, 7, 4, 5, 6, 7, 7, -6, -5, -4, -7, -6, -5, 4, 4, 5, 6, 7, 4, 5, 6, 7, 7, -6, -5, -4, -7, -6, -5, 4, 4, 4, 3, 3, 3, 3, 3, 3, 3, 3, 5, 6, 7, 4, 5, 6, -7, -6, -5, -4, 5, 6, 7, -6, -7, -5, -6, 5, 5, 5, 6, 5, 6, 6, -5, -6, 5, 6, 7, 5, 6, 7, -6, -5, -7, -6, -6, 7, -6, 7, 6, 7, 5, 4, 3, 3, 3, 3, 3, 3, 3, 3, 3, 3, 3, 3, 3, 3, 3, 3, 3, 3, 3, 3, 3, 5, 3, 6, 7, 5, 6, -7, -6, -5, -4, -7, -6, -5, -6, 7, 7, 5, 6, 5, 7, 6, 4, 7, 5, 6, 7, -6, -5, -6, -5, -7, -6, -5, 3, 3, 4, 6, 5, 6, 6, 7, -5, -7, -6, 5, 6, -7, -6, -5, -7, 5, -7, 6, 7, 7, 7, 7, -6, -5, 7, 5, 6, 5, 7, 5, 6, 7, 5, 6, 7, 7, -6, -5, -7, -6, 5, 6, 7, 5, 6, 7, -6, -7, -5, -6, -7, -6, -7, -7, 6, 7, 6, 7, 7, 7, 7, 6, 5, 5, 5, 5, 5, 6, 7, 5, 6, 7, 7, -6, -7, -5, -6, 5, 7, 6, -7, -6, 7, 7, 7, 7, 7, 7, 7, 7, 7, 6, 5, 4, 5, 6, 4, 7, 5, 6, 7, 7, -6, -5, -4, -7, -6, -5, 4, 4, 4, 5, 5, 5, 5, 6, 7, 5, 6, 7, -6, -7, -5, -6, 5, 5, 5, 6, 7, 4, 5, 6, 7, -6, -7, -5, -6, -5, 3, 3, 3, 3, 3, 3, 3, 3, -4, -5, -6, 7, 7, 7, -5, -6, -4, -5, -4, 5, 6, 7, 4, 5, 6, 7, 5, 4, 4, 5, 5, 5, 5, 6, 7, 5, 6, 7, -6, -5, -7, -6, -6, 7, 7, 7, 7, 7, 7, 7, 7, 7, 7, 7, 7, 7, 7, 6, 5, 4, 4, 4, 3, 3, 3, 3, 3, 3, 3, 6, 3, 7, -4, 6, -7, -6, -7, -5, -6, 7, 7, 7, 7, 7, 7, 7, 7, 7, 7, 5, 6, 7, 4, 5, 4, 6, 7, -6, -5, 4, 5, 6, 7, -6, -5, -4, -7, -6, -5, 4, 4, 4, 5, 6, 7, 4, 5, 6, 7, 7, -6, -5, -4, -7, -6, -5, 3, 3, 3, 3, 3, 3, 4, 4, 5, 6, 7, 4, 5, 6, 7, -6, -5, -4, -7, -6, -5, 4, 4, 5, 5, 5, 5, 4, 3, 3, 3, 3, 3, 3, -4, 5, 5, 5, 5, 5, 6, 7, -4, -7, -6, 4, 5, 5, -6, 7, 7, 7, 7, 7, 7, 7, 7, 7, 7, 7, 7, 7, 7, 6, 7, 5, -7, 4, 4, 5, -6, 7, 7, 7, 7, 7, 7, 6, 5, 5, 6, 5, 6, 7, -5, -7, -6, 5, 5, 5, 6, 7, 5, 6, 7, -6, -7, -5, -6, 5, 6, 7, 6, -7, -7, -6, 7, 7, 7, -6, -5, -7, -6, 5, 6, 7, 7, 5, 6, 5, 4, 7, 4, 5, 6, 7, 4, 5, 6, 7, -6, -5, -4, -7, -6, -5, 4, 4, 3, 3, 3, 3, 4, 4, 4, 4, 5, 6, 4, 5, 6, 7, 6, 7, -6, -5, -4, -7, -6, -5, 4, -5, -6, 7, 7, 7, 7, 7, 7, 7, -6, 7, 6, 7, 5, 5, 5, 5, 5, 6, 7, 5, 6, 7, -6, -7, -5, -6, 5, 5, -6, 7, 7, 7, 7, 7, 7, 6, 7, 5, 4, 5, -7, -5, 4, 4, 4, 5, 6, 4, 5, 7, 6, 7, 7, -6, -5, -7, -4, -6, -5, 4, 3, 3, 3, 3, 3, 3, 3, 3, 5, 6, 5, -6, -5, -6, -4, -5, -6, 7, 7, 7, 7, 7, 7, 6, 5, 5, 5, 6, -4, -6, 4, 5, 5, 6, 7, 5, 6, 7, -6, -5, -7, -6, 5, 5, 5, 4, 4, 4, 5, 6, 7, 4, 5, 6, 7, 7, 7, -6, -5, -4, -7, -6, 5, 5, 5, 4, 3, 3, 3, 3, 3, 3, 3, 3, 3, 3, 3, 3, 3, 3, 3, 3, 3, 3, 3, 3, -4, -5, -6, -7, -1, 2, 4, -6, -3, -2, 3, 2, 3, 7, 5, 1, 4, 3, -2, 7, 4, -3, 5, 6, 7, 2, -7, -1, -3, 2, 3, 1, -3, 5, -6, -3, -3, -2, -7, 3, -6, -5, 7, 5, 6, 7, 6, -2, 6, -4, -7, -6, -1, -7, 3, 2, -3, -2, -6, -6, -1, 5, 3, 7, -2, -1, 3, -1, 5, -6, 5, 7, 3, 7, 4, 6, 5, 6, 7, 6, -7, -6, -5, -7, -7, -6, 7, 6, 3, 7, -1, 7, -2, 3, 3, -7, -5, 1, 1, 2, 7, 1, 7, -6, -7, -6, 2, -3, 5, -3, -2, 4, -1, -7, -1, 7, 7, -5, -4, -7, -6, 1, 3, -7, -7, -1, -7, 4, -6, -5, 7, 5, 6, 7, 2, 3, -1, -3, 6, -3, -5, 3, 6, -1, 3, -7, 3, -6, -5, -7, 5, 6, 7, -3, 1, 5, 1, -6, 3, -2, -6, 1, 7, -4, 7, -1, -3, 6, -7, 4, 5, 1, 5, 7, -5, -4, -3, -2, -1, 2, 3, 1, 2, 3, -5, 3, 3, -2, 7, 6, 7, 2, 3, -7, 2, -3, -2, -1, -3, -2, -1, -7, -1, 7, 5, -3, -3, 2, -7, 1, -3, -5, 7, 5, 6, -7, -6, -4, -7, -6, -7, -3, 6, 7, -6, -7, -6, -5, 6, -5, 1, 2, 3, -2, 1, 2, 3, -2, -3, -1, -5, -7, -3, 1, 6, 6, 5]\n",
            "Longitud palabra: 1369\n",
            "Permutación proyectada: (0 5 1 2 7)(4 6)\n",
            "\n",
            "\n",
            "Tiempo de Ejecución de la firma:  0.4145655632019043 segundos\n",
            "\n",
            "\n",
            "Tiempo de Ejecución de la generación de Cloak Elements:  0.3663938045501709 segundos\n",
            "\n",
            "\n",
            "Tiempo de Ejecución del Hash:  0.00013875961303710938 segundos\n",
            "\n",
            "\n",
            "Tiempo de Ejecución del Encoder:  0.008437633514404297 segundos\n",
            "\n",
            "\n",
            "Tiempo de Ejecución del cómputo de la firma:  0.03959536552429199 segundos\n"
          ]
        }
      ],
      "source": [
        "# Generamos los 3 Cloak Elements\n",
        "start_time_cloaking_elements = time.time()\n",
        "v = Cloaking_Element(Permutation(range(N)), eval, 3, N)\n",
        "v1 = Cloaking_Element(Pw[1], eval, 3, N)\n",
        "v2 = Cloaking_Element(Pw_[1], eval, 3, N)\n",
        "end_time_cloaking_elements = time.time()\n",
        "\n",
        "print(\"Cloak Elements Signature Generation:\")\n",
        "print(\"\\nv =\", v.showBraid())\n",
        "print(\"v1 =\", v1.showBraid())\n",
        "print(\"v2 =\", v2.showBraid())\n",
        "\n",
        "print(\"\\nComprobaciones de Cloak Elements\")\n",
        "print(\"\\nID * v =\", E_Multiplicacion(eye(N), Permutation(range(N)),\n",
        "                                     v.elementos, N, q, t_values, eval))\n",
        "print(\"\\nP(w) * v1 =\", E_Multiplicacion(Pw[0], Pw[1], v1.elementos, N, q,\n",
        "                                        t_values, eval))\n",
        "print(\"\\nP(w') * v2 =\", E_Multiplicacion(Pw_[0], Pw_[1], v2.elementos, N, q,\n",
        "                                         t_values, eval))\n",
        "\n",
        "# Aplicamos función Hash SHA-256\n",
        "m = b\"Lorem ipsum dolor sit amet, consectetur adipiscing elit. Cras congue \\\n",
        "tincidunt lectus, vitae tempus sem consequat eu. Fusce vehicula quam a neque \\\n",
        "viverra facilisis. Sed ullamcorper, arcu non tristique vulputate, lectus nulla \\\n",
        "fermentum arcu, nec pulvinar lectus turpis eget nunc. Fusce varius convallis \\\n",
        "urna id accumsan. Duis volutpat congue enim, a aliquam dolor sagittis \\\n",
        "tristique. Suspendisse potenti. Nulla accumsan eros odio, non faucibus ipsum \\\n",
        "tincidunt id. Mauris eget felis ultrices, mollis arcu ultricies, dictum urna. \\\n",
        "Etiam vitae maximus diam.\"\n",
        "start_time_hash = time.time()\n",
        "Hm, cuartetos = SHA256(m)\n",
        "end_time_hash = time.time()\n",
        "print(\"\\n\\nSalida del Hash binaria\\n\", Hm)\n",
        "\n",
        "# Codificamos m a BN\n",
        "start_time_encoder = time.time()\n",
        "EHm, CN4 = Encoder_WalnutDSA(m, N)\n",
        "end_time_encoder = time.time()\n",
        "print(\"\\n\\nSalida hash codificada a trenza del subgrupo puro generado:\\n\")\n",
        "print(\"Palabra:\", EHm.elementos)\n",
        "print(\"Longitud palabra codificada:\", len(EHm.elementos))\n",
        "print(\"Permutación proyectada por la trenza codificada:\", EHm.perm)\n",
        "\n",
        "# Calculamos Sig\n",
        "start_time_sig = time.time()\n",
        "palabraSig0 = ReduccionLibre(v1.elementos + w.inverseBraid().elementos + \\\n",
        "                      v.elementos + EHm.elementos + w_.elementos + v2.elementos)\n",
        "\n",
        "palabraSig = StochasticRewriting(palabraSig0, ArtinGen_p, yGen_p)\n",
        "print(\"¿SE HA APLICADO ALGÚN CAMBIO?\", palabraSig != palabraSig0)\n",
        "\n",
        "Sig = Braid(N, palabraSig)\n",
        "end_time_sig = time.time()\n",
        "\n",
        "execution_time_cloaking_elements = end_time_cloaking_elements - \\\n",
        "start_time_cloaking_elements\n",
        "execution_time_hash = end_time_hash - start_time_hash\n",
        "execution_time_encoder = end_time_encoder - start_time_encoder\n",
        "execution_time_sig = end_time_sig - start_time_sig\n",
        "execution_time_signature = execution_time_cloaking_elements + \\\n",
        "execution_time_hash + execution_time_encoder + execution_time_sig\n",
        "\n",
        "print(\"\\n\\nSignature:\\n\")\n",
        "print(\"Palabra:\", Sig.elementos)\n",
        "print(\"Longitud palabra:\", len(Sig.elementos))\n",
        "print(\"Permutación proyectada:\", Sig.perm)\n",
        "\n",
        "# Firma generada por WalnutDSA (con reescritura)\n",
        "WalnutDSA_Signature = Hm, Sig\n",
        "\n",
        "print(\"\\n\\nTiempo de Ejecución de la firma: \",  execution_time_signature,\n",
        "      \"segundos\")\n",
        "print(\"\\n\\nTiempo de Ejecución de la generación de Cloak Elements: \",\n",
        "      execution_time_cloaking_elements, \"segundos\")\n",
        "print(\"\\n\\nTiempo de Ejecución del Hash: \",  execution_time_hash,\n",
        "      \"segundos\")\n",
        "print(\"\\n\\nTiempo de Ejecución del Encoder: \",  execution_time_encoder,\n",
        "      \"segundos\")\n",
        "print(\"\\n\\nTiempo de Ejecución del cómputo de la firma: \",  execution_time_sig,\n",
        "      \"segundos\")"
      ]
    },
    {
      "cell_type": "markdown",
      "metadata": {
        "id": "DC1O79EwrVAD"
      },
      "source": [
        "## SIGNATURE VERIFICATION"
      ]
    },
    {
      "cell_type": "markdown",
      "metadata": {
        "id": "zgvuwxSf_Z4H"
      },
      "source": [
        "Para verificar la firma generada por WalnutDSA $(H(m), Sig)$, procedemos así:\n",
        "\n",
        "1.  Codificamos el resumen $H(m)$ a $\\mathbb{B}_N: \\; E(H(m))$\n",
        "2. Evaluamos $\\mathcal{P}(E(H(m)))$\n",
        "3. Evaluamos $\\mathcal{P}(w) \\star Sig$\n",
        "4. Comprobamos la igualdad:\n",
        "  $$ Matrix(\\mathcal{P}(w) \\star Sig) = Matrix(\\mathcal{P}(E(H(m)))) \\cdot Matrix(\\mathcal{P}(w'))$$"
      ]
    },
    {
      "cell_type": "code",
      "execution_count": 48,
      "metadata": {
        "id": "VFd_hAbHsRh8",
        "colab": {
          "base_uri": "https://localhost:8080/"
        },
        "outputId": "c29c8bf6-f62c-402d-d96c-93c41d9943eb"
      },
      "outputs": [
        {
          "output_type": "stream",
          "name": "stdout",
          "text": [
            "\n",
            "\n",
            "Salida hash codificada a trenza del subgrupo puro generado:\n",
            "\n",
            "Palabra: [7, 6, 5, 4, 4, 4, 4, 4, 4, 4, 4, 4, 4, 4, 3, 3, 3, 3, 3, 3, 3, 3, -4, 5, 5, 5, 5, 5, 5, 5, 5, 5, -6, 7, 7, 6, 5, 4, 3, 3, 3, 3, 3, 3, 3, 3, 3, 3, 3, 3, 3, 3, 3, 3, 3, 3, 3, 3, 3, 3, -4, -5, -6, 7, 7, 6, 5, 4, 3, 3, 4, 5, 5, 5, -6, 7, 7, 7, 7, 6, 5, 5, 5, 5, 5, 5, -6, 7, 7, 7, 7, 6, 5, 5, 5, 5, 5, 5, 5, 5, -6, 7, 7, 7, 7, 7, 7, 7, 7, 7, 7, 6, 5, 4, 4, 4, 4, 4, 4, 5, 5, 5, 5, 5, 5, 5, 5, 4, 3, 3, 3, 3, 3, 3, 3, 3, -4, -5, -6, 7, 7, 7, 7, 6, 5, 4, 4, 5, 5, 5, 5, 5, -6, 7, 7, 7, 7, 7, 7, 7, 7, 7, 7, 7, 7, 7, 7, 6, 5, 4, 4, 4, 3, 3, 3, 3, 3, 3, 3, 3, -4, -5, -6, 7, 7, 7, 7, 7, 7, 7, 7, 7, 7, 6, 5, 4, 4, 4, 4, 4, 4, 4, 3, 3, 3, 3, 3, 3, 4, 4, 4, 4, 4, 5, 5, 5, 5, 4, 3, 3, 3, 3, 3, 3, -4, 5, 5, 5, 5, 5, 5, 5, -6, 7, 7, 7, 7, 7, 7, 7, 7, 7, 7, 7, 7, 7, 7, 6, 5, 4, 4, 5, -6, 7, 7, 7, 7, 7, 7, 6, 5, 5, 5, 5, 5, 5, 5, 5, -6, 7, 7, 7, 7, 7, 7, 6, 5, 4, 4, 4, 4, 4, 3, 3, 3, 3, 4, 4, 4, 4, 4, 4, 4, -5, -6, 7, 7, 7, 7, 7, 7, 7, 7, 6, 5, 5, 5, 5, 5, 5, 5, 5, -6, 7, 7, 7, 7, 7, 7, 6, 5, 4, 4, 4, 4, 4, 4, 4, 3, 3, 3, 3, 3, 3, 3, 3, -4, -5, -6, 7, 7, 7, 7, 7, 7, 6, 5, 5, 5, 5, 5, 5, 5, 5, 5, 4, 4, 4, 4, 4, 4, 5, 5, 5, 5, 4, 3, 3, 3, 3, 3, 3, 3, 3, 3, 3, 3, 3, 3, 3, 3, 3, 3, 3, 3, 3, -4, -5, -6, -7]\n",
            "Longitud palabra codificada: 390\n",
            "Permutación proyectada por la trenza codificada: (7)\n",
            "\n",
            "P(E(H(m))):\n",
            "Matriz:\n",
            "  [[1 0 0 0 0 0 0 0]\n",
            " [0 1 0 0 0 0 0 0]\n",
            " [0 7 6 0 0 0 0 0]\n",
            " [0 9 31 8 31 3 14 13]\n",
            " [0 8 25 2 18 31 7 24]\n",
            " [0 31 10 28 9 10 15 4]\n",
            " [0 7 9 4 10 3 4 6]\n",
            " [0 0 0 0 0 0 0 1]] \n",
            "\n",
            "Permutación:  (7)\n"
          ]
        }
      ],
      "source": [
        "# Codificamos resumen a BN\n",
        "start_time_encoderV = time.time()\n",
        "EHm = Encoder_WalnutDSA_Hash(Hm, N, CN4)[0]\n",
        "end_time_encoderV = time.time()\n",
        "print(\"\\n\\nSalida hash codificada a trenza del subgrupo puro generado:\\n\")\n",
        "print(\"Palabra:\", EHm.elementos)\n",
        "print(\"Longitud palabra codificada:\", len(EHm.elementos))\n",
        "print(\"Permutación proyectada por la trenza codificada:\", EHm.perm)\n",
        "\n",
        "# Evaluamos P(E(H(m)))\n",
        "start_time_PEHm = time.time()\n",
        "PEHm = E_Multiplicacion_P(EHm.elementos, N, q, t_values, eval)\n",
        "end_time_PEHm = time.time()\n",
        "print(\"\\nP(E(H(m))):\\nMatriz:\\n \", np.array(PEHm[0]), \"\\n\\nPermutación: \", PEHm[1])"
      ]
    },
    {
      "cell_type": "code",
      "execution_count": 49,
      "metadata": {
        "id": "-hGGdFaaSCc9",
        "colab": {
          "base_uri": "https://localhost:8080/"
        },
        "outputId": "21276bf0-cc8a-43cf-a71b-4de88955af06"
      },
      "outputs": [
        {
          "output_type": "stream",
          "name": "stdout",
          "text": [
            "\n",
            "\n",
            "E-Multiplicación para P(w) y Sig arbitrarias:\n",
            " [[9 6 21 4 22 28 27 0]\n",
            " [9 6 29 12 22 28 27 0]\n",
            " [9 6 29 12 22 18 21 0]\n",
            " [18 11 2 23 31 12 17 2]\n",
            " [3 13 24 26 12 29 20 15]\n",
            " [23 3 2 7 22 6 6 3]\n",
            " [31 3 30 31 31 5 3 27]\n",
            " [0 0 0 0 0 0 0 1]]\n",
            "\n",
            "Permutación final: (0 6 2 5 4 7 3 1)\n"
          ]
        }
      ],
      "source": [
        "# E-Multiplicamos P(w) * Sig\n",
        "start_time_PwSig = time.time()\n",
        "Pw_Sig = E_Multiplicacion(Pw[0], Pw[1], Sig.elementos, N, q, t_values, eval)\n",
        "end_time_PwSig = time.time()\n",
        "print(\"\\n\\nE-Multiplicación para P(w) y Sig arbitrarias:\\n\",\n",
        "      np.array(Pw_Sig[0]))\n",
        "print(\"\\nPermutación final:\", Pw_Sig[1])"
      ]
    },
    {
      "cell_type": "code",
      "execution_count": 50,
      "metadata": {
        "colab": {
          "base_uri": "https://localhost:8080/"
        },
        "id": "KcEJ680bbbEM",
        "outputId": "7931dd21-1eec-4fdd-c563-4c9340827ceb"
      },
      "outputs": [
        {
          "output_type": "stream",
          "name": "stdout",
          "text": [
            "⎡9   6   21  4   22  28  27  0 ⎤\n",
            "⎢                              ⎥\n",
            "⎢9   6   29  12  22  28  27  0 ⎥\n",
            "⎢                              ⎥\n",
            "⎢9   6   29  12  22  18  21  0 ⎥\n",
            "⎢                              ⎥\n",
            "⎢18  11  2   23  31  12  17  2 ⎥\n",
            "⎢                              ⎥\n",
            "⎢3   13  24  26  12  29  20  15⎥\n",
            "⎢                              ⎥\n",
            "⎢23  3   2   7   22  6   6   3 ⎥\n",
            "⎢                              ⎥\n",
            "⎢31  3   30  31  31  5   3   27⎥\n",
            "⎢                              ⎥\n",
            "⎣0   0   0   0   0   0   0   1 ⎦\n",
            "\n",
            "\n",
            "⎡9   6   21  4   22  28  27  0 ⎤\n",
            "⎢                              ⎥\n",
            "⎢9   6   29  12  22  28  27  0 ⎥\n",
            "⎢                              ⎥\n",
            "⎢9   6   29  12  22  18  21  0 ⎥\n",
            "⎢                              ⎥\n",
            "⎢18  11  2   23  31  12  17  2 ⎥\n",
            "⎢                              ⎥\n",
            "⎢3   13  24  26  12  29  20  15⎥\n",
            "⎢                              ⎥\n",
            "⎢23  3   2   7   22  6   6   3 ⎥\n",
            "⎢                              ⎥\n",
            "⎢31  3   30  31  31  5   3   27⎥\n",
            "⎢                              ⎥\n",
            "⎣0   0   0   0   0   0   0   1 ⎦\n",
            "\n",
            "¿Se verifica la identidad del firmante? True\n",
            "\n",
            "\n",
            "Tiempo de Ejecución de la Verificación:  28.51200532913208 segundos\n",
            "\n",
            "\n",
            "Tiempo de Ejecución de la Codificación:  0.009144067764282227 segundos\n",
            "\n",
            "\n",
            "Tiempo de Ejecución de la P-Evaluación:  5.881965637207031 segundos\n",
            "\n",
            "\n",
            "Tiempo de Ejecución de la E-Multiplicación:  22.610548973083496 segundos\n",
            "\n",
            "\n",
            "Tiempo de Ejecución de la comprobación:  0.010346651077270508 segundos\n"
          ]
        }
      ],
      "source": [
        "# Calculamos el miembro derecho de la igualdad\n",
        "start_time_Comp = time.time()\n",
        "Producto_Verificacion = Mult_Matrix_CF(PEHm[0], Pw_[0], q)\n",
        "\n",
        "# Comprobamos si se verifica la igualdad (y, por tanto, la firma)\n",
        "Igualdad_Verificacion = np.array_equal(np.array(Pw_Sig[0]), np.array(Producto_Verificacion))\n",
        "end_time_Comp = time.time()\n",
        "\n",
        "pprint(Pw_Sig[0])\n",
        "print(\"\\n\")\n",
        "pprint(Producto_Verificacion)\n",
        "print(\"\\n¿Se verifica la identidad del firmante?\", Igualdad_Verificacion)\n",
        "\n",
        "execution_time_encoderV = end_time_encoderV - start_time_encoderV\n",
        "execution_time_PEHm = end_time_PEHm - start_time_PEHm\n",
        "execution_time_PwSig = end_time_PwSig - start_time_PwSig\n",
        "execution_time_Comp = end_time_Comp - start_time_Comp\n",
        "execution_time_verification = execution_time_encoderV + execution_time_PEHm + \\\n",
        "execution_time_PwSig + execution_time_Comp\n",
        "\n",
        "\n",
        "print(\"\\n\\nTiempo de Ejecución de la Verificación: \",\n",
        "      execution_time_verification, \"segundos\")\n",
        "print(\"\\n\\nTiempo de Ejecución de la Codificación: \",\n",
        "      execution_time_encoderV, \"segundos\")\n",
        "print(\"\\n\\nTiempo de Ejecución de la P-Evaluación: \",\n",
        "      execution_time_PEHm, \"segundos\")\n",
        "print(\"\\n\\nTiempo de Ejecución de la E-Multiplicación: \",\n",
        "      execution_time_PwSig, \"segundos\")\n",
        "print(\"\\n\\nTiempo de Ejecución de la comprobación: \",\n",
        "      execution_time_Comp, \"segundos\")"
      ]
    },
    {
      "cell_type": "markdown",
      "source": [
        "# CRIPTOSISTEMAS BASADOS EN TRENZAS"
      ],
      "metadata": {
        "id": "-k9XfBIZLUhw"
      }
    },
    {
      "cell_type": "markdown",
      "source": [
        "La finalidad de los dos protocolos estudiados en la sección es, dadas dos partes $A$ y $B$ que desean comunicarse forma segura a través de un canal inseguro, establecer un secreto compartido. A partir de este secreto compartido, por ejemplo, podrían derivar claves simétricas con las que cifrar y descifrar los correspondientes mensajes, garantizando la confidencialidad durante la comunicación.\n",
        "\n",
        "Para ello, se explota el problema del conjugado, por el cual, dadas las trenzas $\\beta_1$, $\\beta_2 = \\beta_3\\beta_1\\beta_3^{-1} \\in \\mathbb{B}_N$, se vuelve computacionalmente intratable, encontrar algún $\\beta_3$ que verfique la definición de $\\beta_2$."
      ],
      "metadata": {
        "id": "5wp_qDUtzCbm"
      }
    },
    {
      "cell_type": "markdown",
      "source": [
        " ## Protocolo Conmutador - Anshel and Goldfeld"
      ],
      "metadata": {
        "id": "F93PK0uay3rJ"
      }
    },
    {
      "cell_type": "markdown",
      "source": [
        "Se comienza fijando un grupo trenzado $\\mathbb{B}_N$ y dos subgrupos públicos , de la forma\n",
        "\n",
        "\\begin{align*}\n",
        "\t& S = < s_1, ..., s_{n_1}> \\; \\subseteq \\mathbb{B}_N\\\\\n",
        "\t& T = < t_1, ..., t_{n_2}> \\; \\subseteq \\mathbb{B}_N,\n",
        "\\end{align*}\n",
        "\n",
        "correspondiendo a las partes de la comunicación $A$ y $B$, respectivamente."
      ],
      "metadata": {
        "id": "WgA3aKak1BsP"
      }
    },
    {
      "cell_type": "code",
      "source": [
        "# grado del grupo trenzado sobre el que construir el protocolo\n",
        "N = 8\n",
        "\n",
        "# índices de los generadores de los subgrupos públicos\n",
        "S = {1, 3, 5, 7}  # subgrupo asociado a la parte A\n",
        "T = {2, 4, 6}     # subgrupo asociado a la parte B"
      ],
      "metadata": {
        "id": "XY0bgrX_2Ccd"
      },
      "execution_count": 51,
      "outputs": []
    },
    {
      "cell_type": "markdown",
      "source": [
        "Cada parte debe generar una trenza secreta perteneciente a su subgrupo público correspondiente (utilizando solo generadores positivos):\n",
        "\n",
        "\n",
        "1.   Secreto A: $a = s_{i_1}, ..., s_{i_{k_1}}$\n",
        "2.   Secreto B: $b = t_{i_1}, ..., t_{i_{k_2}}$\n",
        "\n",
        "Para ello, se ha implementado el método \"GeneradorSecretoProtocolo(generadores_permitidos, longitud_max)\", que genera aleatoriamente una palabra a partir de los generadores pasados por parámetros, y con una longitud entre longitud_max // 2 y longitud_max."
      ],
      "metadata": {
        "id": "QkMtJCQ92kIK"
      }
    },
    {
      "source": [
        "import random\n",
        "\n",
        "def GeneradorSecretoProtocolo(generadores_subgrupo, longitud_max, permiteInv):\n",
        "  \"\"\"\n",
        "  Genera una cadena de enteros con valoreen generadores_subgrupo y\n",
        "  con longitud máxima longitud_max.\n",
        "\n",
        "  Args:\n",
        "    generadores_subgrupo: Lista de enteros (en valor absoluto) permitidos.\n",
        "    longitud_max: Longitud máxima de la cadena.\n",
        "    permiteInv: Variable booleana que indica si te utilizan generadores inversos\n",
        "\n",
        "  Returns:\n",
        "    Una cadena de enteros que cumple con las condiciones especificadas.\n",
        "  \"\"\"\n",
        "\n",
        "  # Generamos una lista con los posibles valores (positivos y negativos)\n",
        "  posibles_valores = []\n",
        "  for valor in generadores_subgrupo:\n",
        "    posibles_valores.append(valor)\n",
        "    if (permiteInv):\n",
        "      posibles_valores.append(-valor)\n",
        "\n",
        "  # Generamos una cadena aleatoria con los posibles valores\n",
        "  longitud = random.randint(longitud_max//2, longitud_max)\n",
        "  cadena = random.choices(posibles_valores, k=longitud)\n",
        "\n",
        "  return cadena\n",
        "\n",
        "# Ejemplo de uso\n",
        "generadores_subgrupo = [2, 3, 4, 5]\n",
        "longitud_max = 30\n",
        "\n",
        "cadena_generada = GeneradorSecretoProtocolo(generadores_subgrupo, longitud_max,\n",
        "  False)\n",
        "print(cadena_generada)"
      ],
      "cell_type": "code",
      "metadata": {
        "colab": {
          "base_uri": "https://localhost:8080/"
        },
        "id": "2j1dXOUoSsiK",
        "outputId": "219f2fb9-9fdc-48c9-dfa5-cbb054f8303c"
      },
      "execution_count": 52,
      "outputs": [
        {
          "output_type": "stream",
          "name": "stdout",
          "text": [
            "[4, 2, 4, 4, 3, 4, 2, 4, 4, 4, 5, 3, 2, 4, 3, 2, 2, 4, 5, 2, 2, 4, 3, 4, 4, 2]\n"
          ]
        }
      ]
    },
    {
      "cell_type": "markdown",
      "source": [
        "Una vez implementado \"GeneradorSecretoProtocolo\", lo empleamos para generar el par de secretos $secreto_a$ y $secreto_b$ asociados a las partes $A$ y $B$, respectivmente,"
      ],
      "metadata": {
        "id": "5mpB_G6U37Y9"
      }
    },
    {
      "cell_type": "code",
      "source": [
        "# Generación de secretos para cada parte\n",
        "secreto_a = Braid(N, GeneradorSecretoProtocolo(S, 20, False))\n",
        "secreto_b = Braid(N, GeneradorSecretoProtocolo(T, 20, False))\n",
        "\n",
        "print(\"Secreto a:\", secreto_a.showBraid())\n",
        "print(\"Secreto b:\", secreto_b.showBraid())\n"
      ],
      "metadata": {
        "colab": {
          "base_uri": "https://localhost:8080/"
        },
        "id": "xVCJ_4VJ4gJz",
        "outputId": "f2392db0-c61d-49f5-ff79-37f49e9c419a"
      },
      "execution_count": 53,
      "outputs": [
        {
          "output_type": "stream",
          "name": "stdout",
          "text": [
            "Secreto a: [3 7 5 5 7 7 1 7 5 7 1 3 3 5 1]\n",
            "Secreto b: [2 4 4 6 6 6 4 4 6 6]\n"
          ]
        }
      ]
    },
    {
      "cell_type": "markdown",
      "source": [
        "El siguiente paso del protocolo es computar los siguientes conjuntos de pares, de nuevo uno por parte implicada en la comunicación:\n",
        "\n",
        "\n",
        "1.   Conjunto de pares de A: $Pares_A = \\{(t_1, at_1a^{-1}), ..., (t_n, at_na^{-1})\\}$\n",
        "2.   Conjunto de pares de B: $Pares_B = \\{(s_1, bs_1b^{-1}), ..., (s_n, bs_nb^{-1})\\}$\n",
        "\n"
      ],
      "metadata": {
        "id": "ZYQmvL4z45U0"
      }
    },
    {
      "cell_type": "code",
      "source": [
        "# Inicializamos una lista vacía para almacenar los mensajes\n",
        "Pares_A = {}\n",
        "Pares_B = {}\n",
        "\n",
        "# La parte A computa su conjunto de partes, conjungando cada generador del\n",
        "# subgrupo público de B por su secreto a\n",
        "for gen in T:\n",
        "  #aux = [gen, secreto_a.elementos + [gen] + secreto_a.inverseBraid().elementos]\n",
        "  #Pares_A.add(aux)  # Agregamos el par al conjunto de pares de A\n",
        "  Pares_A [gen] = secreto_a.elementos + [gen] + secreto_a.inverseBraid().elementos\n",
        "\n",
        "# La parte B computa su conjunto de partes, conjungando cada generador del\n",
        "# subgrupo público de A por su secreto b\n",
        "for gen in S:\n",
        "  #aux = [gen, secreto_b.elementos + [gen] + secreto_b.inverseBraid().elementos]\n",
        "  #Pares_B.append(aux)  # Agregamos el par al conjunto de pares de B\n",
        "  Pares_B [gen] = secreto_b.elementos + [gen] + secreto_b.inverseBraid().elementos\n",
        "\n",
        "\n",
        "# Ahora la lista 'mensajes' contiene todos los pares [gen, sec + gen + sec^{-1}]\n",
        "print(\"Conjunto de pares de A:\", Pares_A)\n",
        "print(\"Conjunto de pares de B:\", Pares_B)"
      ],
      "metadata": {
        "colab": {
          "base_uri": "https://localhost:8080/"
        },
        "id": "nnK3Gd5ETSLx",
        "outputId": "c5ce785f-8737-4988-9f19-b490305f8bbd"
      },
      "execution_count": 54,
      "outputs": [
        {
          "output_type": "stream",
          "name": "stdout",
          "text": [
            "Conjunto de pares de A: {2: [3, 7, 5, 5, 7, 7, 1, 7, 5, 7, 1, 3, 3, 5, 1, 2, -1, -5, -3, -3, -1, -7, -5, -7, -1, -7, -7, -5, -5, -7, -3], 4: [3, 7, 5, 5, 7, 7, 1, 7, 5, 7, 1, 3, 3, 5, 1, 4, -1, -5, -3, -3, -1, -7, -5, -7, -1, -7, -7, -5, -5, -7, -3], 6: [3, 7, 5, 5, 7, 7, 1, 7, 5, 7, 1, 3, 3, 5, 1, 6, -1, -5, -3, -3, -1, -7, -5, -7, -1, -7, -7, -5, -5, -7, -3]}\n",
            "Conjunto de pares de B: {1: [2, 4, 4, 6, 6, 6, 4, 4, 6, 6, 1, -6, -6, -4, -4, -6, -6, -6, -4, -4, -2], 3: [2, 4, 4, 6, 6, 6, 4, 4, 6, 6, 3, -6, -6, -4, -4, -6, -6, -6, -4, -4, -2], 5: [2, 4, 4, 6, 6, 6, 4, 4, 6, 6, 5, -6, -6, -4, -4, -6, -6, -6, -4, -4, -2], 7: [2, 4, 4, 6, 6, 6, 4, 4, 6, 6, 7, -6, -6, -4, -4, -6, -6, -6, -4, -4, -2]}\n"
          ]
        }
      ]
    },
    {
      "cell_type": "markdown",
      "source": [
        "A continuación, las partes se intercambian sus conjuntos de partes, y cada una concluye computando el secreto compartido, el cual se obtiene escogiendo los pares que se corresponden con los generadores que forman su secreto, de la siguiente forma:\n",
        "\n",
        "\n",
        "1.   Secreto Compartido A: $SecretoCompartidoA = (bs_{i_1}b^{-1}), ..., (bs_{i_1}b^{-1})a^{-1}$\n",
        "2.   Secreto Compartido B: $SecretoCompartidoB = ((as_{i_1}a^{-1}), ..., (as_{i_1}a^{-1})b^{-1})^{-1}$\n",
        "\n",
        "Fácilmente se ve que:\n",
        "$$SecretoCompartidoA = bab^{-1}a^{-1} = (aba^{-1}b^{-1})^{-1} = SecretoCompartidoB$$"
      ],
      "metadata": {
        "id": "9xxzs9BK8xjo"
      }
    },
    {
      "cell_type": "code",
      "source": [
        "# prompt: implementa un método con los siguientes parámetros: P1 palabra formada por generadores P2 conjunto clave valor donde cada generaodr tiene una palabra asignada\n",
        "\n",
        "def calcular_secreto_compartido(secreto, conjunto_pares):\n",
        "  \"\"\"\n",
        "  Calcula el secreto compartido a partir de una palabra secreto y un set\n",
        "  conjunto_pares que mapea generadores a palabras.\n",
        "\n",
        "  Args:\n",
        "    secreto: Trenza que representa el secreto de la parte en cuestión\n",
        "    conjunto_pares: Un set que mapea generadores (enteros) a palabras\n",
        "    (listas de enteros).\n",
        "\n",
        "  Returns:\n",
        "    Una lista de enteros representando el secreto compartido.\n",
        "  \"\"\"\n",
        "  secreto_compartido = []   # Palabra donde almacenar secreto compartido\n",
        "  palabra = secreto.elementos  # Palabra del secreto\n",
        "\n",
        "  # Se iteran los generadores del secreto\n",
        "  for gen in palabra:\n",
        "    # Se busca cada generador en el set, concatenando su conjugado asociado\n",
        "    if gen in conjunto_pares:\n",
        "      secreto_compartido += conjunto_pares[gen]\n",
        "\n",
        "  # Último elemento del secreto\n",
        "  secreto_compartido += secreto.inverseBraid().elementos\n",
        "\n",
        "  return secreto_compartido\n",
        "\n",
        "# Ejemplo de uso\n",
        "P1 = Braid(N, [2, 4, 6])\n",
        "P2 = {2: [1, 2, 3], 4: [4, 5, 6], 6: [7, 8, 9]}\n",
        "\n",
        "secreto_compartido = calcular_secreto_compartido(P1, P2)\n",
        "print(secreto_compartido)  # Salida: [1, 2, 3, -6, -5, -4, 7, 8, 9]\n"
      ],
      "metadata": {
        "colab": {
          "base_uri": "https://localhost:8080/"
        },
        "id": "1-Ywb97P-fQX",
        "outputId": "fa0ac33f-1019-4142-c62f-fcd8e2ed78a4"
      },
      "execution_count": 55,
      "outputs": [
        {
          "output_type": "stream",
          "name": "stdout",
          "text": [
            "[1, 2, 3, 4, 5, 6, 7, 8, 9, -6, -4, -2]\n"
          ]
        }
      ]
    },
    {
      "cell_type": "markdown",
      "source": [
        "Computemos utilizando el método \"calcular_secreto_compartido\" el secreto compartido asociado a cada parte, comprando finalmente que ambas partes cuentan con el mismo secreto.\n",
        "\n"
      ],
      "metadata": {
        "id": "PifdY1OuFoyy"
      }
    },
    {
      "cell_type": "code",
      "source": [
        "# Secretos compartidos computados por cada parte\n",
        "Secreto_Compartido_A = Braid(N, ReduccionLibre(calcular_secreto_compartido(secreto_a, Pares_B)))\n",
        "Secreto_Compartido_B = Braid(N, ReduccionLibre(calcular_secreto_compartido(secreto_b, Pares_A))).inverseBraid()\n",
        "\n",
        "print(\"Secreto compartido computado por parte A:\", Secreto_Compartido_A.elementos)\n",
        "print(\"Secreto compartido computado por parte B:\", Secreto_Compartido_B.elementos)\n",
        "\n",
        "print(\"¿Han llegado ambas partes al mismo secreto compartido?:\",\n",
        "      Secreto_Compartido_A.elementos == Secreto_Compartido_B.elementos)"
      ],
      "metadata": {
        "colab": {
          "base_uri": "https://localhost:8080/"
        },
        "id": "EZECcK05FogW",
        "outputId": "5572b66f-92e6-46fc-b152-9c861fecf489"
      },
      "execution_count": 56,
      "outputs": [
        {
          "output_type": "stream",
          "name": "stdout",
          "text": [
            "Secreto compartido computado por parte A: [2, 4, 4, 6, 6, 6, 4, 4, 6, 6, 3, 7, 5, 5, 7, 7, 1, 7, 5, 7, 1, 3, 3, 5, 1, -6, -6, -4, -4, -6, -6, -6, -4, -4, -2, -1, -5, -3, -3, -1, -7, -5, -7, -1, -7, -7, -5, -5, -7, -3]\n",
            "Secreto compartido computado por parte B: [2, 4, 4, 6, 6, 6, 4, 4, 6, 6, 3, 7, 5, 5, 7, 7, 1, 7, 5, 7, 1, 3, 3, 5, 1, -6, -6, -4, -4, -6, -6, -6, -4, -4, -2, -1, -5, -3, -3, -1, -7, -5, -7, -1, -7, -7, -5, -5, -7, -3]\n",
            "¿Han llegado ambas partes al mismo secreto compartido?: True\n"
          ]
        }
      ]
    },
    {
      "cell_type": "markdown",
      "source": [
        "## Protocolo conjugador - Ko-Lee-Cheon"
      ],
      "metadata": {
        "id": "lotOsv9vIjbM"
      }
    },
    {
      "cell_type": "markdown",
      "source": [
        "Se comienza fijando un grupo trenzado $\\mathbb{B}_{2N}$ y dos subgrupos públicos , de la forma\n",
        "\n",
        "\\begin{align*}\n",
        "\t& L\\mathbb{B}_{2N} = <b_1, ..., b_{N_1}>  \\;\\subset \\mathbb{B}_{2N}\\\\\n",
        "\t& U\\mathbb{B}_{2N} = <b_{N+1}, ..., b_{2N-1}> \\; \\subset \\mathbb{B}_{2N}\\\\\n",
        "\\end{align*}\n",
        "\n",
        "correspondiendo a las partes de la comunicación $A$ y $B$, respectivamente."
      ],
      "metadata": {
        "id": "UxKYBO-4Ix1n"
      }
    },
    {
      "cell_type": "code",
      "source": [
        "# grado del grupo trenzado sobre el que construir el protocolo\n",
        "N = 8\n",
        "\n",
        "# índices de los generadores de los subgrupos públicos\n",
        "S = {1, 2, 3}  # subgrupo asociado a la parte A\n",
        "T = {5, 6, 7}     # subgrupo asociado a la parte B"
      ],
      "metadata": {
        "id": "R6mDcTfuKRI1"
      },
      "execution_count": 57,
      "outputs": []
    },
    {
      "cell_type": "markdown",
      "source": [
        "Se utiliza el método \"GeneradorSecretoProtocolo\" para elegir un secreto por subgrupo, perteneciente a cada parte. Además, se genera una trenza $x$ compartida, presumiblemente complicada."
      ],
      "metadata": {
        "id": "K9rVLGWvKMPX"
      }
    },
    {
      "cell_type": "code",
      "source": [
        "# Secreto generados para cada parte\n",
        "secreto_parte_A = Braid(N, GeneradorSecretoProtocolo(S, 20, True))\n",
        "secreto_parte_B = Braid(N, GeneradorSecretoProtocolo(T, 20, True))\n",
        "trenza_compartida_x = Braid(N, GeneradorSecretoProtocolo({1,2,3,4,5,6,7}, 20, True))\n",
        "\n",
        "print(\"Secreto a:\", secreto_parte_A.showBraid())\n",
        "print(\"Secreto b:\", secreto_parte_B.showBraid())\n",
        "print(\"Trenza compartida x:\", trenza_compartida_x.showBraid())"
      ],
      "metadata": {
        "colab": {
          "base_uri": "https://localhost:8080/"
        },
        "id": "EAu88HKVIoje",
        "outputId": "442d965f-3ec4-4587-ae39-cc2240d5dc04"
      },
      "execution_count": 58,
      "outputs": [
        {
          "output_type": "stream",
          "name": "stdout",
          "text": [
            "Secreto a: [-3 -2 -1 -3 -3 1 -3 -2 -3 2 2 3 -2 1 -1]\n",
            "Secreto b: [7 -5 -5 7 -6 7 5 6 -5 -7 6]\n",
            "Trenza compartida x: [-6 6 -3 1 5 4 -7 3 -1 6 4 -1 1]\n"
          ]
        }
      ]
    },
    {
      "cell_type": "markdown",
      "source": [
        "Cada parte debe conjugar la trenza compartida con su secreto generado, intercambiándose tales conjugados, de forma que:\n",
        "\n",
        "\n",
        "1.   Parte A calcula y envía a B el conjugado: $y_a = axa^{-1}$\n",
        "2.   Parte B calcula y envía a A el conjugado: $y_b = bxb^{-1}$\n",
        "\n"
      ],
      "metadata": {
        "id": "HUVjR5IlMUSh"
      }
    },
    {
      "cell_type": "code",
      "source": [
        "# Conjugado que calcula la parte A\n",
        "conjugado_parte_A = secreto_parte_A.concatenateBraid(trenza_compartida_x).concatenateBraid(secreto_parte_A.inverseBraid())\n",
        "\n",
        "# Conjugado que calcula la parte B\n",
        "conjugado_parte_B = secreto_parte_B.concatenateBraid(trenza_compartida_x).concatenateBraid(secreto_parte_B.inverseBraid())\n",
        "\n",
        "print(\"Conjugado de la parte A:\", conjugado_parte_A.showBraid())\n",
        "print(\"Conjugado de la parte B:\", conjugado_parte_B.showBraid())"
      ],
      "metadata": {
        "colab": {
          "base_uri": "https://localhost:8080/"
        },
        "id": "sEikufXjKYwB",
        "outputId": "ed18dfa4-0b10-4d19-ea73-dad40d0eb24b"
      },
      "execution_count": 59,
      "outputs": [
        {
          "output_type": "stream",
          "name": "stdout",
          "text": [
            "Conjugado de la parte A: [-3 -2 -1 -3 -3 1 -3 -2 -3 2 2 3 -2 1 -1 -6 6 -3 1 5 4 -7 3 -1 6 4 -1 1 1 -1 2 -3 -2 -2 3 2 3 -1 3 3 1 2 3]\n",
            "Conjugado de la parte B: [7 -5 -5 7 -6 7 5 6 -5 -7 6 -6 6 -3 1 5 4 -7 3 -1 6 4 -1 1 -6 7 5 -6 -5 -7 6 -7 5 5 -7]\n"
          ]
        }
      ]
    },
    {
      "cell_type": "markdown",
      "source": [
        "El protocolo de establecimiento de secreto compartido finaliza con cada parte computando tal secreto, de la siguiente forma:\n",
        "\n",
        "\n",
        "1.   Cómputo del secreto compartido por parte de A: $SecretoCompartidoA = ay_ba^{-1} = abx^{-1}b^{-1}a^{-1}$\n",
        "2.   Cómputo del secreto compartido por parte de B: $SecretoCompartidoB = by_ab^{-1} = baxa^{-1}b^{-1}$\n",
        "\n",
        "Dado que los subgrupos $L\\mathbb{B}_{2N}$ y $U\\mathbb{B}_{2N}$ conmutan, se\n",
        "obtiene que:\n",
        "\n",
        "$$SecretoCompartidoB = baxa^{-1}b^{-1} = abx^{-1}b^{-1}a^{-1} =  SecretoCompartido$$  \n",
        "\n",
        "Computemos el secreto compartido asociado a cada parte, comprando finalmente que ambas partes cuentan con el mismo secreto."
      ],
      "metadata": {
        "id": "E_9RRT63Ntcs"
      }
    },
    {
      "cell_type": "code",
      "source": [
        "# Secretos compartidos computados por cada parte\n",
        "Secreto_Compartido_A = secreto_parte_A.concatenateBraid(conjugado_parte_B).concatenateBraid(secreto_parte_A.inverseBraid())\n",
        "Secreto_Compartido_B = secreto_parte_B.concatenateBraid(conjugado_parte_A).concatenateBraid(secreto_parte_B.inverseBraid())\n",
        "\n",
        "print(\"Secreto compartido computado por parte A:\", Secreto_Compartido_A.elementos)\n",
        "print(\"Secreto compartido computado por parte B:\", Secreto_Compartido_B.elementos)\n",
        "\n",
        "print(\"¿Han llegado ambas partes al mismo secreto compartido?:\",\n",
        "      Secreto_Compartido_A.elementos == Secreto_Compartido_B.elementos)\n",
        "\n",
        "print(\"Aunque no coincidan las palabras, está demostrado que son equivalentes. \\\n",
        "Para poder verificarlo habría que implementar la forma canónica de Garside, que \\\n",
        "      es única para cada trenza salvo equivalencias\")"
      ],
      "metadata": {
        "colab": {
          "base_uri": "https://localhost:8080/"
        },
        "id": "gN4NhRttNcmh",
        "outputId": "fa0d8e39-529a-4383-d360-52c8f6b8ecf1"
      },
      "execution_count": 60,
      "outputs": [
        {
          "output_type": "stream",
          "name": "stdout",
          "text": [
            "Secreto compartido computado por parte A: [-3, -2, -1, -3, -3, 1, -3, -2, -3, 2, 2, 3, -2, 1, -1, 7, -5, -5, 7, -6, 7, 5, 6, -5, -7, 6, -6, 6, -3, 1, 5, 4, -7, 3, -1, 6, 4, -1, 1, -6, 7, 5, -6, -5, -7, 6, -7, 5, 5, -7, 1, -1, 2, -3, -2, -2, 3, 2, 3, -1, 3, 3, 1, 2, 3]\n",
            "Secreto compartido computado por parte B: [7, -5, -5, 7, -6, 7, 5, 6, -5, -7, 6, -3, -2, -1, -3, -3, 1, -3, -2, -3, 2, 2, 3, -2, 1, -1, -6, 6, -3, 1, 5, 4, -7, 3, -1, 6, 4, -1, 1, 1, -1, 2, -3, -2, -2, 3, 2, 3, -1, 3, 3, 1, 2, 3, -6, 7, 5, -6, -5, -7, 6, -7, 5, 5, -7]\n",
            "¿Han llegado ambas partes al mismo secreto compartido?: False\n",
            "Aunque no coincidan las palabras, está demostrado que son equivalentes. Para poder verificarlo habría que implementar la forma canónica de Garside, que       es única para cada trenza salvo equivalencias\n"
          ]
        }
      ]
    },
    {
      "cell_type": "markdown",
      "source": [
        "Aunque no coincidan las palabras, está demostrado que son equivalentes.\n",
        "Para poder verificarlo habría que implementar la forma canónica de Garside, que\n",
        "es única para cada trenza salvo equivalencias."
      ],
      "metadata": {
        "id": "ZQRe9emtQF0A"
      }
    }
  ],
  "metadata": {
    "colab": {
      "provenance": [],
      "toc_visible": true
    },
    "kernelspec": {
      "display_name": "Python 3",
      "name": "python3"
    },
    "language_info": {
      "name": "python"
    }
  },
  "nbformat": 4,
  "nbformat_minor": 0
}